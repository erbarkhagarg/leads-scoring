{
 "cells": [
  {
   "cell_type": "code",
   "execution_count": 122,
   "metadata": {},
   "outputs": [],
   "source": [
    "# Importing Pandas and NumPy\n",
    "import pandas as pd\n",
    "import numpy as np\n",
    "import matplotlib.pyplot as plt\n",
    "import seaborn as sns"
   ]
  },
  {
   "cell_type": "markdown",
   "metadata": {},
   "source": [
    "## Reading the data set"
   ]
  },
  {
   "cell_type": "code",
   "execution_count": 123,
   "metadata": {},
   "outputs": [
    {
     "data": {
      "text/html": [
       "<div>\n",
       "<style scoped>\n",
       "    .dataframe tbody tr th:only-of-type {\n",
       "        vertical-align: middle;\n",
       "    }\n",
       "\n",
       "    .dataframe tbody tr th {\n",
       "        vertical-align: top;\n",
       "    }\n",
       "\n",
       "    .dataframe thead th {\n",
       "        text-align: right;\n",
       "    }\n",
       "</style>\n",
       "<table border=\"1\" class=\"dataframe\">\n",
       "  <thead>\n",
       "    <tr style=\"text-align: right;\">\n",
       "      <th></th>\n",
       "      <th>Prospect ID</th>\n",
       "      <th>Lead Number</th>\n",
       "      <th>Lead Origin</th>\n",
       "      <th>Lead Source</th>\n",
       "      <th>Do Not Email</th>\n",
       "      <th>Do Not Call</th>\n",
       "      <th>Converted</th>\n",
       "      <th>TotalVisits</th>\n",
       "      <th>Total Time Spent on Website</th>\n",
       "      <th>Page Views Per Visit</th>\n",
       "      <th>...</th>\n",
       "      <th>Get updates on DM Content</th>\n",
       "      <th>Lead Profile</th>\n",
       "      <th>City</th>\n",
       "      <th>Asymmetrique Activity Index</th>\n",
       "      <th>Asymmetrique Profile Index</th>\n",
       "      <th>Asymmetrique Activity Score</th>\n",
       "      <th>Asymmetrique Profile Score</th>\n",
       "      <th>I agree to pay the amount through cheque</th>\n",
       "      <th>A free copy of Mastering The Interview</th>\n",
       "      <th>Last Notable Activity</th>\n",
       "    </tr>\n",
       "  </thead>\n",
       "  <tbody>\n",
       "    <tr>\n",
       "      <th>0</th>\n",
       "      <td>7927b2df-8bba-4d29-b9a2-b6e0beafe620</td>\n",
       "      <td>660737</td>\n",
       "      <td>API</td>\n",
       "      <td>Olark Chat</td>\n",
       "      <td>No</td>\n",
       "      <td>No</td>\n",
       "      <td>0</td>\n",
       "      <td>0.0</td>\n",
       "      <td>0</td>\n",
       "      <td>0.0</td>\n",
       "      <td>...</td>\n",
       "      <td>No</td>\n",
       "      <td>Select</td>\n",
       "      <td>Select</td>\n",
       "      <td>02.Medium</td>\n",
       "      <td>02.Medium</td>\n",
       "      <td>15.0</td>\n",
       "      <td>15.0</td>\n",
       "      <td>No</td>\n",
       "      <td>No</td>\n",
       "      <td>Modified</td>\n",
       "    </tr>\n",
       "    <tr>\n",
       "      <th>1</th>\n",
       "      <td>2a272436-5132-4136-86fa-dcc88c88f482</td>\n",
       "      <td>660728</td>\n",
       "      <td>API</td>\n",
       "      <td>Organic Search</td>\n",
       "      <td>No</td>\n",
       "      <td>No</td>\n",
       "      <td>0</td>\n",
       "      <td>5.0</td>\n",
       "      <td>674</td>\n",
       "      <td>2.5</td>\n",
       "      <td>...</td>\n",
       "      <td>No</td>\n",
       "      <td>Select</td>\n",
       "      <td>Select</td>\n",
       "      <td>02.Medium</td>\n",
       "      <td>02.Medium</td>\n",
       "      <td>15.0</td>\n",
       "      <td>15.0</td>\n",
       "      <td>No</td>\n",
       "      <td>No</td>\n",
       "      <td>Email Opened</td>\n",
       "    </tr>\n",
       "    <tr>\n",
       "      <th>2</th>\n",
       "      <td>8cc8c611-a219-4f35-ad23-fdfd2656bd8a</td>\n",
       "      <td>660727</td>\n",
       "      <td>Landing Page Submission</td>\n",
       "      <td>Direct Traffic</td>\n",
       "      <td>No</td>\n",
       "      <td>No</td>\n",
       "      <td>1</td>\n",
       "      <td>2.0</td>\n",
       "      <td>1532</td>\n",
       "      <td>2.0</td>\n",
       "      <td>...</td>\n",
       "      <td>No</td>\n",
       "      <td>Potential Lead</td>\n",
       "      <td>Mumbai</td>\n",
       "      <td>02.Medium</td>\n",
       "      <td>01.High</td>\n",
       "      <td>14.0</td>\n",
       "      <td>20.0</td>\n",
       "      <td>No</td>\n",
       "      <td>Yes</td>\n",
       "      <td>Email Opened</td>\n",
       "    </tr>\n",
       "    <tr>\n",
       "      <th>3</th>\n",
       "      <td>0cc2df48-7cf4-4e39-9de9-19797f9b38cc</td>\n",
       "      <td>660719</td>\n",
       "      <td>Landing Page Submission</td>\n",
       "      <td>Direct Traffic</td>\n",
       "      <td>No</td>\n",
       "      <td>No</td>\n",
       "      <td>0</td>\n",
       "      <td>1.0</td>\n",
       "      <td>305</td>\n",
       "      <td>1.0</td>\n",
       "      <td>...</td>\n",
       "      <td>No</td>\n",
       "      <td>Select</td>\n",
       "      <td>Mumbai</td>\n",
       "      <td>02.Medium</td>\n",
       "      <td>01.High</td>\n",
       "      <td>13.0</td>\n",
       "      <td>17.0</td>\n",
       "      <td>No</td>\n",
       "      <td>No</td>\n",
       "      <td>Modified</td>\n",
       "    </tr>\n",
       "    <tr>\n",
       "      <th>4</th>\n",
       "      <td>3256f628-e534-4826-9d63-4a8b88782852</td>\n",
       "      <td>660681</td>\n",
       "      <td>Landing Page Submission</td>\n",
       "      <td>Google</td>\n",
       "      <td>No</td>\n",
       "      <td>No</td>\n",
       "      <td>1</td>\n",
       "      <td>2.0</td>\n",
       "      <td>1428</td>\n",
       "      <td>1.0</td>\n",
       "      <td>...</td>\n",
       "      <td>No</td>\n",
       "      <td>Select</td>\n",
       "      <td>Mumbai</td>\n",
       "      <td>02.Medium</td>\n",
       "      <td>01.High</td>\n",
       "      <td>15.0</td>\n",
       "      <td>18.0</td>\n",
       "      <td>No</td>\n",
       "      <td>No</td>\n",
       "      <td>Modified</td>\n",
       "    </tr>\n",
       "  </tbody>\n",
       "</table>\n",
       "<p>5 rows × 37 columns</p>\n",
       "</div>"
      ],
      "text/plain": [
       "                            Prospect ID  Lead Number              Lead Origin  \\\n",
       "0  7927b2df-8bba-4d29-b9a2-b6e0beafe620       660737                      API   \n",
       "1  2a272436-5132-4136-86fa-dcc88c88f482       660728                      API   \n",
       "2  8cc8c611-a219-4f35-ad23-fdfd2656bd8a       660727  Landing Page Submission   \n",
       "3  0cc2df48-7cf4-4e39-9de9-19797f9b38cc       660719  Landing Page Submission   \n",
       "4  3256f628-e534-4826-9d63-4a8b88782852       660681  Landing Page Submission   \n",
       "\n",
       "      Lead Source Do Not Email Do Not Call  Converted  TotalVisits  \\\n",
       "0      Olark Chat           No          No          0          0.0   \n",
       "1  Organic Search           No          No          0          5.0   \n",
       "2  Direct Traffic           No          No          1          2.0   \n",
       "3  Direct Traffic           No          No          0          1.0   \n",
       "4          Google           No          No          1          2.0   \n",
       "\n",
       "   Total Time Spent on Website  Page Views Per Visit          ...           \\\n",
       "0                            0                   0.0          ...            \n",
       "1                          674                   2.5          ...            \n",
       "2                         1532                   2.0          ...            \n",
       "3                          305                   1.0          ...            \n",
       "4                         1428                   1.0          ...            \n",
       "\n",
       "  Get updates on DM Content    Lead Profile    City  \\\n",
       "0                        No          Select  Select   \n",
       "1                        No          Select  Select   \n",
       "2                        No  Potential Lead  Mumbai   \n",
       "3                        No          Select  Mumbai   \n",
       "4                        No          Select  Mumbai   \n",
       "\n",
       "  Asymmetrique Activity Index Asymmetrique Profile Index  \\\n",
       "0                   02.Medium                  02.Medium   \n",
       "1                   02.Medium                  02.Medium   \n",
       "2                   02.Medium                    01.High   \n",
       "3                   02.Medium                    01.High   \n",
       "4                   02.Medium                    01.High   \n",
       "\n",
       "  Asymmetrique Activity Score Asymmetrique Profile Score  \\\n",
       "0                        15.0                       15.0   \n",
       "1                        15.0                       15.0   \n",
       "2                        14.0                       20.0   \n",
       "3                        13.0                       17.0   \n",
       "4                        15.0                       18.0   \n",
       "\n",
       "  I agree to pay the amount through cheque  \\\n",
       "0                                       No   \n",
       "1                                       No   \n",
       "2                                       No   \n",
       "3                                       No   \n",
       "4                                       No   \n",
       "\n",
       "  A free copy of Mastering The Interview Last Notable Activity  \n",
       "0                                     No              Modified  \n",
       "1                                     No          Email Opened  \n",
       "2                                    Yes          Email Opened  \n",
       "3                                     No              Modified  \n",
       "4                                     No              Modified  \n",
       "\n",
       "[5 rows x 37 columns]"
      ]
     },
     "execution_count": 123,
     "metadata": {},
     "output_type": "execute_result"
    }
   ],
   "source": [
    "# Importing all datasets\n",
    "leads_data_original = pd.read_csv(\"Leads.csv\")\n",
    "leads_data_original.head()"
   ]
  },
  {
   "cell_type": "markdown",
   "metadata": {},
   "source": [
    "## Data Preparation & EDA"
   ]
  },
  {
   "cell_type": "markdown",
   "metadata": {},
   "source": [
    "### Data Preparation - I"
   ]
  },
  {
   "cell_type": "code",
   "execution_count": 124,
   "metadata": {},
   "outputs": [
    {
     "data": {
      "text/plain": [
       "(9240, 37)"
      ]
     },
     "execution_count": 124,
     "metadata": {},
     "output_type": "execute_result"
    }
   ],
   "source": [
    "leads_data_original.shape"
   ]
  },
  {
   "cell_type": "code",
   "execution_count": 125,
   "metadata": {},
   "outputs": [
    {
     "data": {
      "text/plain": [
       "Prospect ID                                       0.00\n",
       "Lead Number                                       0.00\n",
       "Lead Origin                                       0.00\n",
       "Lead Source                                       0.39\n",
       "Do Not Email                                      0.00\n",
       "Do Not Call                                       0.00\n",
       "Converted                                         0.00\n",
       "TotalVisits                                       1.48\n",
       "Total Time Spent on Website                       0.00\n",
       "Page Views Per Visit                              1.48\n",
       "Last Activity                                     1.11\n",
       "Country                                          26.63\n",
       "Specialization                                   15.56\n",
       "How did you hear about X Education               23.89\n",
       "What is your current occupation                  29.11\n",
       "What matters most to you in choosing a course    29.32\n",
       "Search                                            0.00\n",
       "Magazine                                          0.00\n",
       "Newspaper Article                                 0.00\n",
       "X Education Forums                                0.00\n",
       "Newspaper                                         0.00\n",
       "Digital Advertisement                             0.00\n",
       "Through Recommendations                           0.00\n",
       "Receive More Updates About Our Courses            0.00\n",
       "Tags                                             36.29\n",
       "Lead Quality                                     51.59\n",
       "Update me on Supply Chain Content                 0.00\n",
       "Get updates on DM Content                         0.00\n",
       "Lead Profile                                     29.32\n",
       "City                                             15.37\n",
       "Asymmetrique Activity Index                      45.65\n",
       "Asymmetrique Profile Index                       45.65\n",
       "Asymmetrique Activity Score                      45.65\n",
       "Asymmetrique Profile Score                       45.65\n",
       "I agree to pay the amount through cheque          0.00\n",
       "A free copy of Mastering The Interview            0.00\n",
       "Last Notable Activity                             0.00\n",
       "dtype: float64"
      ]
     },
     "execution_count": 125,
     "metadata": {},
     "output_type": "execute_result"
    }
   ],
   "source": [
    "# Checking the percentage of missing values\n",
    "round(100*(leads_data_original.isnull().sum()/len(leads_data_original.index)), 2)"
   ]
  },
  {
   "cell_type": "markdown",
   "metadata": {},
   "source": [
    "- As we see above, we have a lot of missing values in many columns. Imputing values for such a high number of nulls would lead to biased results. \n",
    "- So, lets drop the columns that have >30% missing values"
   ]
  },
  {
   "cell_type": "code",
   "execution_count": 126,
   "metadata": {},
   "outputs": [
    {
     "data": {
      "text/plain": [
       "Prospect ID                                       0.00\n",
       "Lead Number                                       0.00\n",
       "Lead Origin                                       0.00\n",
       "Lead Source                                       0.39\n",
       "Do Not Email                                      0.00\n",
       "Do Not Call                                       0.00\n",
       "Converted                                         0.00\n",
       "TotalVisits                                       1.48\n",
       "Total Time Spent on Website                       0.00\n",
       "Page Views Per Visit                              1.48\n",
       "Last Activity                                     1.11\n",
       "Country                                          26.63\n",
       "Specialization                                   15.56\n",
       "How did you hear about X Education               23.89\n",
       "What is your current occupation                  29.11\n",
       "What matters most to you in choosing a course    29.32\n",
       "Search                                            0.00\n",
       "Magazine                                          0.00\n",
       "Newspaper Article                                 0.00\n",
       "X Education Forums                                0.00\n",
       "Newspaper                                         0.00\n",
       "Digital Advertisement                             0.00\n",
       "Through Recommendations                           0.00\n",
       "Receive More Updates About Our Courses            0.00\n",
       "Update me on Supply Chain Content                 0.00\n",
       "Get updates on DM Content                         0.00\n",
       "Lead Profile                                     29.32\n",
       "City                                             15.37\n",
       "I agree to pay the amount through cheque          0.00\n",
       "A free copy of Mastering The Interview            0.00\n",
       "Last Notable Activity                             0.00\n",
       "dtype: float64"
      ]
     },
     "execution_count": 126,
     "metadata": {},
     "output_type": "execute_result"
    }
   ],
   "source": [
    "leads_df_cleaned = leads_data_original.drop(['Tags','Lead Quality','Asymmetrique Activity Index','Asymmetrique Profile Index','Asymmetrique Activity Score','Asymmetrique Profile Score'],axis=1)\n",
    "round(100*(leads_df_cleaned.isnull().sum()/len(leads_df_cleaned.index)), 2)"
   ]
  },
  {
   "cell_type": "markdown",
   "metadata": {},
   "source": [
    "- Lets analyse the null above in a little more detail and see if there are more potential variables that need to be dropped"
   ]
  },
  {
   "cell_type": "code",
   "execution_count": 127,
   "metadata": {},
   "outputs": [
    {
     "data": {
      "text/plain": [
       "(9240, 31)"
      ]
     },
     "execution_count": 127,
     "metadata": {},
     "output_type": "execute_result"
    }
   ],
   "source": [
    "leads_df_cleaned.shape"
   ]
  },
  {
   "cell_type": "code",
   "execution_count": 128,
   "metadata": {},
   "outputs": [
    {
     "name": "stdout",
     "output_type": "stream",
     "text": [
      "Total nulls 1420\n"
     ]
    },
    {
     "data": {
      "text/plain": [
       "Mumbai                         3222\n",
       "Select                         2249\n",
       "Thane & Outskirts               752\n",
       "Other Cities                    686\n",
       "Other Cities of Maharashtra     457\n",
       "Other Metro Cities              380\n",
       "Tier II Cities                   74\n",
       "Name: City, dtype: int64"
      ]
     },
     "execution_count": 128,
     "metadata": {},
     "output_type": "execute_result"
    }
   ],
   "source": [
    "print('Total nulls',leads_df_cleaned.City.isnull().sum() )  #1420 Select - 2249\n",
    "leads_df_cleaned.City.value_counts()"
   ]
  },
  {
   "cell_type": "markdown",
   "metadata": {},
   "source": [
    "  - Out of 9240 total records, 1420 values are null and 2249 value the value Select which means this value was not entered. So in total we have (2249 + 1420)/9240 = ~40 % nulls. So we can drop this column"
   ]
  },
  {
   "cell_type": "code",
   "execution_count": 129,
   "metadata": {},
   "outputs": [
    {
     "name": "stdout",
     "output_type": "stream",
     "text": [
      "Total nulls 2709\n"
     ]
    },
    {
     "data": {
      "text/plain": [
       "Select                         4146\n",
       "Potential Lead                 1613\n",
       "Other Leads                     487\n",
       "Student of SomeSchool           241\n",
       "Lateral Student                  24\n",
       "Dual Specialization Student      20\n",
       "Name: Lead Profile, dtype: int64"
      ]
     },
     "execution_count": 129,
     "metadata": {},
     "output_type": "execute_result"
    }
   ],
   "source": [
    "print('Total nulls',leads_df_cleaned['Lead Profile'].isnull().sum() )  #1420 Select - 2249\n",
    "leads_df_cleaned['Lead Profile'].value_counts()"
   ]
  },
  {
   "cell_type": "markdown",
   "metadata": {},
   "source": [
    "  - Out of 9240 total records, 2709 values are null and 4146 value the value Select which means this value was not entered. So in total we have (2709 + 4146)/9240 = ~74% nulls. So we can drop this column"
   ]
  },
  {
   "cell_type": "code",
   "execution_count": 130,
   "metadata": {},
   "outputs": [
    {
     "name": "stdout",
     "output_type": "stream",
     "text": [
      "Total nulls 1438\n"
     ]
    },
    {
     "data": {
      "text/plain": [
       "Select                               1942\n",
       "Finance Management                    976\n",
       "Human Resource Management             848\n",
       "Marketing Management                  838\n",
       "Operations Management                 503\n",
       "Business Administration               403\n",
       "IT Projects Management                366\n",
       "Supply Chain Management               349\n",
       "Banking, Investment And Insurance     338\n",
       "Travel and Tourism                    203\n",
       "Media and Advertising                 203\n",
       "International Business                178\n",
       "Healthcare Management                 159\n",
       "Hospitality Management                114\n",
       "E-COMMERCE                            112\n",
       "Retail Management                     100\n",
       "Rural and Agribusiness                 73\n",
       "E-Business                             57\n",
       "Services Excellence                    40\n",
       "Name: Specialization, dtype: int64"
      ]
     },
     "execution_count": 130,
     "metadata": {},
     "output_type": "execute_result"
    }
   ],
   "source": [
    "print('Total nulls',leads_df_cleaned['Specialization'].isnull().sum() )  #1420 Select - 2249\n",
    "leads_df_cleaned['Specialization'].value_counts()"
   ]
  },
  {
   "cell_type": "markdown",
   "metadata": {},
   "source": [
    "- Out of 9240 total records, 1438 values are null and 1942 value the value Select which means this value was not entered. So in total we have (1438 + 1942)/9240 = ~36% nulls. So we can drop this column"
   ]
  },
  {
   "cell_type": "code",
   "execution_count": 131,
   "metadata": {},
   "outputs": [
    {
     "name": "stdout",
     "output_type": "stream",
     "text": [
      "Total nulls 2207\n"
     ]
    },
    {
     "data": {
      "text/plain": [
       "Select                   5043\n",
       "Online Search             808\n",
       "Word Of Mouth             348\n",
       "Student of SomeSchool     310\n",
       "Other                     186\n",
       "Multiple Sources          152\n",
       "Advertisements             70\n",
       "Social Media               67\n",
       "Email                      26\n",
       "SMS                        23\n",
       "Name: How did you hear about X Education, dtype: int64"
      ]
     },
     "execution_count": 131,
     "metadata": {},
     "output_type": "execute_result"
    }
   ],
   "source": [
    "print('Total nulls',leads_df_cleaned['How did you hear about X Education'].isnull().sum() )  #1420 Select - 2249\n",
    "leads_df_cleaned['How did you hear about X Education'].value_counts()"
   ]
  },
  {
   "cell_type": "markdown",
   "metadata": {},
   "source": [
    "- Out of 9240 total records, 2207 values are null and 5043 value the value Select which means this value was not entered. So in total we have (2207 + 5043)/9240 = ~78% nulls. So we can drop this column"
   ]
  },
  {
   "cell_type": "code",
   "execution_count": 132,
   "metadata": {},
   "outputs": [],
   "source": [
    "leads_df_cleaned.drop(['Lead Profile','City','Specialization','How did you hear about X Education'],axis=1,inplace=True)"
   ]
  },
  {
   "cell_type": "markdown",
   "metadata": {},
   "source": [
    "- Lead Source, TotalVisits, Page Views Per Visit and Last Activity have a very small number of nulls. Lets impute these with the mean/most frequent value for this column"
   ]
  },
  {
   "cell_type": "code",
   "execution_count": 133,
   "metadata": {},
   "outputs": [],
   "source": [
    "leads_df_cleaned.loc[np.isnan(leads_df_cleaned.TotalVisits),'TotalVisits'] = np.round(np.mean(leads_df_cleaned.TotalVisits))"
   ]
  },
  {
   "cell_type": "code",
   "execution_count": 134,
   "metadata": {},
   "outputs": [],
   "source": [
    "leads_df_cleaned.loc[np.isnan(leads_df_cleaned['Page Views Per Visit']),'Page Views Per Visit'] = np.round(np.mean(leads_df_cleaned['Page Views Per Visit']),decimals=0)"
   ]
  },
  {
   "cell_type": "code",
   "execution_count": 135,
   "metadata": {},
   "outputs": [],
   "source": [
    "leads_df_cleaned['Lead Source'].value_counts()  #Google\n",
    "leads_df_cleaned.loc[leads_df_cleaned['Lead Source'].isnull(),'Lead Source'] = 'Google'"
   ]
  },
  {
   "cell_type": "code",
   "execution_count": 136,
   "metadata": {},
   "outputs": [],
   "source": [
    "leads_df_cleaned['Last Activity'].value_counts()  #Email Opened\n",
    "leads_df_cleaned.loc[leads_df_cleaned['Last Activity'].isnull(),'Last Activity'] = 'Email Opened'"
   ]
  },
  {
   "cell_type": "code",
   "execution_count": 137,
   "metadata": {},
   "outputs": [
    {
     "data": {
      "text/plain": [
       "India                   6492\n",
       "United States             69\n",
       "United Arab Emirates      53\n",
       "Singapore                 24\n",
       "Saudi Arabia              21\n",
       "United Kingdom            15\n",
       "Australia                 13\n",
       "Qatar                     10\n",
       "Bahrain                    7\n",
       "Hong Kong                  7\n",
       "France                     6\n",
       "Oman                       6\n",
       "unknown                    5\n",
       "Germany                    4\n",
       "South Africa               4\n",
       "Nigeria                    4\n",
       "Canada                     4\n",
       "Kuwait                     4\n",
       "Sweden                     3\n",
       "Belgium                    2\n",
       "Italy                      2\n",
       "Bangladesh                 2\n",
       "Asia/Pacific Region        2\n",
       "Uganda                     2\n",
       "Netherlands                2\n",
       "Ghana                      2\n",
       "China                      2\n",
       "Philippines                2\n",
       "Sri Lanka                  1\n",
       "Malaysia                   1\n",
       "Liberia                    1\n",
       "Tanzania                   1\n",
       "Russia                     1\n",
       "Switzerland                1\n",
       "Kenya                      1\n",
       "Vietnam                    1\n",
       "Denmark                    1\n",
       "Indonesia                  1\n",
       "Name: Country, dtype: int64"
      ]
     },
     "execution_count": 137,
     "metadata": {},
     "output_type": "execute_result"
    }
   ],
   "source": [
    "leads_df_cleaned.Country.value_counts()"
   ]
  },
  {
   "cell_type": "markdown",
   "metadata": {},
   "source": [
    "- The Country variable has 26.63% values as null and out of the remaining, maximum values are India. So this variable does not add any variance to our data and hence can be dropped"
   ]
  },
  {
   "cell_type": "code",
   "execution_count": 138,
   "metadata": {},
   "outputs": [
    {
     "data": {
      "text/plain": [
       "Better Career Prospects      6528\n",
       "Flexibility & Convenience       2\n",
       "Other                           1\n",
       "Name: What matters most to you in choosing a course, dtype: int64"
      ]
     },
     "execution_count": 138,
     "metadata": {},
     "output_type": "execute_result"
    }
   ],
   "source": [
    "leads_df_cleaned['What matters most to you in choosing a course'].value_counts()"
   ]
  },
  {
   "cell_type": "markdown",
   "metadata": {},
   "source": [
    "- This variable has 29.32% values as null and almost all records have the same value except 3. So this also does not contribute to any variation in our data. So we can drop this variable too."
   ]
  },
  {
   "cell_type": "code",
   "execution_count": 139,
   "metadata": {},
   "outputs": [
    {
     "data": {
      "text/plain": [
       "Unemployed              5600\n",
       "Working Professional     706\n",
       "Student                  210\n",
       "Other                     16\n",
       "Housewife                 10\n",
       "Businessman                8\n",
       "Name: What is your current occupation, dtype: int64"
      ]
     },
     "execution_count": 139,
     "metadata": {},
     "output_type": "execute_result"
    }
   ],
   "source": [
    "leads_df_cleaned['What is your current occupation'].value_counts()"
   ]
  },
  {
   "cell_type": "markdown",
   "metadata": {},
   "source": [
    "- This variable has 29.11% values as null and majority of the records have the same value. So this also does not contribute to much variation in our data. So we can drop this variable too."
   ]
  },
  {
   "cell_type": "code",
   "execution_count": 140,
   "metadata": {},
   "outputs": [],
   "source": [
    "leads_df_cleaned.drop(['What matters most to you in choosing a course','What is your current occupation','Country'],axis=1,inplace=True)"
   ]
  },
  {
   "cell_type": "code",
   "execution_count": 141,
   "metadata": {
    "scrolled": false
   },
   "outputs": [
    {
     "data": {
      "text/plain": [
       "Prospect ID                                 0.0\n",
       "Lead Number                                 0.0\n",
       "Lead Origin                                 0.0\n",
       "Lead Source                                 0.0\n",
       "Do Not Email                                0.0\n",
       "Do Not Call                                 0.0\n",
       "Converted                                   0.0\n",
       "TotalVisits                                 0.0\n",
       "Total Time Spent on Website                 0.0\n",
       "Page Views Per Visit                        0.0\n",
       "Last Activity                               0.0\n",
       "Search                                      0.0\n",
       "Magazine                                    0.0\n",
       "Newspaper Article                           0.0\n",
       "X Education Forums                          0.0\n",
       "Newspaper                                   0.0\n",
       "Digital Advertisement                       0.0\n",
       "Through Recommendations                     0.0\n",
       "Receive More Updates About Our Courses      0.0\n",
       "Update me on Supply Chain Content           0.0\n",
       "Get updates on DM Content                   0.0\n",
       "I agree to pay the amount through cheque    0.0\n",
       "A free copy of Mastering The Interview      0.0\n",
       "Last Notable Activity                       0.0\n",
       "dtype: float64"
      ]
     },
     "execution_count": 141,
     "metadata": {},
     "output_type": "execute_result"
    }
   ],
   "source": [
    "round(100*(leads_df_cleaned.isnull().sum()/len(leads_df_cleaned.index)), 2)"
   ]
  },
  {
   "cell_type": "markdown",
   "metadata": {},
   "source": [
    "- So now we have the dataset with 0 null values and we can move forward with this for model building"
   ]
  },
  {
   "cell_type": "code",
   "execution_count": 142,
   "metadata": {},
   "outputs": [
    {
     "name": "stdout",
     "output_type": "stream",
     "text": [
      "Unique Update me on Supply Chain Content:  1\n",
      "Unique Receive More Updates About Our Courses:  1\n",
      "Unique Get updates on DM Content:  1\n",
      "Unique I agree to pay the amount through cheque:  1\n",
      "Unique Magazine:  1\n"
     ]
    }
   ],
   "source": [
    "#Before moving on, Lets check the unique value counts for few more variables\n",
    "print('Unique Update me on Supply Chain Content: ',len(leads_df_cleaned['Update me on Supply Chain Content'].value_counts())) #All No\n",
    "print('Unique Receive More Updates About Our Courses: ',len(leads_df_cleaned['Receive More Updates About Our Courses'].value_counts())) #All No\n",
    "print('Unique Get updates on DM Content: ',len(leads_df_cleaned['Get updates on DM Content'].value_counts())) #All No\n",
    "print('Unique I agree to pay the amount through cheque: ',len(leads_df_cleaned['I agree to pay the amount through cheque'].value_counts())) #All No\n",
    "print('Unique Magazine: ',len(leads_df_cleaned['Magazine'].value_counts())) #All No\n",
    "\n",
    "#leads_data_original['Get updates on DM Content'].value_counts() #All No\n",
    "#leads_data_original['I agree to pay the amount through cheque'].value_counts() #All No\n"
   ]
  },
  {
   "cell_type": "markdown",
   "metadata": {},
   "source": [
    "- So we have only one value for above variables in our data set. This does not affect the Coversion of a Leard as there is no variance. Hence we can drop these variables too"
   ]
  },
  {
   "cell_type": "code",
   "execution_count": 143,
   "metadata": {
    "scrolled": true
   },
   "outputs": [],
   "source": [
    "leads_df_cleaned.drop(['Update me on Supply Chain Content','Receive More Updates About Our Courses','Get updates on DM Content','I agree to pay the amount through cheque','Magazine'],axis=1, inplace=True)"
   ]
  },
  {
   "cell_type": "markdown",
   "metadata": {},
   "source": [
    "#### Checking for Outliers"
   ]
  },
  {
   "cell_type": "code",
   "execution_count": 144,
   "metadata": {},
   "outputs": [],
   "source": [
    "# Checking for outliers in the continuous variables\n",
    "check_outliers = leads_df_cleaned[['TotalVisits','Total Time Spent on Website','Page Views Per Visit']]"
   ]
  },
  {
   "cell_type": "code",
   "execution_count": 145,
   "metadata": {
    "scrolled": true
   },
   "outputs": [
    {
     "data": {
      "text/html": [
       "<div>\n",
       "<style scoped>\n",
       "    .dataframe tbody tr th:only-of-type {\n",
       "        vertical-align: middle;\n",
       "    }\n",
       "\n",
       "    .dataframe tbody tr th {\n",
       "        vertical-align: top;\n",
       "    }\n",
       "\n",
       "    .dataframe thead th {\n",
       "        text-align: right;\n",
       "    }\n",
       "</style>\n",
       "<table border=\"1\" class=\"dataframe\">\n",
       "  <thead>\n",
       "    <tr style=\"text-align: right;\">\n",
       "      <th></th>\n",
       "      <th>TotalVisits</th>\n",
       "      <th>Total Time Spent on Website</th>\n",
       "      <th>Page Views Per Visit</th>\n",
       "    </tr>\n",
       "  </thead>\n",
       "  <tbody>\n",
       "    <tr>\n",
       "      <th>count</th>\n",
       "      <td>9240.000000</td>\n",
       "      <td>9240.000000</td>\n",
       "      <td>9240.000000</td>\n",
       "    </tr>\n",
       "    <tr>\n",
       "      <th>mean</th>\n",
       "      <td>3.438636</td>\n",
       "      <td>487.698268</td>\n",
       "      <td>2.357440</td>\n",
       "    </tr>\n",
       "    <tr>\n",
       "      <th>std</th>\n",
       "      <td>4.819024</td>\n",
       "      <td>548.021466</td>\n",
       "      <td>2.145781</td>\n",
       "    </tr>\n",
       "    <tr>\n",
       "      <th>min</th>\n",
       "      <td>0.000000</td>\n",
       "      <td>0.000000</td>\n",
       "      <td>0.000000</td>\n",
       "    </tr>\n",
       "    <tr>\n",
       "      <th>25%</th>\n",
       "      <td>1.000000</td>\n",
       "      <td>12.000000</td>\n",
       "      <td>1.000000</td>\n",
       "    </tr>\n",
       "    <tr>\n",
       "      <th>50%</th>\n",
       "      <td>3.000000</td>\n",
       "      <td>248.000000</td>\n",
       "      <td>2.000000</td>\n",
       "    </tr>\n",
       "    <tr>\n",
       "      <th>75%</th>\n",
       "      <td>5.000000</td>\n",
       "      <td>936.000000</td>\n",
       "      <td>3.000000</td>\n",
       "    </tr>\n",
       "    <tr>\n",
       "      <th>90%</th>\n",
       "      <td>7.000000</td>\n",
       "      <td>1380.000000</td>\n",
       "      <td>5.000000</td>\n",
       "    </tr>\n",
       "    <tr>\n",
       "      <th>95%</th>\n",
       "      <td>10.000000</td>\n",
       "      <td>1562.000000</td>\n",
       "      <td>6.000000</td>\n",
       "    </tr>\n",
       "    <tr>\n",
       "      <th>99%</th>\n",
       "      <td>17.000000</td>\n",
       "      <td>1840.610000</td>\n",
       "      <td>9.000000</td>\n",
       "    </tr>\n",
       "    <tr>\n",
       "      <th>max</th>\n",
       "      <td>251.000000</td>\n",
       "      <td>2272.000000</td>\n",
       "      <td>55.000000</td>\n",
       "    </tr>\n",
       "  </tbody>\n",
       "</table>\n",
       "</div>"
      ],
      "text/plain": [
       "       TotalVisits  Total Time Spent on Website  Page Views Per Visit\n",
       "count  9240.000000                  9240.000000           9240.000000\n",
       "mean      3.438636                   487.698268              2.357440\n",
       "std       4.819024                   548.021466              2.145781\n",
       "min       0.000000                     0.000000              0.000000\n",
       "25%       1.000000                    12.000000              1.000000\n",
       "50%       3.000000                   248.000000              2.000000\n",
       "75%       5.000000                   936.000000              3.000000\n",
       "90%       7.000000                  1380.000000              5.000000\n",
       "95%      10.000000                  1562.000000              6.000000\n",
       "99%      17.000000                  1840.610000              9.000000\n",
       "max     251.000000                  2272.000000             55.000000"
      ]
     },
     "execution_count": 145,
     "metadata": {},
     "output_type": "execute_result"
    }
   ],
   "source": [
    "# Checking outliers at 25%, 50%, 75%, 90%, 95% and 99% fro continuous variables\n",
    "check_outliers.describe(percentiles=[.25, .5, .75, .90, .95, .99])"
   ]
  },
  {
   "cell_type": "code",
   "execution_count": 146,
   "metadata": {},
   "outputs": [
    {
     "data": {
      "image/png": "[encoded data removed]",
      "text/plain": [
       "<Figure size 1440x432 with 3 Axes>"
      ]
     },
     "metadata": {},
     "output_type": "display_data"
    }
   ],
   "source": [
    "plt.figure(figsize=(20,6))\n",
    "plt.subplot(1,3,1)\n",
    "sns.boxplot(y=leads_df_cleaned.TotalVisits,data=leads_df_cleaned)\n",
    "\n",
    "plt.subplot(1,3,2)\n",
    "sns.boxplot(y=leads_df_cleaned['Total Time Spent on Website'],data=leads_df_cleaned)\n",
    "\n",
    "plt.subplot(1,3,3)\n",
    "sns.boxplot(y=leads_df_cleaned['Page Views Per Visit'], data=leads_df_cleaned)\n",
    "\n",
    "plt .show()"
   ]
  },
  {
   "cell_type": "markdown",
   "metadata": {},
   "source": [
    "So as we see, we have the presence of outliers in our data and this needs to be treated appropriately before moving ahead."
   ]
  },
  {
   "cell_type": "code",
   "execution_count": 147,
   "metadata": {},
   "outputs": [
    {
     "data": {
      "text/plain": [
       "(8201, 19)"
      ]
     },
     "execution_count": 147,
     "metadata": {},
     "output_type": "execute_result"
    }
   ],
   "source": [
    "Q1 = leads_df_cleaned.TotalVisits.quantile(0.05)\n",
    "Q3 = leads_df_cleaned.TotalVisits.quantile(0.95)\n",
    "IQR = Q3 - Q1\n",
    "leads_df_cleaned_2 = leads_df_cleaned.loc[(leads_df_cleaned.TotalVisits>= Q1) & (leads_df_cleaned.TotalVisits<= Q3)]\n",
    "\n",
    "\n",
    "Q1 = leads_df_cleaned['Total Time Spent on Website'].quantile(0.05)\n",
    "Q3 = leads_df_cleaned['Total Time Spent on Website'].quantile(0.95)\n",
    "IQR = Q3 - Q1\n",
    "leads_df_cleaned_2 = leads_df_cleaned_2.loc[(leads_df_cleaned_2['Total Time Spent on Website']>= Q1) & (leads_df_cleaned_2['Total Time Spent on Website']<= Q3)]\n",
    "\n",
    "\n",
    "Q1 = leads_df_cleaned['Page Views Per Visit'].quantile(0.05)\n",
    "Q3 = leads_df_cleaned['Page Views Per Visit'].quantile(0.95)\n",
    "IQR = Q3 - Q1\n",
    "leads_df_cleaned_2 = leads_df_cleaned_2.loc[(leads_df_cleaned_2['Page Views Per Visit']>= Q1) & (leads_df_cleaned_2['Page Views Per Visit']<= Q3)]\n",
    "#leads_df_cleaned_test.shape\n",
    "#max_range\n",
    "leads_df_cleaned_2.shape"
   ]
  },
  {
   "cell_type": "code",
   "execution_count": 148,
   "metadata": {},
   "outputs": [
    {
     "data": {
      "text/plain": [
       "88.75541125541126"
      ]
     },
     "execution_count": 148,
     "metadata": {},
     "output_type": "execute_result"
    }
   ],
   "source": [
    "len(leads_df_cleaned_2)/len(leads_data_original)*100"
   ]
  },
  {
   "cell_type": "markdown",
   "metadata": {},
   "source": [
    "- So 88% data is still left for us to build the model"
   ]
  },
  {
   "cell_type": "code",
   "execution_count": 149,
   "metadata": {},
   "outputs": [
    {
     "data": {
      "image/png": "[encoded data removed]",
      "text/plain": [
       "<Figure size 1440x1080 with 3 Axes>"
      ]
     },
     "metadata": {},
     "output_type": "display_data"
    }
   ],
   "source": [
    "plt.figure(figsize=(20,15))\n",
    "plt.subplot(2,2,1)\n",
    "sns.boxplot(y=leads_df_cleaned_2.TotalVisits,data=leads_df_cleaned)\n",
    "\n",
    "plt.subplot(2,2,2)\n",
    "sns.boxplot(y=leads_df_cleaned_2['Total Time Spent on Website'],data=leads_df_cleaned)\n",
    "\n",
    "plt.subplot(2,2,3)\n",
    "sns.boxplot(y=leads_df_cleaned_2['Page Views Per Visit'], data=leads_df_cleaned)\n",
    "\n",
    "plt .show()"
   ]
  },
  {
   "cell_type": "markdown",
   "metadata": {},
   "source": [
    "- So now our data has no outliers"
   ]
  },
  {
   "cell_type": "markdown",
   "metadata": {},
   "source": [
    "- Thogh we did see presence of some outliers but we would not drop those as a person may visit the site multiple times and hence the numbers may fluctuate. So we are NOT dropping the outliers."
   ]
  },
  {
   "cell_type": "code",
   "execution_count": 150,
   "metadata": {},
   "outputs": [
    {
     "data": {
      "text/plain": [
       "<matplotlib.axes._subplots.AxesSubplot at 0x27ee439beb8>"
      ]
     },
     "execution_count": 150,
     "metadata": {},
     "output_type": "execute_result"
    },
    {
     "data": {
      "image/png": "[encoded data removed]",
      "text/plain": [
       "<Figure size 576x360 with 2 Axes>"
      ]
     },
     "metadata": {},
     "output_type": "display_data"
    }
   ],
   "source": [
    "plt.figure(figsize=(8,5))\n",
    "sns.heatmap(leads_df_cleaned.corr(),annot=True)"
   ]
  },
  {
   "cell_type": "markdown",
   "metadata": {},
   "source": [
    "- The correlation coefficients do not appear to be too high. So we need not drop these variables and can go ahead with these further."
   ]
  },
  {
   "cell_type": "markdown",
   "metadata": {},
   "source": [
    "## Data Preparation - II"
   ]
  },
  {
   "cell_type": "markdown",
   "metadata": {},
   "source": [
    "### Conversion of Values to Numeric form"
   ]
  },
  {
   "cell_type": "code",
   "execution_count": 151,
   "metadata": {
    "scrolled": true
   },
   "outputs": [
    {
     "data": {
      "text/html": [
       "<div>\n",
       "<style scoped>\n",
       "    .dataframe tbody tr th:only-of-type {\n",
       "        vertical-align: middle;\n",
       "    }\n",
       "\n",
       "    .dataframe tbody tr th {\n",
       "        vertical-align: top;\n",
       "    }\n",
       "\n",
       "    .dataframe thead th {\n",
       "        text-align: right;\n",
       "    }\n",
       "</style>\n",
       "<table border=\"1\" class=\"dataframe\">\n",
       "  <thead>\n",
       "    <tr style=\"text-align: right;\">\n",
       "      <th></th>\n",
       "      <th>Prospect ID</th>\n",
       "      <th>Lead Number</th>\n",
       "      <th>Lead Origin</th>\n",
       "      <th>Lead Source</th>\n",
       "      <th>Do Not Email</th>\n",
       "      <th>Do Not Call</th>\n",
       "      <th>Converted</th>\n",
       "      <th>TotalVisits</th>\n",
       "      <th>Total Time Spent on Website</th>\n",
       "      <th>Page Views Per Visit</th>\n",
       "      <th>Last Activity</th>\n",
       "      <th>Search</th>\n",
       "      <th>Newspaper Article</th>\n",
       "      <th>X Education Forums</th>\n",
       "      <th>Newspaper</th>\n",
       "      <th>Digital Advertisement</th>\n",
       "      <th>Through Recommendations</th>\n",
       "      <th>A free copy of Mastering The Interview</th>\n",
       "      <th>Last Notable Activity</th>\n",
       "    </tr>\n",
       "  </thead>\n",
       "  <tbody>\n",
       "    <tr>\n",
       "      <th>0</th>\n",
       "      <td>7927b2df-8bba-4d29-b9a2-b6e0beafe620</td>\n",
       "      <td>660737</td>\n",
       "      <td>API</td>\n",
       "      <td>Olark Chat</td>\n",
       "      <td>No</td>\n",
       "      <td>No</td>\n",
       "      <td>0</td>\n",
       "      <td>0.0</td>\n",
       "      <td>0</td>\n",
       "      <td>0.0</td>\n",
       "      <td>Page Visited on Website</td>\n",
       "      <td>No</td>\n",
       "      <td>No</td>\n",
       "      <td>No</td>\n",
       "      <td>No</td>\n",
       "      <td>No</td>\n",
       "      <td>No</td>\n",
       "      <td>No</td>\n",
       "      <td>Modified</td>\n",
       "    </tr>\n",
       "    <tr>\n",
       "      <th>1</th>\n",
       "      <td>2a272436-5132-4136-86fa-dcc88c88f482</td>\n",
       "      <td>660728</td>\n",
       "      <td>API</td>\n",
       "      <td>Organic Search</td>\n",
       "      <td>No</td>\n",
       "      <td>No</td>\n",
       "      <td>0</td>\n",
       "      <td>5.0</td>\n",
       "      <td>674</td>\n",
       "      <td>2.5</td>\n",
       "      <td>Email Opened</td>\n",
       "      <td>No</td>\n",
       "      <td>No</td>\n",
       "      <td>No</td>\n",
       "      <td>No</td>\n",
       "      <td>No</td>\n",
       "      <td>No</td>\n",
       "      <td>No</td>\n",
       "      <td>Email Opened</td>\n",
       "    </tr>\n",
       "    <tr>\n",
       "      <th>2</th>\n",
       "      <td>8cc8c611-a219-4f35-ad23-fdfd2656bd8a</td>\n",
       "      <td>660727</td>\n",
       "      <td>Landing Page Submission</td>\n",
       "      <td>Direct Traffic</td>\n",
       "      <td>No</td>\n",
       "      <td>No</td>\n",
       "      <td>1</td>\n",
       "      <td>2.0</td>\n",
       "      <td>1532</td>\n",
       "      <td>2.0</td>\n",
       "      <td>Email Opened</td>\n",
       "      <td>No</td>\n",
       "      <td>No</td>\n",
       "      <td>No</td>\n",
       "      <td>No</td>\n",
       "      <td>No</td>\n",
       "      <td>No</td>\n",
       "      <td>Yes</td>\n",
       "      <td>Email Opened</td>\n",
       "    </tr>\n",
       "    <tr>\n",
       "      <th>3</th>\n",
       "      <td>0cc2df48-7cf4-4e39-9de9-19797f9b38cc</td>\n",
       "      <td>660719</td>\n",
       "      <td>Landing Page Submission</td>\n",
       "      <td>Direct Traffic</td>\n",
       "      <td>No</td>\n",
       "      <td>No</td>\n",
       "      <td>0</td>\n",
       "      <td>1.0</td>\n",
       "      <td>305</td>\n",
       "      <td>1.0</td>\n",
       "      <td>Unreachable</td>\n",
       "      <td>No</td>\n",
       "      <td>No</td>\n",
       "      <td>No</td>\n",
       "      <td>No</td>\n",
       "      <td>No</td>\n",
       "      <td>No</td>\n",
       "      <td>No</td>\n",
       "      <td>Modified</td>\n",
       "    </tr>\n",
       "    <tr>\n",
       "      <th>4</th>\n",
       "      <td>3256f628-e534-4826-9d63-4a8b88782852</td>\n",
       "      <td>660681</td>\n",
       "      <td>Landing Page Submission</td>\n",
       "      <td>Google</td>\n",
       "      <td>No</td>\n",
       "      <td>No</td>\n",
       "      <td>1</td>\n",
       "      <td>2.0</td>\n",
       "      <td>1428</td>\n",
       "      <td>1.0</td>\n",
       "      <td>Converted to Lead</td>\n",
       "      <td>No</td>\n",
       "      <td>No</td>\n",
       "      <td>No</td>\n",
       "      <td>No</td>\n",
       "      <td>No</td>\n",
       "      <td>No</td>\n",
       "      <td>No</td>\n",
       "      <td>Modified</td>\n",
       "    </tr>\n",
       "  </tbody>\n",
       "</table>\n",
       "</div>"
      ],
      "text/plain": [
       "                            Prospect ID  Lead Number              Lead Origin  \\\n",
       "0  7927b2df-8bba-4d29-b9a2-b6e0beafe620       660737                      API   \n",
       "1  2a272436-5132-4136-86fa-dcc88c88f482       660728                      API   \n",
       "2  8cc8c611-a219-4f35-ad23-fdfd2656bd8a       660727  Landing Page Submission   \n",
       "3  0cc2df48-7cf4-4e39-9de9-19797f9b38cc       660719  Landing Page Submission   \n",
       "4  3256f628-e534-4826-9d63-4a8b88782852       660681  Landing Page Submission   \n",
       "\n",
       "      Lead Source Do Not Email Do Not Call  Converted  TotalVisits  \\\n",
       "0      Olark Chat           No          No          0          0.0   \n",
       "1  Organic Search           No          No          0          5.0   \n",
       "2  Direct Traffic           No          No          1          2.0   \n",
       "3  Direct Traffic           No          No          0          1.0   \n",
       "4          Google           No          No          1          2.0   \n",
       "\n",
       "   Total Time Spent on Website  Page Views Per Visit            Last Activity  \\\n",
       "0                            0                   0.0  Page Visited on Website   \n",
       "1                          674                   2.5             Email Opened   \n",
       "2                         1532                   2.0             Email Opened   \n",
       "3                          305                   1.0              Unreachable   \n",
       "4                         1428                   1.0        Converted to Lead   \n",
       "\n",
       "  Search Newspaper Article X Education Forums Newspaper Digital Advertisement  \\\n",
       "0     No                No                 No        No                    No   \n",
       "1     No                No                 No        No                    No   \n",
       "2     No                No                 No        No                    No   \n",
       "3     No                No                 No        No                    No   \n",
       "4     No                No                 No        No                    No   \n",
       "\n",
       "  Through Recommendations A free copy of Mastering The Interview  \\\n",
       "0                      No                                     No   \n",
       "1                      No                                     No   \n",
       "2                      No                                    Yes   \n",
       "3                      No                                     No   \n",
       "4                      No                                     No   \n",
       "\n",
       "  Last Notable Activity  \n",
       "0              Modified  \n",
       "1          Email Opened  \n",
       "2          Email Opened  \n",
       "3              Modified  \n",
       "4              Modified  "
      ]
     },
     "execution_count": 151,
     "metadata": {},
     "output_type": "execute_result"
    }
   ],
   "source": [
    "leads_df_cleaned.head()"
   ]
  },
  {
   "cell_type": "markdown",
   "metadata": {},
   "source": [
    "- As seen above, a number of variables have values as Yes No, we can map these to 0 and 1 and convert these fields as numeric"
   ]
  },
  {
   "cell_type": "code",
   "execution_count": 152,
   "metadata": {
    "scrolled": true
   },
   "outputs": [
    {
     "data": {
      "text/html": [
       "<div>\n",
       "<style scoped>\n",
       "    .dataframe tbody tr th:only-of-type {\n",
       "        vertical-align: middle;\n",
       "    }\n",
       "\n",
       "    .dataframe tbody tr th {\n",
       "        vertical-align: top;\n",
       "    }\n",
       "\n",
       "    .dataframe thead th {\n",
       "        text-align: right;\n",
       "    }\n",
       "</style>\n",
       "<table border=\"1\" class=\"dataframe\">\n",
       "  <thead>\n",
       "    <tr style=\"text-align: right;\">\n",
       "      <th></th>\n",
       "      <th>Prospect ID</th>\n",
       "      <th>Lead Number</th>\n",
       "      <th>Lead Origin</th>\n",
       "      <th>Lead Source</th>\n",
       "      <th>Do Not Email</th>\n",
       "      <th>Do Not Call</th>\n",
       "      <th>Converted</th>\n",
       "      <th>TotalVisits</th>\n",
       "      <th>Total Time Spent on Website</th>\n",
       "      <th>Page Views Per Visit</th>\n",
       "      <th>Last Activity</th>\n",
       "      <th>Search</th>\n",
       "      <th>Newspaper Article</th>\n",
       "      <th>X Education Forums</th>\n",
       "      <th>Newspaper</th>\n",
       "      <th>Digital Advertisement</th>\n",
       "      <th>Through Recommendations</th>\n",
       "      <th>A free copy of Mastering The Interview</th>\n",
       "      <th>Last Notable Activity</th>\n",
       "    </tr>\n",
       "  </thead>\n",
       "  <tbody>\n",
       "    <tr>\n",
       "      <th>0</th>\n",
       "      <td>7927b2df-8bba-4d29-b9a2-b6e0beafe620</td>\n",
       "      <td>660737</td>\n",
       "      <td>API</td>\n",
       "      <td>Olark Chat</td>\n",
       "      <td>0</td>\n",
       "      <td>0</td>\n",
       "      <td>0</td>\n",
       "      <td>0.0</td>\n",
       "      <td>0</td>\n",
       "      <td>0.0</td>\n",
       "      <td>Page Visited on Website</td>\n",
       "      <td>0</td>\n",
       "      <td>0</td>\n",
       "      <td>0</td>\n",
       "      <td>0</td>\n",
       "      <td>0</td>\n",
       "      <td>0</td>\n",
       "      <td>0</td>\n",
       "      <td>Modified</td>\n",
       "    </tr>\n",
       "    <tr>\n",
       "      <th>1</th>\n",
       "      <td>2a272436-5132-4136-86fa-dcc88c88f482</td>\n",
       "      <td>660728</td>\n",
       "      <td>API</td>\n",
       "      <td>Organic Search</td>\n",
       "      <td>0</td>\n",
       "      <td>0</td>\n",
       "      <td>0</td>\n",
       "      <td>5.0</td>\n",
       "      <td>674</td>\n",
       "      <td>2.5</td>\n",
       "      <td>Email Opened</td>\n",
       "      <td>0</td>\n",
       "      <td>0</td>\n",
       "      <td>0</td>\n",
       "      <td>0</td>\n",
       "      <td>0</td>\n",
       "      <td>0</td>\n",
       "      <td>0</td>\n",
       "      <td>Email Opened</td>\n",
       "    </tr>\n",
       "    <tr>\n",
       "      <th>2</th>\n",
       "      <td>8cc8c611-a219-4f35-ad23-fdfd2656bd8a</td>\n",
       "      <td>660727</td>\n",
       "      <td>Landing Page Submission</td>\n",
       "      <td>Direct Traffic</td>\n",
       "      <td>0</td>\n",
       "      <td>0</td>\n",
       "      <td>1</td>\n",
       "      <td>2.0</td>\n",
       "      <td>1532</td>\n",
       "      <td>2.0</td>\n",
       "      <td>Email Opened</td>\n",
       "      <td>0</td>\n",
       "      <td>0</td>\n",
       "      <td>0</td>\n",
       "      <td>0</td>\n",
       "      <td>0</td>\n",
       "      <td>0</td>\n",
       "      <td>1</td>\n",
       "      <td>Email Opened</td>\n",
       "    </tr>\n",
       "    <tr>\n",
       "      <th>3</th>\n",
       "      <td>0cc2df48-7cf4-4e39-9de9-19797f9b38cc</td>\n",
       "      <td>660719</td>\n",
       "      <td>Landing Page Submission</td>\n",
       "      <td>Direct Traffic</td>\n",
       "      <td>0</td>\n",
       "      <td>0</td>\n",
       "      <td>0</td>\n",
       "      <td>1.0</td>\n",
       "      <td>305</td>\n",
       "      <td>1.0</td>\n",
       "      <td>Unreachable</td>\n",
       "      <td>0</td>\n",
       "      <td>0</td>\n",
       "      <td>0</td>\n",
       "      <td>0</td>\n",
       "      <td>0</td>\n",
       "      <td>0</td>\n",
       "      <td>0</td>\n",
       "      <td>Modified</td>\n",
       "    </tr>\n",
       "    <tr>\n",
       "      <th>4</th>\n",
       "      <td>3256f628-e534-4826-9d63-4a8b88782852</td>\n",
       "      <td>660681</td>\n",
       "      <td>Landing Page Submission</td>\n",
       "      <td>Google</td>\n",
       "      <td>0</td>\n",
       "      <td>0</td>\n",
       "      <td>1</td>\n",
       "      <td>2.0</td>\n",
       "      <td>1428</td>\n",
       "      <td>1.0</td>\n",
       "      <td>Converted to Lead</td>\n",
       "      <td>0</td>\n",
       "      <td>0</td>\n",
       "      <td>0</td>\n",
       "      <td>0</td>\n",
       "      <td>0</td>\n",
       "      <td>0</td>\n",
       "      <td>0</td>\n",
       "      <td>Modified</td>\n",
       "    </tr>\n",
       "  </tbody>\n",
       "</table>\n",
       "</div>"
      ],
      "text/plain": [
       "                            Prospect ID  Lead Number              Lead Origin  \\\n",
       "0  7927b2df-8bba-4d29-b9a2-b6e0beafe620       660737                      API   \n",
       "1  2a272436-5132-4136-86fa-dcc88c88f482       660728                      API   \n",
       "2  8cc8c611-a219-4f35-ad23-fdfd2656bd8a       660727  Landing Page Submission   \n",
       "3  0cc2df48-7cf4-4e39-9de9-19797f9b38cc       660719  Landing Page Submission   \n",
       "4  3256f628-e534-4826-9d63-4a8b88782852       660681  Landing Page Submission   \n",
       "\n",
       "      Lead Source  Do Not Email  Do Not Call  Converted  TotalVisits  \\\n",
       "0      Olark Chat             0            0          0          0.0   \n",
       "1  Organic Search             0            0          0          5.0   \n",
       "2  Direct Traffic             0            0          1          2.0   \n",
       "3  Direct Traffic             0            0          0          1.0   \n",
       "4          Google             0            0          1          2.0   \n",
       "\n",
       "   Total Time Spent on Website  Page Views Per Visit            Last Activity  \\\n",
       "0                            0                   0.0  Page Visited on Website   \n",
       "1                          674                   2.5             Email Opened   \n",
       "2                         1532                   2.0             Email Opened   \n",
       "3                          305                   1.0              Unreachable   \n",
       "4                         1428                   1.0        Converted to Lead   \n",
       "\n",
       "   Search  Newspaper Article  X Education Forums  Newspaper  \\\n",
       "0       0                  0                   0          0   \n",
       "1       0                  0                   0          0   \n",
       "2       0                  0                   0          0   \n",
       "3       0                  0                   0          0   \n",
       "4       0                  0                   0          0   \n",
       "\n",
       "   Digital Advertisement  Through Recommendations  \\\n",
       "0                      0                        0   \n",
       "1                      0                        0   \n",
       "2                      0                        0   \n",
       "3                      0                        0   \n",
       "4                      0                        0   \n",
       "\n",
       "   A free copy of Mastering The Interview Last Notable Activity  \n",
       "0                                       0              Modified  \n",
       "1                                       0          Email Opened  \n",
       "2                                       1          Email Opened  \n",
       "3                                       0              Modified  \n",
       "4                                       0              Modified  "
      ]
     },
     "execution_count": 152,
     "metadata": {},
     "output_type": "execute_result"
    }
   ],
   "source": [
    "# Converting Yes to 1 and No to 0\n",
    "leads_df_cleaned['Do Not Email'] = leads_df_cleaned['Do Not Email'].map({'Yes': 1, 'No': 0}).astype(int)\n",
    "leads_df_cleaned['Newspaper Article'] = leads_df_cleaned['Newspaper Article'].map({'Yes': 1, 'No': 0}).astype(int)\n",
    "leads_df_cleaned['Do Not Call'] = leads_df_cleaned['Do Not Call'].map({'Yes': 1, 'No': 0}).astype(int)\n",
    "leads_df_cleaned['Search'] = leads_df_cleaned['Search'].map({'Yes': 1, 'No': 0}).astype(int)\n",
    "leads_df_cleaned['X Education Forums'] = leads_df_cleaned['X Education Forums'].map({'Yes': 1, 'No': 0}).astype(int)\n",
    "leads_df_cleaned['Newspaper'] = leads_df_cleaned['Newspaper'].map({'Yes': 1, 'No': 0}).astype(int)\n",
    "leads_df_cleaned['Digital Advertisement'] = leads_df_cleaned['Digital Advertisement'].map({'Yes': 1, 'No': 0}).astype(int)\n",
    "leads_df_cleaned['Through Recommendations'] = leads_df_cleaned['Through Recommendations'].map({'Yes': 1, 'No': 0}).astype(int)\n",
    "leads_df_cleaned['A free copy of Mastering The Interview'] = leads_df_cleaned['A free copy of Mastering The Interview'].map({'Yes': 1, 'No': 0}).astype(int)\n",
    "leads_df_cleaned.head()"
   ]
  },
  {
   "cell_type": "code",
   "execution_count": 153,
   "metadata": {
    "scrolled": true
   },
   "outputs": [
    {
     "name": "stdout",
     "output_type": "stream",
     "text": [
      "<class 'pandas.core.frame.DataFrame'>\n",
      "RangeIndex: 9240 entries, 0 to 9239\n",
      "Data columns (total 19 columns):\n",
      "Prospect ID                               9240 non-null object\n",
      "Lead Number                               9240 non-null int64\n",
      "Lead Origin                               9240 non-null object\n",
      "Lead Source                               9240 non-null object\n",
      "Do Not Email                              9240 non-null int32\n",
      "Do Not Call                               9240 non-null int32\n",
      "Converted                                 9240 non-null int64\n",
      "TotalVisits                               9240 non-null float64\n",
      "Total Time Spent on Website               9240 non-null int64\n",
      "Page Views Per Visit                      9240 non-null float64\n",
      "Last Activity                             9240 non-null object\n",
      "Search                                    9240 non-null int32\n",
      "Newspaper Article                         9240 non-null int32\n",
      "X Education Forums                        9240 non-null int32\n",
      "Newspaper                                 9240 non-null int32\n",
      "Digital Advertisement                     9240 non-null int32\n",
      "Through Recommendations                   9240 non-null int32\n",
      "A free copy of Mastering The Interview    9240 non-null int32\n",
      "Last Notable Activity                     9240 non-null object\n",
      "dtypes: float64(2), int32(9), int64(3), object(5)\n",
      "memory usage: 1.0+ MB\n"
     ]
    }
   ],
   "source": [
    "leads_df_cleaned.info()"
   ]
  },
  {
   "cell_type": "markdown",
   "metadata": {},
   "source": [
    "- So most of the variables are now numerical. Lets generate dummy variables for categorical data"
   ]
  },
  {
   "cell_type": "code",
   "execution_count": 154,
   "metadata": {},
   "outputs": [],
   "source": [
    "#help(pd.get_dummies)"
   ]
  },
  {
   "cell_type": "markdown",
   "metadata": {},
   "source": [
    "### Dummy Variable Creation"
   ]
  },
  {
   "cell_type": "code",
   "execution_count": 155,
   "metadata": {},
   "outputs": [],
   "source": [
    "# Creating a dummy variable for the variable 'lead origin' and dropping the first one.\n",
    "origin = pd.get_dummies(leads_df_cleaned['Lead Origin'],prefix='lead_origin',drop_first=True)\n",
    "#Adding the results to the master dataframe\n",
    "leads_df_cleaned = pd.concat([leads_df_cleaned,origin],axis=1)"
   ]
  },
  {
   "cell_type": "code",
   "execution_count": 156,
   "metadata": {},
   "outputs": [],
   "source": [
    "ls = pd.get_dummies(leads_df_cleaned['Lead Source'],prefix='lead_source',drop_first=True)\n",
    "#Adding the results to the master dataframe\n",
    "leads_df_cleaned = pd.concat([leads_df_cleaned,ls],axis=1)"
   ]
  },
  {
   "cell_type": "code",
   "execution_count": 157,
   "metadata": {},
   "outputs": [],
   "source": [
    "la = pd.get_dummies(leads_df_cleaned['Last Activity'],prefix='last_activity',drop_first=True)\n",
    "#Adding the results to the master dataframe\n",
    "leads_df_cleaned = pd.concat([leads_df_cleaned,la],axis=1)"
   ]
  },
  {
   "cell_type": "code",
   "execution_count": 158,
   "metadata": {},
   "outputs": [],
   "source": [
    "lna = pd.get_dummies(leads_df_cleaned['Last Notable Activity'],prefix='last_Notable_activity',drop_first=True)\n",
    "#Adding the results to the master dataframe\n",
    "leads_df_cleaned = pd.concat([leads_df_cleaned,lna],axis=1)"
   ]
  },
  {
   "cell_type": "code",
   "execution_count": 159,
   "metadata": {},
   "outputs": [
    {
     "data": {
      "text/html": [
       "<div>\n",
       "<style scoped>\n",
       "    .dataframe tbody tr th:only-of-type {\n",
       "        vertical-align: middle;\n",
       "    }\n",
       "\n",
       "    .dataframe tbody tr th {\n",
       "        vertical-align: top;\n",
       "    }\n",
       "\n",
       "    .dataframe thead th {\n",
       "        text-align: right;\n",
       "    }\n",
       "</style>\n",
       "<table border=\"1\" class=\"dataframe\">\n",
       "  <thead>\n",
       "    <tr style=\"text-align: right;\">\n",
       "      <th></th>\n",
       "      <th>Prospect ID</th>\n",
       "      <th>Lead Number</th>\n",
       "      <th>Lead Origin</th>\n",
       "      <th>Lead Source</th>\n",
       "      <th>Do Not Email</th>\n",
       "      <th>Do Not Call</th>\n",
       "      <th>Converted</th>\n",
       "      <th>TotalVisits</th>\n",
       "      <th>Total Time Spent on Website</th>\n",
       "      <th>Page Views Per Visit</th>\n",
       "      <th>...</th>\n",
       "      <th>last_Notable_activity_Form Submitted on Website</th>\n",
       "      <th>last_Notable_activity_Had a Phone Conversation</th>\n",
       "      <th>last_Notable_activity_Modified</th>\n",
       "      <th>last_Notable_activity_Olark Chat Conversation</th>\n",
       "      <th>last_Notable_activity_Page Visited on Website</th>\n",
       "      <th>last_Notable_activity_Resubscribed to emails</th>\n",
       "      <th>last_Notable_activity_SMS Sent</th>\n",
       "      <th>last_Notable_activity_Unreachable</th>\n",
       "      <th>last_Notable_activity_Unsubscribed</th>\n",
       "      <th>last_Notable_activity_View in browser link Clicked</th>\n",
       "    </tr>\n",
       "  </thead>\n",
       "  <tbody>\n",
       "    <tr>\n",
       "      <th>0</th>\n",
       "      <td>7927b2df-8bba-4d29-b9a2-b6e0beafe620</td>\n",
       "      <td>660737</td>\n",
       "      <td>API</td>\n",
       "      <td>Olark Chat</td>\n",
       "      <td>0</td>\n",
       "      <td>0</td>\n",
       "      <td>0</td>\n",
       "      <td>0.0</td>\n",
       "      <td>0</td>\n",
       "      <td>0.0</td>\n",
       "      <td>...</td>\n",
       "      <td>0</td>\n",
       "      <td>0</td>\n",
       "      <td>1</td>\n",
       "      <td>0</td>\n",
       "      <td>0</td>\n",
       "      <td>0</td>\n",
       "      <td>0</td>\n",
       "      <td>0</td>\n",
       "      <td>0</td>\n",
       "      <td>0</td>\n",
       "    </tr>\n",
       "    <tr>\n",
       "      <th>1</th>\n",
       "      <td>2a272436-5132-4136-86fa-dcc88c88f482</td>\n",
       "      <td>660728</td>\n",
       "      <td>API</td>\n",
       "      <td>Organic Search</td>\n",
       "      <td>0</td>\n",
       "      <td>0</td>\n",
       "      <td>0</td>\n",
       "      <td>5.0</td>\n",
       "      <td>674</td>\n",
       "      <td>2.5</td>\n",
       "      <td>...</td>\n",
       "      <td>0</td>\n",
       "      <td>0</td>\n",
       "      <td>0</td>\n",
       "      <td>0</td>\n",
       "      <td>0</td>\n",
       "      <td>0</td>\n",
       "      <td>0</td>\n",
       "      <td>0</td>\n",
       "      <td>0</td>\n",
       "      <td>0</td>\n",
       "    </tr>\n",
       "    <tr>\n",
       "      <th>2</th>\n",
       "      <td>8cc8c611-a219-4f35-ad23-fdfd2656bd8a</td>\n",
       "      <td>660727</td>\n",
       "      <td>Landing Page Submission</td>\n",
       "      <td>Direct Traffic</td>\n",
       "      <td>0</td>\n",
       "      <td>0</td>\n",
       "      <td>1</td>\n",
       "      <td>2.0</td>\n",
       "      <td>1532</td>\n",
       "      <td>2.0</td>\n",
       "      <td>...</td>\n",
       "      <td>0</td>\n",
       "      <td>0</td>\n",
       "      <td>0</td>\n",
       "      <td>0</td>\n",
       "      <td>0</td>\n",
       "      <td>0</td>\n",
       "      <td>0</td>\n",
       "      <td>0</td>\n",
       "      <td>0</td>\n",
       "      <td>0</td>\n",
       "    </tr>\n",
       "    <tr>\n",
       "      <th>3</th>\n",
       "      <td>0cc2df48-7cf4-4e39-9de9-19797f9b38cc</td>\n",
       "      <td>660719</td>\n",
       "      <td>Landing Page Submission</td>\n",
       "      <td>Direct Traffic</td>\n",
       "      <td>0</td>\n",
       "      <td>0</td>\n",
       "      <td>0</td>\n",
       "      <td>1.0</td>\n",
       "      <td>305</td>\n",
       "      <td>1.0</td>\n",
       "      <td>...</td>\n",
       "      <td>0</td>\n",
       "      <td>0</td>\n",
       "      <td>1</td>\n",
       "      <td>0</td>\n",
       "      <td>0</td>\n",
       "      <td>0</td>\n",
       "      <td>0</td>\n",
       "      <td>0</td>\n",
       "      <td>0</td>\n",
       "      <td>0</td>\n",
       "    </tr>\n",
       "    <tr>\n",
       "      <th>4</th>\n",
       "      <td>3256f628-e534-4826-9d63-4a8b88782852</td>\n",
       "      <td>660681</td>\n",
       "      <td>Landing Page Submission</td>\n",
       "      <td>Google</td>\n",
       "      <td>0</td>\n",
       "      <td>0</td>\n",
       "      <td>1</td>\n",
       "      <td>2.0</td>\n",
       "      <td>1428</td>\n",
       "      <td>1.0</td>\n",
       "      <td>...</td>\n",
       "      <td>0</td>\n",
       "      <td>0</td>\n",
       "      <td>1</td>\n",
       "      <td>0</td>\n",
       "      <td>0</td>\n",
       "      <td>0</td>\n",
       "      <td>0</td>\n",
       "      <td>0</td>\n",
       "      <td>0</td>\n",
       "      <td>0</td>\n",
       "    </tr>\n",
       "  </tbody>\n",
       "</table>\n",
       "<p>5 rows × 74 columns</p>\n",
       "</div>"
      ],
      "text/plain": [
       "                            Prospect ID  Lead Number              Lead Origin  \\\n",
       "0  7927b2df-8bba-4d29-b9a2-b6e0beafe620       660737                      API   \n",
       "1  2a272436-5132-4136-86fa-dcc88c88f482       660728                      API   \n",
       "2  8cc8c611-a219-4f35-ad23-fdfd2656bd8a       660727  Landing Page Submission   \n",
       "3  0cc2df48-7cf4-4e39-9de9-19797f9b38cc       660719  Landing Page Submission   \n",
       "4  3256f628-e534-4826-9d63-4a8b88782852       660681  Landing Page Submission   \n",
       "\n",
       "      Lead Source  Do Not Email  Do Not Call  Converted  TotalVisits  \\\n",
       "0      Olark Chat             0            0          0          0.0   \n",
       "1  Organic Search             0            0          0          5.0   \n",
       "2  Direct Traffic             0            0          1          2.0   \n",
       "3  Direct Traffic             0            0          0          1.0   \n",
       "4          Google             0            0          1          2.0   \n",
       "\n",
       "   Total Time Spent on Website  Page Views Per Visit  \\\n",
       "0                            0                   0.0   \n",
       "1                          674                   2.5   \n",
       "2                         1532                   2.0   \n",
       "3                          305                   1.0   \n",
       "4                         1428                   1.0   \n",
       "\n",
       "                          ...                          \\\n",
       "0                         ...                           \n",
       "1                         ...                           \n",
       "2                         ...                           \n",
       "3                         ...                           \n",
       "4                         ...                           \n",
       "\n",
       "  last_Notable_activity_Form Submitted on Website  \\\n",
       "0                                               0   \n",
       "1                                               0   \n",
       "2                                               0   \n",
       "3                                               0   \n",
       "4                                               0   \n",
       "\n",
       "   last_Notable_activity_Had a Phone Conversation  \\\n",
       "0                                               0   \n",
       "1                                               0   \n",
       "2                                               0   \n",
       "3                                               0   \n",
       "4                                               0   \n",
       "\n",
       "   last_Notable_activity_Modified  \\\n",
       "0                               1   \n",
       "1                               0   \n",
       "2                               0   \n",
       "3                               1   \n",
       "4                               1   \n",
       "\n",
       "   last_Notable_activity_Olark Chat Conversation  \\\n",
       "0                                              0   \n",
       "1                                              0   \n",
       "2                                              0   \n",
       "3                                              0   \n",
       "4                                              0   \n",
       "\n",
       "   last_Notable_activity_Page Visited on Website  \\\n",
       "0                                              0   \n",
       "1                                              0   \n",
       "2                                              0   \n",
       "3                                              0   \n",
       "4                                              0   \n",
       "\n",
       "   last_Notable_activity_Resubscribed to emails  \\\n",
       "0                                             0   \n",
       "1                                             0   \n",
       "2                                             0   \n",
       "3                                             0   \n",
       "4                                             0   \n",
       "\n",
       "   last_Notable_activity_SMS Sent  last_Notable_activity_Unreachable  \\\n",
       "0                               0                                  0   \n",
       "1                               0                                  0   \n",
       "2                               0                                  0   \n",
       "3                               0                                  0   \n",
       "4                               0                                  0   \n",
       "\n",
       "  last_Notable_activity_Unsubscribed  \\\n",
       "0                                  0   \n",
       "1                                  0   \n",
       "2                                  0   \n",
       "3                                  0   \n",
       "4                                  0   \n",
       "\n",
       "   last_Notable_activity_View in browser link Clicked  \n",
       "0                                                  0   \n",
       "1                                                  0   \n",
       "2                                                  0   \n",
       "3                                                  0   \n",
       "4                                                  0   \n",
       "\n",
       "[5 rows x 74 columns]"
      ]
     },
     "execution_count": 159,
     "metadata": {},
     "output_type": "execute_result"
    }
   ],
   "source": [
    "leads_df_cleaned.head()"
   ]
  },
  {
   "cell_type": "markdown",
   "metadata": {},
   "source": [
    "### Dropping the repeated variables"
   ]
  },
  {
   "cell_type": "code",
   "execution_count": 160,
   "metadata": {},
   "outputs": [
    {
     "data": {
      "text/html": [
       "<div>\n",
       "<style scoped>\n",
       "    .dataframe tbody tr th:only-of-type {\n",
       "        vertical-align: middle;\n",
       "    }\n",
       "\n",
       "    .dataframe tbody tr th {\n",
       "        vertical-align: top;\n",
       "    }\n",
       "\n",
       "    .dataframe thead th {\n",
       "        text-align: right;\n",
       "    }\n",
       "</style>\n",
       "<table border=\"1\" class=\"dataframe\">\n",
       "  <thead>\n",
       "    <tr style=\"text-align: right;\">\n",
       "      <th></th>\n",
       "      <th>Prospect ID</th>\n",
       "      <th>Lead Number</th>\n",
       "      <th>Do Not Email</th>\n",
       "      <th>Do Not Call</th>\n",
       "      <th>Converted</th>\n",
       "      <th>TotalVisits</th>\n",
       "      <th>Total Time Spent on Website</th>\n",
       "      <th>Page Views Per Visit</th>\n",
       "      <th>Search</th>\n",
       "      <th>Newspaper Article</th>\n",
       "      <th>...</th>\n",
       "      <th>last_Notable_activity_Form Submitted on Website</th>\n",
       "      <th>last_Notable_activity_Had a Phone Conversation</th>\n",
       "      <th>last_Notable_activity_Modified</th>\n",
       "      <th>last_Notable_activity_Olark Chat Conversation</th>\n",
       "      <th>last_Notable_activity_Page Visited on Website</th>\n",
       "      <th>last_Notable_activity_Resubscribed to emails</th>\n",
       "      <th>last_Notable_activity_SMS Sent</th>\n",
       "      <th>last_Notable_activity_Unreachable</th>\n",
       "      <th>last_Notable_activity_Unsubscribed</th>\n",
       "      <th>last_Notable_activity_View in browser link Clicked</th>\n",
       "    </tr>\n",
       "  </thead>\n",
       "  <tbody>\n",
       "    <tr>\n",
       "      <th>0</th>\n",
       "      <td>7927b2df-8bba-4d29-b9a2-b6e0beafe620</td>\n",
       "      <td>660737</td>\n",
       "      <td>0</td>\n",
       "      <td>0</td>\n",
       "      <td>0</td>\n",
       "      <td>0.0</td>\n",
       "      <td>0</td>\n",
       "      <td>0.0</td>\n",
       "      <td>0</td>\n",
       "      <td>0</td>\n",
       "      <td>...</td>\n",
       "      <td>0</td>\n",
       "      <td>0</td>\n",
       "      <td>1</td>\n",
       "      <td>0</td>\n",
       "      <td>0</td>\n",
       "      <td>0</td>\n",
       "      <td>0</td>\n",
       "      <td>0</td>\n",
       "      <td>0</td>\n",
       "      <td>0</td>\n",
       "    </tr>\n",
       "    <tr>\n",
       "      <th>1</th>\n",
       "      <td>2a272436-5132-4136-86fa-dcc88c88f482</td>\n",
       "      <td>660728</td>\n",
       "      <td>0</td>\n",
       "      <td>0</td>\n",
       "      <td>0</td>\n",
       "      <td>5.0</td>\n",
       "      <td>674</td>\n",
       "      <td>2.5</td>\n",
       "      <td>0</td>\n",
       "      <td>0</td>\n",
       "      <td>...</td>\n",
       "      <td>0</td>\n",
       "      <td>0</td>\n",
       "      <td>0</td>\n",
       "      <td>0</td>\n",
       "      <td>0</td>\n",
       "      <td>0</td>\n",
       "      <td>0</td>\n",
       "      <td>0</td>\n",
       "      <td>0</td>\n",
       "      <td>0</td>\n",
       "    </tr>\n",
       "    <tr>\n",
       "      <th>2</th>\n",
       "      <td>8cc8c611-a219-4f35-ad23-fdfd2656bd8a</td>\n",
       "      <td>660727</td>\n",
       "      <td>0</td>\n",
       "      <td>0</td>\n",
       "      <td>1</td>\n",
       "      <td>2.0</td>\n",
       "      <td>1532</td>\n",
       "      <td>2.0</td>\n",
       "      <td>0</td>\n",
       "      <td>0</td>\n",
       "      <td>...</td>\n",
       "      <td>0</td>\n",
       "      <td>0</td>\n",
       "      <td>0</td>\n",
       "      <td>0</td>\n",
       "      <td>0</td>\n",
       "      <td>0</td>\n",
       "      <td>0</td>\n",
       "      <td>0</td>\n",
       "      <td>0</td>\n",
       "      <td>0</td>\n",
       "    </tr>\n",
       "    <tr>\n",
       "      <th>3</th>\n",
       "      <td>0cc2df48-7cf4-4e39-9de9-19797f9b38cc</td>\n",
       "      <td>660719</td>\n",
       "      <td>0</td>\n",
       "      <td>0</td>\n",
       "      <td>0</td>\n",
       "      <td>1.0</td>\n",
       "      <td>305</td>\n",
       "      <td>1.0</td>\n",
       "      <td>0</td>\n",
       "      <td>0</td>\n",
       "      <td>...</td>\n",
       "      <td>0</td>\n",
       "      <td>0</td>\n",
       "      <td>1</td>\n",
       "      <td>0</td>\n",
       "      <td>0</td>\n",
       "      <td>0</td>\n",
       "      <td>0</td>\n",
       "      <td>0</td>\n",
       "      <td>0</td>\n",
       "      <td>0</td>\n",
       "    </tr>\n",
       "    <tr>\n",
       "      <th>4</th>\n",
       "      <td>3256f628-e534-4826-9d63-4a8b88782852</td>\n",
       "      <td>660681</td>\n",
       "      <td>0</td>\n",
       "      <td>0</td>\n",
       "      <td>1</td>\n",
       "      <td>2.0</td>\n",
       "      <td>1428</td>\n",
       "      <td>1.0</td>\n",
       "      <td>0</td>\n",
       "      <td>0</td>\n",
       "      <td>...</td>\n",
       "      <td>0</td>\n",
       "      <td>0</td>\n",
       "      <td>1</td>\n",
       "      <td>0</td>\n",
       "      <td>0</td>\n",
       "      <td>0</td>\n",
       "      <td>0</td>\n",
       "      <td>0</td>\n",
       "      <td>0</td>\n",
       "      <td>0</td>\n",
       "    </tr>\n",
       "  </tbody>\n",
       "</table>\n",
       "<p>5 rows × 70 columns</p>\n",
       "</div>"
      ],
      "text/plain": [
       "                            Prospect ID  Lead Number  Do Not Email  \\\n",
       "0  7927b2df-8bba-4d29-b9a2-b6e0beafe620       660737             0   \n",
       "1  2a272436-5132-4136-86fa-dcc88c88f482       660728             0   \n",
       "2  8cc8c611-a219-4f35-ad23-fdfd2656bd8a       660727             0   \n",
       "3  0cc2df48-7cf4-4e39-9de9-19797f9b38cc       660719             0   \n",
       "4  3256f628-e534-4826-9d63-4a8b88782852       660681             0   \n",
       "\n",
       "   Do Not Call  Converted  TotalVisits  Total Time Spent on Website  \\\n",
       "0            0          0          0.0                            0   \n",
       "1            0          0          5.0                          674   \n",
       "2            0          1          2.0                         1532   \n",
       "3            0          0          1.0                          305   \n",
       "4            0          1          2.0                         1428   \n",
       "\n",
       "   Page Views Per Visit  Search  Newspaper Article  \\\n",
       "0                   0.0       0                  0   \n",
       "1                   2.5       0                  0   \n",
       "2                   2.0       0                  0   \n",
       "3                   1.0       0                  0   \n",
       "4                   1.0       0                  0   \n",
       "\n",
       "                          ...                          \\\n",
       "0                         ...                           \n",
       "1                         ...                           \n",
       "2                         ...                           \n",
       "3                         ...                           \n",
       "4                         ...                           \n",
       "\n",
       "   last_Notable_activity_Form Submitted on Website  \\\n",
       "0                                                0   \n",
       "1                                                0   \n",
       "2                                                0   \n",
       "3                                                0   \n",
       "4                                                0   \n",
       "\n",
       "   last_Notable_activity_Had a Phone Conversation  \\\n",
       "0                                               0   \n",
       "1                                               0   \n",
       "2                                               0   \n",
       "3                                               0   \n",
       "4                                               0   \n",
       "\n",
       "   last_Notable_activity_Modified  \\\n",
       "0                               1   \n",
       "1                               0   \n",
       "2                               0   \n",
       "3                               1   \n",
       "4                               1   \n",
       "\n",
       "   last_Notable_activity_Olark Chat Conversation  \\\n",
       "0                                              0   \n",
       "1                                              0   \n",
       "2                                              0   \n",
       "3                                              0   \n",
       "4                                              0   \n",
       "\n",
       "   last_Notable_activity_Page Visited on Website  \\\n",
       "0                                              0   \n",
       "1                                              0   \n",
       "2                                              0   \n",
       "3                                              0   \n",
       "4                                              0   \n",
       "\n",
       "   last_Notable_activity_Resubscribed to emails  \\\n",
       "0                                             0   \n",
       "1                                             0   \n",
       "2                                             0   \n",
       "3                                             0   \n",
       "4                                             0   \n",
       "\n",
       "   last_Notable_activity_SMS Sent  last_Notable_activity_Unreachable  \\\n",
       "0                               0                                  0   \n",
       "1                               0                                  0   \n",
       "2                               0                                  0   \n",
       "3                               0                                  0   \n",
       "4                               0                                  0   \n",
       "\n",
       "   last_Notable_activity_Unsubscribed  \\\n",
       "0                                   0   \n",
       "1                                   0   \n",
       "2                                   0   \n",
       "3                                   0   \n",
       "4                                   0   \n",
       "\n",
       "   last_Notable_activity_View in browser link Clicked  \n",
       "0                                                  0   \n",
       "1                                                  0   \n",
       "2                                                  0   \n",
       "3                                                  0   \n",
       "4                                                  0   \n",
       "\n",
       "[5 rows x 70 columns]"
      ]
     },
     "execution_count": 160,
     "metadata": {},
     "output_type": "execute_result"
    }
   ],
   "source": [
    "# We have created dummies for the below variables, so we can drop them\n",
    "#leads = leads.drop(['Lead Origin','Lead Source','Last Activity','Country','Specialization','What is your current occupation','How did you hear about X Education', 'What matters most to you in choosing a course', 'Tags','Lead Quality','Lead Profile','City','Asymmetrique Activity Index','Asymmetrique Profile Index','Last Notable Activity'], 1)\n",
    "leads_df_cleaned.drop(['Lead Origin','Lead Source','Last Activity','Last Notable Activity'],axis=1, inplace=True)\n",
    "leads_df_cleaned.head()"
   ]
  },
  {
   "cell_type": "code",
   "execution_count": 161,
   "metadata": {},
   "outputs": [
    {
     "name": "stdout",
     "output_type": "stream",
     "text": [
      "<class 'pandas.core.frame.DataFrame'>\n",
      "RangeIndex: 9240 entries, 0 to 9239\n",
      "Data columns (total 70 columns):\n",
      "Prospect ID                                           9240 non-null object\n",
      "Lead Number                                           9240 non-null int64\n",
      "Do Not Email                                          9240 non-null int32\n",
      "Do Not Call                                           9240 non-null int32\n",
      "Converted                                             9240 non-null int64\n",
      "TotalVisits                                           9240 non-null float64\n",
      "Total Time Spent on Website                           9240 non-null int64\n",
      "Page Views Per Visit                                  9240 non-null float64\n",
      "Search                                                9240 non-null int32\n",
      "Newspaper Article                                     9240 non-null int32\n",
      "X Education Forums                                    9240 non-null int32\n",
      "Newspaper                                             9240 non-null int32\n",
      "Digital Advertisement                                 9240 non-null int32\n",
      "Through Recommendations                               9240 non-null int32\n",
      "A free copy of Mastering The Interview                9240 non-null int32\n",
      "lead_origin_Landing Page Submission                   9240 non-null uint8\n",
      "lead_origin_Lead Add Form                             9240 non-null uint8\n",
      "lead_origin_Lead Import                               9240 non-null uint8\n",
      "lead_origin_Quick Add Form                            9240 non-null uint8\n",
      "lead_source_Direct Traffic                            9240 non-null uint8\n",
      "lead_source_Facebook                                  9240 non-null uint8\n",
      "lead_source_Google                                    9240 non-null uint8\n",
      "lead_source_Live Chat                                 9240 non-null uint8\n",
      "lead_source_NC_EDM                                    9240 non-null uint8\n",
      "lead_source_Olark Chat                                9240 non-null uint8\n",
      "lead_source_Organic Search                            9240 non-null uint8\n",
      "lead_source_Pay per Click Ads                         9240 non-null uint8\n",
      "lead_source_Press_Release                             9240 non-null uint8\n",
      "lead_source_Reference                                 9240 non-null uint8\n",
      "lead_source_Referral Sites                            9240 non-null uint8\n",
      "lead_source_Social Media                              9240 non-null uint8\n",
      "lead_source_WeLearn                                   9240 non-null uint8\n",
      "lead_source_Welingak Website                          9240 non-null uint8\n",
      "lead_source_bing                                      9240 non-null uint8\n",
      "lead_source_blog                                      9240 non-null uint8\n",
      "lead_source_google                                    9240 non-null uint8\n",
      "lead_source_testone                                   9240 non-null uint8\n",
      "lead_source_welearnblog_Home                          9240 non-null uint8\n",
      "lead_source_youtubechannel                            9240 non-null uint8\n",
      "last_activity_Converted to Lead                       9240 non-null uint8\n",
      "last_activity_Email Bounced                           9240 non-null uint8\n",
      "last_activity_Email Link Clicked                      9240 non-null uint8\n",
      "last_activity_Email Marked Spam                       9240 non-null uint8\n",
      "last_activity_Email Opened                            9240 non-null uint8\n",
      "last_activity_Email Received                          9240 non-null uint8\n",
      "last_activity_Form Submitted on Website               9240 non-null uint8\n",
      "last_activity_Had a Phone Conversation                9240 non-null uint8\n",
      "last_activity_Olark Chat Conversation                 9240 non-null uint8\n",
      "last_activity_Page Visited on Website                 9240 non-null uint8\n",
      "last_activity_Resubscribed to emails                  9240 non-null uint8\n",
      "last_activity_SMS Sent                                9240 non-null uint8\n",
      "last_activity_Unreachable                             9240 non-null uint8\n",
      "last_activity_Unsubscribed                            9240 non-null uint8\n",
      "last_activity_View in browser link Clicked            9240 non-null uint8\n",
      "last_activity_Visited Booth in Tradeshow              9240 non-null uint8\n",
      "last_Notable_activity_Email Bounced                   9240 non-null uint8\n",
      "last_Notable_activity_Email Link Clicked              9240 non-null uint8\n",
      "last_Notable_activity_Email Marked Spam               9240 non-null uint8\n",
      "last_Notable_activity_Email Opened                    9240 non-null uint8\n",
      "last_Notable_activity_Email Received                  9240 non-null uint8\n",
      "last_Notable_activity_Form Submitted on Website       9240 non-null uint8\n",
      "last_Notable_activity_Had a Phone Conversation        9240 non-null uint8\n",
      "last_Notable_activity_Modified                        9240 non-null uint8\n",
      "last_Notable_activity_Olark Chat Conversation         9240 non-null uint8\n",
      "last_Notable_activity_Page Visited on Website         9240 non-null uint8\n",
      "last_Notable_activity_Resubscribed to emails          9240 non-null uint8\n",
      "last_Notable_activity_SMS Sent                        9240 non-null uint8\n",
      "last_Notable_activity_Unreachable                     9240 non-null uint8\n",
      "last_Notable_activity_Unsubscribed                    9240 non-null uint8\n",
      "last_Notable_activity_View in browser link Clicked    9240 non-null uint8\n",
      "dtypes: float64(2), int32(9), int64(3), object(1), uint8(55)\n",
      "memory usage: 1.2+ MB\n"
     ]
    }
   ],
   "source": [
    "leads_df_cleaned.info()"
   ]
  },
  {
   "cell_type": "markdown",
   "metadata": {},
   "source": [
    "### Feature standardisation"
   ]
  },
  {
   "cell_type": "code",
   "execution_count": 162,
   "metadata": {},
   "outputs": [],
   "source": [
    "# Normalising continuous features\n",
    "df = leads_df_cleaned[['TotalVisits','Total Time Spent on Website','Page Views Per Visit']]"
   ]
  },
  {
   "cell_type": "code",
   "execution_count": 163,
   "metadata": {},
   "outputs": [
    {
     "data": {
      "text/html": [
       "<div>\n",
       "<style scoped>\n",
       "    .dataframe tbody tr th:only-of-type {\n",
       "        vertical-align: middle;\n",
       "    }\n",
       "\n",
       "    .dataframe tbody tr th {\n",
       "        vertical-align: top;\n",
       "    }\n",
       "\n",
       "    .dataframe thead th {\n",
       "        text-align: right;\n",
       "    }\n",
       "</style>\n",
       "<table border=\"1\" class=\"dataframe\">\n",
       "  <thead>\n",
       "    <tr style=\"text-align: right;\">\n",
       "      <th></th>\n",
       "      <th>Prospect ID</th>\n",
       "      <th>Lead Number</th>\n",
       "      <th>Do Not Email</th>\n",
       "      <th>Do Not Call</th>\n",
       "      <th>Converted</th>\n",
       "      <th>Search</th>\n",
       "      <th>Newspaper Article</th>\n",
       "      <th>X Education Forums</th>\n",
       "      <th>Newspaper</th>\n",
       "      <th>Digital Advertisement</th>\n",
       "      <th>...</th>\n",
       "      <th>last_Notable_activity_Olark Chat Conversation</th>\n",
       "      <th>last_Notable_activity_Page Visited on Website</th>\n",
       "      <th>last_Notable_activity_Resubscribed to emails</th>\n",
       "      <th>last_Notable_activity_SMS Sent</th>\n",
       "      <th>last_Notable_activity_Unreachable</th>\n",
       "      <th>last_Notable_activity_Unsubscribed</th>\n",
       "      <th>last_Notable_activity_View in browser link Clicked</th>\n",
       "      <th>TotalVisits</th>\n",
       "      <th>Total Time Spent on Website</th>\n",
       "      <th>Page Views Per Visit</th>\n",
       "    </tr>\n",
       "  </thead>\n",
       "  <tbody>\n",
       "    <tr>\n",
       "      <th>0</th>\n",
       "      <td>7927b2df-8bba-4d29-b9a2-b6e0beafe620</td>\n",
       "      <td>660737</td>\n",
       "      <td>0</td>\n",
       "      <td>0</td>\n",
       "      <td>0</td>\n",
       "      <td>0</td>\n",
       "      <td>0</td>\n",
       "      <td>0</td>\n",
       "      <td>0</td>\n",
       "      <td>0</td>\n",
       "      <td>...</td>\n",
       "      <td>0</td>\n",
       "      <td>0</td>\n",
       "      <td>0</td>\n",
       "      <td>0</td>\n",
       "      <td>0</td>\n",
       "      <td>0</td>\n",
       "      <td>0</td>\n",
       "      <td>-0.713555</td>\n",
       "      <td>-0.889925</td>\n",
       "      <td>-1.098640</td>\n",
       "    </tr>\n",
       "    <tr>\n",
       "      <th>1</th>\n",
       "      <td>2a272436-5132-4136-86fa-dcc88c88f482</td>\n",
       "      <td>660728</td>\n",
       "      <td>0</td>\n",
       "      <td>0</td>\n",
       "      <td>0</td>\n",
       "      <td>0</td>\n",
       "      <td>0</td>\n",
       "      <td>0</td>\n",
       "      <td>0</td>\n",
       "      <td>0</td>\n",
       "      <td>...</td>\n",
       "      <td>0</td>\n",
       "      <td>0</td>\n",
       "      <td>0</td>\n",
       "      <td>0</td>\n",
       "      <td>0</td>\n",
       "      <td>0</td>\n",
       "      <td>0</td>\n",
       "      <td>0.324000</td>\n",
       "      <td>0.339953</td>\n",
       "      <td>0.066437</td>\n",
       "    </tr>\n",
       "    <tr>\n",
       "      <th>2</th>\n",
       "      <td>8cc8c611-a219-4f35-ad23-fdfd2656bd8a</td>\n",
       "      <td>660727</td>\n",
       "      <td>0</td>\n",
       "      <td>0</td>\n",
       "      <td>1</td>\n",
       "      <td>0</td>\n",
       "      <td>0</td>\n",
       "      <td>0</td>\n",
       "      <td>0</td>\n",
       "      <td>0</td>\n",
       "      <td>...</td>\n",
       "      <td>0</td>\n",
       "      <td>0</td>\n",
       "      <td>0</td>\n",
       "      <td>0</td>\n",
       "      <td>0</td>\n",
       "      <td>0</td>\n",
       "      <td>0</td>\n",
       "      <td>-0.298533</td>\n",
       "      <td>1.905585</td>\n",
       "      <td>-0.166578</td>\n",
       "    </tr>\n",
       "    <tr>\n",
       "      <th>3</th>\n",
       "      <td>0cc2df48-7cf4-4e39-9de9-19797f9b38cc</td>\n",
       "      <td>660719</td>\n",
       "      <td>0</td>\n",
       "      <td>0</td>\n",
       "      <td>0</td>\n",
       "      <td>0</td>\n",
       "      <td>0</td>\n",
       "      <td>0</td>\n",
       "      <td>0</td>\n",
       "      <td>0</td>\n",
       "      <td>...</td>\n",
       "      <td>0</td>\n",
       "      <td>0</td>\n",
       "      <td>0</td>\n",
       "      <td>0</td>\n",
       "      <td>0</td>\n",
       "      <td>0</td>\n",
       "      <td>0</td>\n",
       "      <td>-0.506044</td>\n",
       "      <td>-0.333378</td>\n",
       "      <td>-0.632609</td>\n",
       "    </tr>\n",
       "    <tr>\n",
       "      <th>4</th>\n",
       "      <td>3256f628-e534-4826-9d63-4a8b88782852</td>\n",
       "      <td>660681</td>\n",
       "      <td>0</td>\n",
       "      <td>0</td>\n",
       "      <td>1</td>\n",
       "      <td>0</td>\n",
       "      <td>0</td>\n",
       "      <td>0</td>\n",
       "      <td>0</td>\n",
       "      <td>0</td>\n",
       "      <td>...</td>\n",
       "      <td>0</td>\n",
       "      <td>0</td>\n",
       "      <td>0</td>\n",
       "      <td>0</td>\n",
       "      <td>0</td>\n",
       "      <td>0</td>\n",
       "      <td>0</td>\n",
       "      <td>-0.298533</td>\n",
       "      <td>1.715812</td>\n",
       "      <td>-0.632609</td>\n",
       "    </tr>\n",
       "  </tbody>\n",
       "</table>\n",
       "<p>5 rows × 70 columns</p>\n",
       "</div>"
      ],
      "text/plain": [
       "                            Prospect ID  Lead Number  Do Not Email  \\\n",
       "0  7927b2df-8bba-4d29-b9a2-b6e0beafe620       660737             0   \n",
       "1  2a272436-5132-4136-86fa-dcc88c88f482       660728             0   \n",
       "2  8cc8c611-a219-4f35-ad23-fdfd2656bd8a       660727             0   \n",
       "3  0cc2df48-7cf4-4e39-9de9-19797f9b38cc       660719             0   \n",
       "4  3256f628-e534-4826-9d63-4a8b88782852       660681             0   \n",
       "\n",
       "   Do Not Call  Converted  Search  Newspaper Article  X Education Forums  \\\n",
       "0            0          0       0                  0                   0   \n",
       "1            0          0       0                  0                   0   \n",
       "2            0          1       0                  0                   0   \n",
       "3            0          0       0                  0                   0   \n",
       "4            0          1       0                  0                   0   \n",
       "\n",
       "   Newspaper  Digital Advertisement          ...           \\\n",
       "0          0                      0          ...            \n",
       "1          0                      0          ...            \n",
       "2          0                      0          ...            \n",
       "3          0                      0          ...            \n",
       "4          0                      0          ...            \n",
       "\n",
       "   last_Notable_activity_Olark Chat Conversation  \\\n",
       "0                                              0   \n",
       "1                                              0   \n",
       "2                                              0   \n",
       "3                                              0   \n",
       "4                                              0   \n",
       "\n",
       "   last_Notable_activity_Page Visited on Website  \\\n",
       "0                                              0   \n",
       "1                                              0   \n",
       "2                                              0   \n",
       "3                                              0   \n",
       "4                                              0   \n",
       "\n",
       "   last_Notable_activity_Resubscribed to emails  \\\n",
       "0                                             0   \n",
       "1                                             0   \n",
       "2                                             0   \n",
       "3                                             0   \n",
       "4                                             0   \n",
       "\n",
       "   last_Notable_activity_SMS Sent  last_Notable_activity_Unreachable  \\\n",
       "0                               0                                  0   \n",
       "1                               0                                  0   \n",
       "2                               0                                  0   \n",
       "3                               0                                  0   \n",
       "4                               0                                  0   \n",
       "\n",
       "   last_Notable_activity_Unsubscribed  \\\n",
       "0                                   0   \n",
       "1                                   0   \n",
       "2                                   0   \n",
       "3                                   0   \n",
       "4                                   0   \n",
       "\n",
       "   last_Notable_activity_View in browser link Clicked  TotalVisits  \\\n",
       "0                                                  0     -0.713555   \n",
       "1                                                  0      0.324000   \n",
       "2                                                  0     -0.298533   \n",
       "3                                                  0     -0.506044   \n",
       "4                                                  0     -0.298533   \n",
       "\n",
       "   Total Time Spent on Website  Page Views Per Visit  \n",
       "0                    -0.889925             -1.098640  \n",
       "1                     0.339953              0.066437  \n",
       "2                     1.905585             -0.166578  \n",
       "3                    -0.333378             -0.632609  \n",
       "4                     1.715812             -0.632609  \n",
       "\n",
       "[5 rows x 70 columns]"
      ]
     },
     "execution_count": 163,
     "metadata": {},
     "output_type": "execute_result"
    }
   ],
   "source": [
    "normalized_df=(df-df.mean())/df.std()\n",
    "leads_df_normalized = leads_df_cleaned.drop(['TotalVisits','Total Time Spent on Website','Page Views Per Visit'], axis=1)\n",
    "leads_df_normalized = pd.concat([leads_df_normalized,normalized_df],axis=1)\n",
    "leads_df_normalized.head()"
   ]
  },
  {
   "cell_type": "markdown",
   "metadata": {},
   "source": [
    "### Checking the Conversion Rate"
   ]
  },
  {
   "cell_type": "code",
   "execution_count": 164,
   "metadata": {},
   "outputs": [
    {
     "data": {
      "text/plain": [
       "38.53896103896104"
      ]
     },
     "execution_count": 164,
     "metadata": {},
     "output_type": "execute_result"
    }
   ],
   "source": [
    "conversion = (sum(leads_df_normalized['Converted'])/len(leads_df_normalized['Converted'].index))*100\n",
    "conversion"
   ]
  },
  {
   "cell_type": "markdown",
   "metadata": {},
   "source": [
    "### Model Building\n",
    "Let's start by splitting our data into a training set and a test set.\n",
    "\n",
    "#### Splitting Data into Training and Test Sets"
   ]
  },
  {
   "cell_type": "code",
   "execution_count": 165,
   "metadata": {},
   "outputs": [
    {
     "data": {
      "text/plain": [
       "0    0\n",
       "1    0\n",
       "2    1\n",
       "3    0\n",
       "4    1\n",
       "Name: Converted, dtype: int64"
      ]
     },
     "execution_count": 165,
     "metadata": {},
     "output_type": "execute_result"
    }
   ],
   "source": [
    "from sklearn.model_selection import train_test_split\n",
    "\n",
    "# Putting feature variable to X\n",
    "X = leads_df_normalized.drop(['Prospect ID','Lead Number','Converted'],axis=1)\n",
    "\n",
    "# Putting response variable to y\n",
    "Y = leads_df_normalized['Converted']\n",
    "\n",
    "Y.head()"
   ]
  },
  {
   "cell_type": "code",
   "execution_count": 166,
   "metadata": {},
   "outputs": [],
   "source": [
    "# Splitting the data into train and test\n",
    "X_train, X_test, Y_train, Y_test = train_test_split(X,Y, train_size=0.7,test_size=0.3,random_state=100)"
   ]
  },
  {
   "cell_type": "markdown",
   "metadata": {},
   "source": [
    "### Model Building using RFE\n",
    "- PCA would be a complex way to explain the solution in business terms, hecne using RFE for model building \n",
    "- Since there are a lot of feature variables, using RFE to select the best fit features and recursively eliminating the less useful features"
   ]
  },
  {
   "cell_type": "code",
   "execution_count": 167,
   "metadata": {},
   "outputs": [],
   "source": [
    "from sklearn.linear_model import LogisticRegression\n",
    "logreg = LogisticRegression()"
   ]
  },
  {
   "cell_type": "code",
   "execution_count": 168,
   "metadata": {},
   "outputs": [],
   "source": [
    "from sklearn.feature_selection import RFE\n",
    "rfe = RFE(logreg, 15)             # running RFE with 15 variables as output\n",
    "rfe = rfe.fit(X_train, Y_train)"
   ]
  },
  {
   "cell_type": "code",
   "execution_count": 169,
   "metadata": {},
   "outputs": [
    {
     "data": {
      "text/plain": [
       "array([ True, False, False, False, False, False, False, False, False,\n",
       "       False,  True, False, False, False, False, False, False, False,\n",
       "        True, False, False, False,  True, False, False, False,  True,\n",
       "       False, False, False, False, False, False,  True,  True, False,\n",
       "       False, False, False, False,  True,  True, False, False, False,\n",
       "       False, False, False, False, False,  True, False,  True, False,\n",
       "       False, False,  True,  True,  True, False, False, False, False,\n",
       "       False, False,  True, False])"
      ]
     },
     "execution_count": 169,
     "metadata": {},
     "output_type": "execute_result"
    }
   ],
   "source": [
    "rfe.support_"
   ]
  },
  {
   "cell_type": "code",
   "execution_count": 170,
   "metadata": {},
   "outputs": [],
   "source": [
    "#help(zip)"
   ]
  },
  {
   "cell_type": "code",
   "execution_count": 171,
   "metadata": {},
   "outputs": [
    {
     "data": {
      "text/plain": [
       "[('Do Not Email', True, 1),\n",
       " ('Do Not Call', False, 11),\n",
       " ('Search', False, 21),\n",
       " ('Newspaper Article', False, 25),\n",
       " ('X Education Forums', False, 26),\n",
       " ('Newspaper', False, 7),\n",
       " ('Digital Advertisement', False, 2),\n",
       " ('Through Recommendations', False, 3),\n",
       " ('A free copy of Mastering The Interview', False, 51),\n",
       " ('lead_origin_Landing Page Submission', False, 45),\n",
       " ('lead_origin_Lead Add Form', True, 1),\n",
       " ('lead_origin_Lead Import', False, 46),\n",
       " ('lead_origin_Quick Add Form', False, 16),\n",
       " ('lead_source_Direct Traffic', False, 19),\n",
       " ('lead_source_Facebook', False, 28),\n",
       " ('lead_source_Google', False, 31),\n",
       " ('lead_source_Live Chat', False, 42),\n",
       " ('lead_source_NC_EDM', False, 14),\n",
       " ('lead_source_Olark Chat', True, 1),\n",
       " ('lead_source_Organic Search', False, 29),\n",
       " ('lead_source_Pay per Click Ads', False, 39),\n",
       " ('lead_source_Press_Release', False, 34),\n",
       " ('lead_source_Reference', True, 1),\n",
       " ('lead_source_Referral Sites', False, 30),\n",
       " ('lead_source_Social Media', False, 8),\n",
       " ('lead_source_WeLearn', False, 20),\n",
       " ('lead_source_Welingak Website', True, 1),\n",
       " ('lead_source_bing', False, 47),\n",
       " ('lead_source_blog', False, 22),\n",
       " ('lead_source_google', False, 13),\n",
       " ('lead_source_testone', False, 53),\n",
       " ('lead_source_welearnblog_Home', False, 27),\n",
       " ('lead_source_youtubechannel', False, 36),\n",
       " ('last_activity_Converted to Lead', True, 1),\n",
       " ('last_activity_Email Bounced', True, 1),\n",
       " ('last_activity_Email Link Clicked', False, 10),\n",
       " ('last_activity_Email Marked Spam', False, 35),\n",
       " ('last_activity_Email Opened', False, 48),\n",
       " ('last_activity_Email Received', False, 12),\n",
       " ('last_activity_Form Submitted on Website', False, 33),\n",
       " ('last_activity_Had a Phone Conversation', True, 1),\n",
       " ('last_activity_Olark Chat Conversation', True, 1),\n",
       " ('last_activity_Page Visited on Website', False, 6),\n",
       " ('last_activity_Resubscribed to emails', False, 18),\n",
       " ('last_activity_SMS Sent', False, 15),\n",
       " ('last_activity_Unreachable', False, 5),\n",
       " ('last_activity_Unsubscribed', False, 44),\n",
       " ('last_activity_View in browser link Clicked', False, 50),\n",
       " ('last_activity_Visited Booth in Tradeshow', False, 43),\n",
       " ('last_Notable_activity_Email Bounced', False, 23),\n",
       " ('last_Notable_activity_Email Link Clicked', True, 1),\n",
       " ('last_Notable_activity_Email Marked Spam', False, 37),\n",
       " ('last_Notable_activity_Email Opened', True, 1),\n",
       " ('last_Notable_activity_Email Received', False, 32),\n",
       " ('last_Notable_activity_Form Submitted on Website', False, 38),\n",
       " ('last_Notable_activity_Had a Phone Conversation', False, 9),\n",
       " ('last_Notable_activity_Modified', True, 1),\n",
       " ('last_Notable_activity_Olark Chat Conversation', True, 1),\n",
       " ('last_Notable_activity_Page Visited on Website', True, 1),\n",
       " ('last_Notable_activity_Resubscribed to emails', False, 17),\n",
       " ('last_Notable_activity_SMS Sent', False, 24),\n",
       " ('last_Notable_activity_Unreachable', False, 4),\n",
       " ('last_Notable_activity_Unsubscribed', False, 49),\n",
       " ('last_Notable_activity_View in browser link Clicked', False, 52),\n",
       " ('TotalVisits', False, 40),\n",
       " ('Total Time Spent on Website', True, 1),\n",
       " ('Page Views Per Visit', False, 41)]"
      ]
     },
     "execution_count": 171,
     "metadata": {},
     "output_type": "execute_result"
    }
   ],
   "source": [
    "list(zip(X_train.columns, rfe.support_, rfe.ranking_))"
   ]
  },
  {
   "cell_type": "code",
   "execution_count": 172,
   "metadata": {},
   "outputs": [
    {
     "data": {
      "text/plain": [
       "Index(['Do Not Email', 'lead_origin_Lead Add Form', 'lead_source_Olark Chat',\n",
       "       'lead_source_Reference', 'lead_source_Welingak Website',\n",
       "       'last_activity_Converted to Lead', 'last_activity_Email Bounced',\n",
       "       'last_activity_Had a Phone Conversation',\n",
       "       'last_activity_Olark Chat Conversation',\n",
       "       'last_Notable_activity_Email Link Clicked',\n",
       "       'last_Notable_activity_Email Opened', 'last_Notable_activity_Modified',\n",
       "       'last_Notable_activity_Olark Chat Conversation',\n",
       "       'last_Notable_activity_Page Visited on Website',\n",
       "       'Total Time Spent on Website'],\n",
       "      dtype='object')"
      ]
     },
     "execution_count": 172,
     "metadata": {},
     "output_type": "execute_result"
    }
   ],
   "source": [
    "col = X_train.columns[rfe.support_]\n",
    "col"
   ]
  },
  {
   "cell_type": "code",
   "execution_count": 173,
   "metadata": {},
   "outputs": [],
   "source": [
    "#X_train.columns[~rfe.support_]"
   ]
  },
  {
   "cell_type": "code",
   "execution_count": 174,
   "metadata": {},
   "outputs": [],
   "source": [
    "X_train_rfe = (X_train[col])"
   ]
  },
  {
   "cell_type": "code",
   "execution_count": 175,
   "metadata": {},
   "outputs": [],
   "source": [
    "import statsmodels.api as sm\n",
    "from sklearn import metrics\n",
    "# Check for the VIF values of the feature variables. \n",
    "from statsmodels.stats.outliers_influence import variance_inflation_factor"
   ]
  },
  {
   "cell_type": "markdown",
   "metadata": {},
   "source": [
    "### Model 1"
   ]
  },
  {
   "cell_type": "code",
   "execution_count": 176,
   "metadata": {
    "scrolled": true
   },
   "outputs": [
    {
     "data": {
      "text/html": [
       "<table class=\"simpletable\">\n",
       "<caption>Generalized Linear Model Regression Results</caption>\n",
       "<tr>\n",
       "  <th>Dep. Variable:</th>      <td>Converted</td>    <th>  No. Observations:  </th>  <td>  6468</td>  \n",
       "</tr>\n",
       "<tr>\n",
       "  <th>Model:</th>                 <td>GLM</td>       <th>  Df Residuals:      </th>  <td>  6452</td>  \n",
       "</tr>\n",
       "<tr>\n",
       "  <th>Model Family:</th>       <td>Binomial</td>     <th>  Df Model:          </th>  <td>    15</td>  \n",
       "</tr>\n",
       "<tr>\n",
       "  <th>Link Function:</th>        <td>logit</td>      <th>  Scale:             </th> <td>  1.0000</td> \n",
       "</tr>\n",
       "<tr>\n",
       "  <th>Method:</th>               <td>IRLS</td>       <th>  Log-Likelihood:    </th> <td> -2861.1</td> \n",
       "</tr>\n",
       "<tr>\n",
       "  <th>Date:</th>           <td>Sun, 09 Jun 2019</td> <th>  Deviance:          </th> <td>  5722.1</td> \n",
       "</tr>\n",
       "<tr>\n",
       "  <th>Time:</th>               <td>11:01:13</td>     <th>  Pearson chi2:      </th> <td>6.64e+03</td> \n",
       "</tr>\n",
       "<tr>\n",
       "  <th>No. Iterations:</th>         <td>7</td>        <th>  Covariance Type:   </th> <td>nonrobust</td>\n",
       "</tr>\n",
       "</table>\n",
       "<table class=\"simpletable\">\n",
       "<tr>\n",
       "                        <td></td>                           <th>coef</th>     <th>std err</th>      <th>z</th>      <th>P>|z|</th>  <th>[0.025</th>    <th>0.975]</th>  \n",
       "</tr>\n",
       "<tr>\n",
       "  <th>const</th>                                         <td>    0.2840</td> <td>    0.066</td> <td>    4.334</td> <td> 0.000</td> <td>    0.156</td> <td>    0.412</td>\n",
       "</tr>\n",
       "<tr>\n",
       "  <th>Do Not Email</th>                                  <td>   -1.3171</td> <td>    0.186</td> <td>   -7.075</td> <td> 0.000</td> <td>   -1.682</td> <td>   -0.952</td>\n",
       "</tr>\n",
       "<tr>\n",
       "  <th>lead_origin_Lead Add Form</th>                     <td>    3.0781</td> <td>    0.488</td> <td>    6.309</td> <td> 0.000</td> <td>    2.122</td> <td>    4.034</td>\n",
       "</tr>\n",
       "<tr>\n",
       "  <th>lead_source_Olark Chat</th>                        <td>    1.0814</td> <td>    0.099</td> <td>   10.926</td> <td> 0.000</td> <td>    0.887</td> <td>    1.275</td>\n",
       "</tr>\n",
       "<tr>\n",
       "  <th>lead_source_Reference</th>                         <td>    0.9767</td> <td>    0.520</td> <td>    1.879</td> <td> 0.060</td> <td>   -0.042</td> <td>    1.996</td>\n",
       "</tr>\n",
       "<tr>\n",
       "  <th>lead_source_Welingak Website</th>                  <td>    2.4695</td> <td>    0.869</td> <td>    2.843</td> <td> 0.004</td> <td>    0.767</td> <td>    4.172</td>\n",
       "</tr>\n",
       "<tr>\n",
       "  <th>last_activity_Converted to Lead</th>               <td>   -0.9115</td> <td>    0.213</td> <td>   -4.279</td> <td> 0.000</td> <td>   -1.329</td> <td>   -0.494</td>\n",
       "</tr>\n",
       "<tr>\n",
       "  <th>last_activity_Email Bounced</th>                   <td>   -1.0931</td> <td>    0.336</td> <td>   -3.250</td> <td> 0.001</td> <td>   -1.752</td> <td>   -0.434</td>\n",
       "</tr>\n",
       "<tr>\n",
       "  <th>last_activity_Had a Phone Conversation</th>        <td>    1.5123</td> <td>    0.652</td> <td>    2.318</td> <td> 0.020</td> <td>    0.234</td> <td>    2.791</td>\n",
       "</tr>\n",
       "<tr>\n",
       "  <th>last_activity_Olark Chat Conversation</th>         <td>   -1.2417</td> <td>    0.189</td> <td>   -6.569</td> <td> 0.000</td> <td>   -1.612</td> <td>   -0.871</td>\n",
       "</tr>\n",
       "<tr>\n",
       "  <th>last_Notable_activity_Email Link Clicked</th>      <td>   -1.8636</td> <td>    0.259</td> <td>   -7.209</td> <td> 0.000</td> <td>   -2.370</td> <td>   -1.357</td>\n",
       "</tr>\n",
       "<tr>\n",
       "  <th>last_Notable_activity_Email Opened</th>            <td>   -1.3362</td> <td>    0.084</td> <td>  -15.970</td> <td> 0.000</td> <td>   -1.500</td> <td>   -1.172</td>\n",
       "</tr>\n",
       "<tr>\n",
       "  <th>last_Notable_activity_Modified</th>                <td>   -1.7216</td> <td>    0.096</td> <td>  -17.963</td> <td> 0.000</td> <td>   -1.909</td> <td>   -1.534</td>\n",
       "</tr>\n",
       "<tr>\n",
       "  <th>last_Notable_activity_Olark Chat Conversation</th> <td>   -1.4696</td> <td>    0.362</td> <td>   -4.055</td> <td> 0.000</td> <td>   -2.180</td> <td>   -0.759</td>\n",
       "</tr>\n",
       "<tr>\n",
       "  <th>last_Notable_activity_Page Visited on Website</th> <td>   -1.5917</td> <td>    0.183</td> <td>   -8.698</td> <td> 0.000</td> <td>   -1.950</td> <td>   -1.233</td>\n",
       "</tr>\n",
       "<tr>\n",
       "  <th>Total Time Spent on Website</th>                   <td>    1.1192</td> <td>    0.039</td> <td>   29.040</td> <td> 0.000</td> <td>    1.044</td> <td>    1.195</td>\n",
       "</tr>\n",
       "</table>"
      ],
      "text/plain": [
       "<class 'statsmodels.iolib.summary.Summary'>\n",
       "\"\"\"\n",
       "                 Generalized Linear Model Regression Results                  \n",
       "==============================================================================\n",
       "Dep. Variable:              Converted   No. Observations:                 6468\n",
       "Model:                            GLM   Df Residuals:                     6452\n",
       "Model Family:                Binomial   Df Model:                           15\n",
       "Link Function:                  logit   Scale:                          1.0000\n",
       "Method:                          IRLS   Log-Likelihood:                -2861.1\n",
       "Date:                Sun, 09 Jun 2019   Deviance:                       5722.1\n",
       "Time:                        11:01:13   Pearson chi2:                 6.64e+03\n",
       "No. Iterations:                     7   Covariance Type:             nonrobust\n",
       "=================================================================================================================\n",
       "                                                    coef    std err          z      P>|z|      [0.025      0.975]\n",
       "-----------------------------------------------------------------------------------------------------------------\n",
       "const                                             0.2840      0.066      4.334      0.000       0.156       0.412\n",
       "Do Not Email                                     -1.3171      0.186     -7.075      0.000      -1.682      -0.952\n",
       "lead_origin_Lead Add Form                         3.0781      0.488      6.309      0.000       2.122       4.034\n",
       "lead_source_Olark Chat                            1.0814      0.099     10.926      0.000       0.887       1.275\n",
       "lead_source_Reference                             0.9767      0.520      1.879      0.060      -0.042       1.996\n",
       "lead_source_Welingak Website                      2.4695      0.869      2.843      0.004       0.767       4.172\n",
       "last_activity_Converted to Lead                  -0.9115      0.213     -4.279      0.000      -1.329      -0.494\n",
       "last_activity_Email Bounced                      -1.0931      0.336     -3.250      0.001      -1.752      -0.434\n",
       "last_activity_Had a Phone Conversation            1.5123      0.652      2.318      0.020       0.234       2.791\n",
       "last_activity_Olark Chat Conversation            -1.2417      0.189     -6.569      0.000      -1.612      -0.871\n",
       "last_Notable_activity_Email Link Clicked         -1.8636      0.259     -7.209      0.000      -2.370      -1.357\n",
       "last_Notable_activity_Email Opened               -1.3362      0.084    -15.970      0.000      -1.500      -1.172\n",
       "last_Notable_activity_Modified                   -1.7216      0.096    -17.963      0.000      -1.909      -1.534\n",
       "last_Notable_activity_Olark Chat Conversation    -1.4696      0.362     -4.055      0.000      -2.180      -0.759\n",
       "last_Notable_activity_Page Visited on Website    -1.5917      0.183     -8.698      0.000      -1.950      -1.233\n",
       "Total Time Spent on Website                       1.1192      0.039     29.040      0.000       1.044       1.195\n",
       "=================================================================================================================\n",
       "\"\"\""
      ]
     },
     "execution_count": 176,
     "metadata": {},
     "output_type": "execute_result"
    }
   ],
   "source": [
    "# Creating X_train dataframe with RFE selected variables\n",
    "X_train_rfe_model1 = X_train_rfe\n",
    "\n",
    "#adding a constant variable\n",
    "X_train_rfe_model1 = sm.add_constant(X_train_rfe_model1)\n",
    "\n",
    "#Running the logistic model 1\n",
    "lm1 = sm.GLM(Y_train,X_train_rfe_model1, family = sm.families.Binomial()).fit()\n",
    "lm1.summary()"
   ]
  },
  {
   "cell_type": "markdown",
   "metadata": {},
   "source": [
    "- We see that p - value is more than 0.05 for variable lead_source_Reference. We need to drop it from our model. But lets also look at the VIF score before we drop this"
   ]
  },
  {
   "cell_type": "code",
   "execution_count": 177,
   "metadata": {},
   "outputs": [
    {
     "data": {
      "text/html": [
       "<div>\n",
       "<style scoped>\n",
       "    .dataframe tbody tr th:only-of-type {\n",
       "        vertical-align: middle;\n",
       "    }\n",
       "\n",
       "    .dataframe tbody tr th {\n",
       "        vertical-align: top;\n",
       "    }\n",
       "\n",
       "    .dataframe thead th {\n",
       "        text-align: right;\n",
       "    }\n",
       "</style>\n",
       "<table border=\"1\" class=\"dataframe\">\n",
       "  <thead>\n",
       "    <tr style=\"text-align: right;\">\n",
       "      <th></th>\n",
       "      <th>Features</th>\n",
       "      <th>VIF</th>\n",
       "    </tr>\n",
       "  </thead>\n",
       "  <tbody>\n",
       "    <tr>\n",
       "      <th>2</th>\n",
       "      <td>lead_origin_Lead Add Form</td>\n",
       "      <td>14.57</td>\n",
       "    </tr>\n",
       "    <tr>\n",
       "      <th>4</th>\n",
       "      <td>lead_source_Reference</td>\n",
       "      <td>12.11</td>\n",
       "    </tr>\n",
       "    <tr>\n",
       "      <th>0</th>\n",
       "      <td>const</td>\n",
       "      <td>4.75</td>\n",
       "    </tr>\n",
       "    <tr>\n",
       "      <th>5</th>\n",
       "      <td>lead_source_Welingak Website</td>\n",
       "      <td>3.72</td>\n",
       "    </tr>\n",
       "    <tr>\n",
       "      <th>12</th>\n",
       "      <td>last_Notable_activity_Modified</td>\n",
       "      <td>1.98</td>\n",
       "    </tr>\n",
       "    <tr>\n",
       "      <th>9</th>\n",
       "      <td>last_activity_Olark Chat Conversation</td>\n",
       "      <td>1.79</td>\n",
       "    </tr>\n",
       "    <tr>\n",
       "      <th>1</th>\n",
       "      <td>Do Not Email</td>\n",
       "      <td>1.74</td>\n",
       "    </tr>\n",
       "    <tr>\n",
       "      <th>7</th>\n",
       "      <td>last_activity_Email Bounced</td>\n",
       "      <td>1.74</td>\n",
       "    </tr>\n",
       "    <tr>\n",
       "      <th>11</th>\n",
       "      <td>last_Notable_activity_Email Opened</td>\n",
       "      <td>1.60</td>\n",
       "    </tr>\n",
       "    <tr>\n",
       "      <th>3</th>\n",
       "      <td>lead_source_Olark Chat</td>\n",
       "      <td>1.44</td>\n",
       "    </tr>\n",
       "    <tr>\n",
       "      <th>13</th>\n",
       "      <td>last_Notable_activity_Olark Chat Conversation</td>\n",
       "      <td>1.35</td>\n",
       "    </tr>\n",
       "    <tr>\n",
       "      <th>15</th>\n",
       "      <td>Total Time Spent on Website</td>\n",
       "      <td>1.24</td>\n",
       "    </tr>\n",
       "    <tr>\n",
       "      <th>6</th>\n",
       "      <td>last_activity_Converted to Lead</td>\n",
       "      <td>1.19</td>\n",
       "    </tr>\n",
       "    <tr>\n",
       "      <th>14</th>\n",
       "      <td>last_Notable_activity_Page Visited on Website</td>\n",
       "      <td>1.11</td>\n",
       "    </tr>\n",
       "    <tr>\n",
       "      <th>10</th>\n",
       "      <td>last_Notable_activity_Email Link Clicked</td>\n",
       "      <td>1.07</td>\n",
       "    </tr>\n",
       "    <tr>\n",
       "      <th>8</th>\n",
       "      <td>last_activity_Had a Phone Conversation</td>\n",
       "      <td>1.01</td>\n",
       "    </tr>\n",
       "  </tbody>\n",
       "</table>\n",
       "</div>"
      ],
      "text/plain": [
       "                                         Features    VIF\n",
       "2                       lead_origin_Lead Add Form  14.57\n",
       "4                           lead_source_Reference  12.11\n",
       "0                                           const   4.75\n",
       "5                    lead_source_Welingak Website   3.72\n",
       "12                 last_Notable_activity_Modified   1.98\n",
       "9           last_activity_Olark Chat Conversation   1.79\n",
       "1                                    Do Not Email   1.74\n",
       "7                     last_activity_Email Bounced   1.74\n",
       "11             last_Notable_activity_Email Opened   1.60\n",
       "3                          lead_source_Olark Chat   1.44\n",
       "13  last_Notable_activity_Olark Chat Conversation   1.35\n",
       "15                    Total Time Spent on Website   1.24\n",
       "6                 last_activity_Converted to Lead   1.19\n",
       "14  last_Notable_activity_Page Visited on Website   1.11\n",
       "10       last_Notable_activity_Email Link Clicked   1.07\n",
       "8          last_activity_Had a Phone Conversation   1.01"
      ]
     },
     "execution_count": 177,
     "metadata": {},
     "output_type": "execute_result"
    }
   ],
   "source": [
    "#Lets examine the VIF of the model built\n",
    "# Create a dataframe that will contain the names of all the feature variables and their respective VIFs\n",
    "vif1 = pd.DataFrame()\n",
    "vif1['Features'] = X_train_rfe_model1.columns\n",
    "vif1['VIF'] = [variance_inflation_factor(X_train_rfe_model1.values, i) for i in range(X_train_rfe_model1.shape[1])]\n",
    "vif1['VIF'] = round(vif1['VIF'], 2)\n",
    "vif1 = vif1.sort_values(by = \"VIF\", ascending = False)\n",
    "vif1"
   ]
  },
  {
   "cell_type": "markdown",
   "metadata": {},
   "source": [
    "- We see that p - value is more than 0.05 for variable lead_source_Reference and it also has a very high VIF. So this variable can be dropped from our model as it exhibits multicollinearity"
   ]
  },
  {
   "cell_type": "code",
   "execution_count": 178,
   "metadata": {},
   "outputs": [
    {
     "data": {
      "text/plain": [
       "1871    0.275493\n",
       "6795    0.258517\n",
       "3516    0.320724\n",
       "8105    0.858143\n",
       "3934    0.205500\n",
       "4844    0.913367\n",
       "3297    0.133000\n",
       "8071    0.978751\n",
       "987     0.157002\n",
       "7423    0.922730\n",
       "dtype: float64"
      ]
     },
     "execution_count": 178,
     "metadata": {},
     "output_type": "execute_result"
    }
   ],
   "source": [
    "# Getting the predicted values on the train set\n",
    "Y_train_pred = lm1.predict(X_train_rfe_model1)\n",
    "Y_train_pred[:10]"
   ]
  },
  {
   "cell_type": "code",
   "execution_count": 179,
   "metadata": {},
   "outputs": [
    {
     "data": {
      "text/plain": [
       "array([0.27549313, 0.25851659, 0.32072391, 0.85814328, 0.20549965,\n",
       "       0.91336672, 0.13300009, 0.97875086, 0.15700248, 0.92273011])"
      ]
     },
     "execution_count": 179,
     "metadata": {},
     "output_type": "execute_result"
    }
   ],
   "source": [
    "Y_train_pred = Y_train_pred.values.reshape(-1)\n",
    "Y_train_pred[:10]"
   ]
  },
  {
   "cell_type": "code",
   "execution_count": 180,
   "metadata": {},
   "outputs": [
    {
     "data": {
      "text/html": [
       "<div>\n",
       "<style scoped>\n",
       "    .dataframe tbody tr th:only-of-type {\n",
       "        vertical-align: middle;\n",
       "    }\n",
       "\n",
       "    .dataframe tbody tr th {\n",
       "        vertical-align: top;\n",
       "    }\n",
       "\n",
       "    .dataframe thead th {\n",
       "        text-align: right;\n",
       "    }\n",
       "</style>\n",
       "<table border=\"1\" class=\"dataframe\">\n",
       "  <thead>\n",
       "    <tr style=\"text-align: right;\">\n",
       "      <th></th>\n",
       "      <th>Conversion</th>\n",
       "      <th>Conv_Prob</th>\n",
       "      <th>Customer_id</th>\n",
       "    </tr>\n",
       "  </thead>\n",
       "  <tbody>\n",
       "    <tr>\n",
       "      <th>0</th>\n",
       "      <td>0</td>\n",
       "      <td>0.275493</td>\n",
       "      <td>1871</td>\n",
       "    </tr>\n",
       "    <tr>\n",
       "      <th>1</th>\n",
       "      <td>0</td>\n",
       "      <td>0.258517</td>\n",
       "      <td>6795</td>\n",
       "    </tr>\n",
       "    <tr>\n",
       "      <th>2</th>\n",
       "      <td>0</td>\n",
       "      <td>0.320724</td>\n",
       "      <td>3516</td>\n",
       "    </tr>\n",
       "    <tr>\n",
       "      <th>3</th>\n",
       "      <td>0</td>\n",
       "      <td>0.858143</td>\n",
       "      <td>8105</td>\n",
       "    </tr>\n",
       "    <tr>\n",
       "      <th>4</th>\n",
       "      <td>0</td>\n",
       "      <td>0.205500</td>\n",
       "      <td>3934</td>\n",
       "    </tr>\n",
       "  </tbody>\n",
       "</table>\n",
       "</div>"
      ],
      "text/plain": [
       "   Conversion  Conv_Prob  Customer_id\n",
       "0           0   0.275493         1871\n",
       "1           0   0.258517         6795\n",
       "2           0   0.320724         3516\n",
       "3           0   0.858143         8105\n",
       "4           0   0.205500         3934"
      ]
     },
     "execution_count": 180,
     "metadata": {},
     "output_type": "execute_result"
    }
   ],
   "source": [
    "Y_train_pred_final1 = pd.DataFrame({'Conversion':Y_train.values, 'Conv_Prob':Y_train_pred})\n",
    "Y_train_pred_final1['Customer_id'] = Y_train.index\n",
    "Y_train_pred_final1.head()"
   ]
  },
  {
   "cell_type": "code",
   "execution_count": 181,
   "metadata": {},
   "outputs": [
    {
     "data": {
      "text/html": [
       "<div>\n",
       "<style scoped>\n",
       "    .dataframe tbody tr th:only-of-type {\n",
       "        vertical-align: middle;\n",
       "    }\n",
       "\n",
       "    .dataframe tbody tr th {\n",
       "        vertical-align: top;\n",
       "    }\n",
       "\n",
       "    .dataframe thead th {\n",
       "        text-align: right;\n",
       "    }\n",
       "</style>\n",
       "<table border=\"1\" class=\"dataframe\">\n",
       "  <thead>\n",
       "    <tr style=\"text-align: right;\">\n",
       "      <th></th>\n",
       "      <th>Conversion</th>\n",
       "      <th>Conv_Prob</th>\n",
       "      <th>Customer_id</th>\n",
       "      <th>lead_score</th>\n",
       "    </tr>\n",
       "  </thead>\n",
       "  <tbody>\n",
       "    <tr>\n",
       "      <th>0</th>\n",
       "      <td>0</td>\n",
       "      <td>0.275493</td>\n",
       "      <td>1871</td>\n",
       "      <td>27.549313</td>\n",
       "    </tr>\n",
       "    <tr>\n",
       "      <th>1</th>\n",
       "      <td>0</td>\n",
       "      <td>0.258517</td>\n",
       "      <td>6795</td>\n",
       "      <td>25.851659</td>\n",
       "    </tr>\n",
       "    <tr>\n",
       "      <th>2</th>\n",
       "      <td>0</td>\n",
       "      <td>0.320724</td>\n",
       "      <td>3516</td>\n",
       "      <td>32.072391</td>\n",
       "    </tr>\n",
       "    <tr>\n",
       "      <th>3</th>\n",
       "      <td>0</td>\n",
       "      <td>0.858143</td>\n",
       "      <td>8105</td>\n",
       "      <td>85.814328</td>\n",
       "    </tr>\n",
       "    <tr>\n",
       "      <th>4</th>\n",
       "      <td>0</td>\n",
       "      <td>0.205500</td>\n",
       "      <td>3934</td>\n",
       "      <td>20.549965</td>\n",
       "    </tr>\n",
       "  </tbody>\n",
       "</table>\n",
       "</div>"
      ],
      "text/plain": [
       "   Conversion  Conv_Prob  Customer_id  lead_score\n",
       "0           0   0.275493         1871   27.549313\n",
       "1           0   0.258517         6795   25.851659\n",
       "2           0   0.320724         3516   32.072391\n",
       "3           0   0.858143         8105   85.814328\n",
       "4           0   0.205500         3934   20.549965"
      ]
     },
     "execution_count": 181,
     "metadata": {},
     "output_type": "execute_result"
    }
   ],
   "source": [
    "#Creating new column 'score' with 100*conv_Prob\n",
    "Y_train_pred_final1['lead_score'] = Y_train_pred_final1.Conv_Prob.map(lambda x:x*100)\n",
    "\n",
    "# Let's see the head\n",
    "Y_train_pred_final1.head()"
   ]
  },
  {
   "cell_type": "markdown",
   "metadata": {},
   "source": [
    "#### Creating new column 'predicted' with 1 if lead_score > 50 else 0"
   ]
  },
  {
   "cell_type": "code",
   "execution_count": 182,
   "metadata": {},
   "outputs": [
    {
     "data": {
      "text/html": [
       "<div>\n",
       "<style scoped>\n",
       "    .dataframe tbody tr th:only-of-type {\n",
       "        vertical-align: middle;\n",
       "    }\n",
       "\n",
       "    .dataframe tbody tr th {\n",
       "        vertical-align: top;\n",
       "    }\n",
       "\n",
       "    .dataframe thead th {\n",
       "        text-align: right;\n",
       "    }\n",
       "</style>\n",
       "<table border=\"1\" class=\"dataframe\">\n",
       "  <thead>\n",
       "    <tr style=\"text-align: right;\">\n",
       "      <th></th>\n",
       "      <th>Conversion</th>\n",
       "      <th>Conv_Prob</th>\n",
       "      <th>Customer_id</th>\n",
       "      <th>lead_score</th>\n",
       "      <th>predicted</th>\n",
       "    </tr>\n",
       "  </thead>\n",
       "  <tbody>\n",
       "    <tr>\n",
       "      <th>0</th>\n",
       "      <td>0</td>\n",
       "      <td>0.275493</td>\n",
       "      <td>1871</td>\n",
       "      <td>27.549313</td>\n",
       "      <td>0</td>\n",
       "    </tr>\n",
       "    <tr>\n",
       "      <th>1</th>\n",
       "      <td>0</td>\n",
       "      <td>0.258517</td>\n",
       "      <td>6795</td>\n",
       "      <td>25.851659</td>\n",
       "      <td>0</td>\n",
       "    </tr>\n",
       "    <tr>\n",
       "      <th>2</th>\n",
       "      <td>0</td>\n",
       "      <td>0.320724</td>\n",
       "      <td>3516</td>\n",
       "      <td>32.072391</td>\n",
       "      <td>0</td>\n",
       "    </tr>\n",
       "    <tr>\n",
       "      <th>3</th>\n",
       "      <td>0</td>\n",
       "      <td>0.858143</td>\n",
       "      <td>8105</td>\n",
       "      <td>85.814328</td>\n",
       "      <td>1</td>\n",
       "    </tr>\n",
       "    <tr>\n",
       "      <th>4</th>\n",
       "      <td>0</td>\n",
       "      <td>0.205500</td>\n",
       "      <td>3934</td>\n",
       "      <td>20.549965</td>\n",
       "      <td>0</td>\n",
       "    </tr>\n",
       "  </tbody>\n",
       "</table>\n",
       "</div>"
      ],
      "text/plain": [
       "   Conversion  Conv_Prob  Customer_id  lead_score  predicted\n",
       "0           0   0.275493         1871   27.549313          0\n",
       "1           0   0.258517         6795   25.851659          0\n",
       "2           0   0.320724         3516   32.072391          0\n",
       "3           0   0.858143         8105   85.814328          1\n",
       "4           0   0.205500         3934   20.549965          0"
      ]
     },
     "execution_count": 182,
     "metadata": {},
     "output_type": "execute_result"
    }
   ],
   "source": [
    "Y_train_pred_final1['predicted'] = Y_train_pred_final1.lead_score.map(lambda x: 1 if x > 50 else 0)\n",
    "\n",
    "# Let's see the head\n",
    "Y_train_pred_final1.head()"
   ]
  },
  {
   "cell_type": "code",
   "execution_count": 183,
   "metadata": {},
   "outputs": [
    {
     "name": "stdout",
     "output_type": "stream",
     "text": [
      "[[3503  499]\n",
      " [ 792 1674]]\n"
     ]
    }
   ],
   "source": [
    "# Confusion matrix \n",
    "confusion = metrics.confusion_matrix(Y_train_pred_final1.Conversion, Y_train_pred_final1.predicted )\n",
    "print(confusion)"
   ]
  },
  {
   "cell_type": "code",
   "execution_count": 184,
   "metadata": {},
   "outputs": [
    {
     "name": "stdout",
     "output_type": "stream",
     "text": [
      "0.8004019789734076\n"
     ]
    }
   ],
   "source": [
    "# Let's check the overall accuracy.\n",
    "print(metrics.accuracy_score(Y_train_pred_final1.Conversion, Y_train_pred_final1.predicted))"
   ]
  },
  {
   "cell_type": "markdown",
   "metadata": {},
   "source": [
    "### Model 2"
   ]
  },
  {
   "cell_type": "markdown",
   "metadata": {},
   "source": [
    "- Lets drop lead_source_reference and build a new model"
   ]
  },
  {
   "cell_type": "code",
   "execution_count": 185,
   "metadata": {},
   "outputs": [],
   "source": [
    "X_train_rfe_model2 = X_train_rfe.drop(columns = ['lead_source_Reference'], axis=1)"
   ]
  },
  {
   "cell_type": "code",
   "execution_count": 186,
   "metadata": {},
   "outputs": [
    {
     "data": {
      "text/html": [
       "<table class=\"simpletable\">\n",
       "<caption>Generalized Linear Model Regression Results</caption>\n",
       "<tr>\n",
       "  <th>Dep. Variable:</th>      <td>Converted</td>    <th>  No. Observations:  </th>  <td>  6468</td>  \n",
       "</tr>\n",
       "<tr>\n",
       "  <th>Model:</th>                 <td>GLM</td>       <th>  Df Residuals:      </th>  <td>  6453</td>  \n",
       "</tr>\n",
       "<tr>\n",
       "  <th>Model Family:</th>       <td>Binomial</td>     <th>  Df Model:          </th>  <td>    14</td>  \n",
       "</tr>\n",
       "<tr>\n",
       "  <th>Link Function:</th>        <td>logit</td>      <th>  Scale:             </th> <td>  1.0000</td> \n",
       "</tr>\n",
       "<tr>\n",
       "  <th>Method:</th>               <td>IRLS</td>       <th>  Log-Likelihood:    </th> <td> -2862.6</td> \n",
       "</tr>\n",
       "<tr>\n",
       "  <th>Date:</th>           <td>Sun, 09 Jun 2019</td> <th>  Deviance:          </th> <td>  5725.3</td> \n",
       "</tr>\n",
       "<tr>\n",
       "  <th>Time:</th>               <td>11:01:13</td>     <th>  Pearson chi2:      </th> <td>6.62e+03</td> \n",
       "</tr>\n",
       "<tr>\n",
       "  <th>No. Iterations:</th>         <td>7</td>        <th>  Covariance Type:   </th> <td>nonrobust</td>\n",
       "</tr>\n",
       "</table>\n",
       "<table class=\"simpletable\">\n",
       "<tr>\n",
       "                        <td></td>                           <th>coef</th>     <th>std err</th>      <th>z</th>      <th>P>|z|</th>  <th>[0.025</th>    <th>0.975]</th>  \n",
       "</tr>\n",
       "<tr>\n",
       "  <th>const</th>                                         <td>    0.2837</td> <td>    0.066</td> <td>    4.328</td> <td> 0.000</td> <td>    0.155</td> <td>    0.412</td>\n",
       "</tr>\n",
       "<tr>\n",
       "  <th>Do Not Email</th>                                  <td>   -1.3368</td> <td>    0.187</td> <td>   -7.141</td> <td> 0.000</td> <td>   -1.704</td> <td>   -0.970</td>\n",
       "</tr>\n",
       "<tr>\n",
       "  <th>lead_origin_Lead Add Form</th>                     <td>    3.9516</td> <td>    0.185</td> <td>   21.362</td> <td> 0.000</td> <td>    3.589</td> <td>    4.314</td>\n",
       "</tr>\n",
       "<tr>\n",
       "  <th>lead_source_Olark Chat</th>                        <td>    1.0793</td> <td>    0.099</td> <td>   10.905</td> <td> 0.000</td> <td>    0.885</td> <td>    1.273</td>\n",
       "</tr>\n",
       "<tr>\n",
       "  <th>lead_source_Welingak Website</th>                  <td>    1.5981</td> <td>    0.743</td> <td>    2.152</td> <td> 0.031</td> <td>    0.142</td> <td>    3.054</td>\n",
       "</tr>\n",
       "<tr>\n",
       "  <th>last_activity_Converted to Lead</th>               <td>   -0.9142</td> <td>    0.213</td> <td>   -4.293</td> <td> 0.000</td> <td>   -1.332</td> <td>   -0.497</td>\n",
       "</tr>\n",
       "<tr>\n",
       "  <th>last_activity_Email Bounced</th>                   <td>   -1.1259</td> <td>    0.339</td> <td>   -3.317</td> <td> 0.001</td> <td>   -1.791</td> <td>   -0.461</td>\n",
       "</tr>\n",
       "<tr>\n",
       "  <th>last_activity_Had a Phone Conversation</th>        <td>    1.5168</td> <td>    0.652</td> <td>    2.327</td> <td> 0.020</td> <td>    0.239</td> <td>    2.795</td>\n",
       "</tr>\n",
       "<tr>\n",
       "  <th>last_activity_Olark Chat Conversation</th>         <td>   -1.2427</td> <td>    0.189</td> <td>   -6.576</td> <td> 0.000</td> <td>   -1.613</td> <td>   -0.872</td>\n",
       "</tr>\n",
       "<tr>\n",
       "  <th>last_Notable_activity_Email Link Clicked</th>      <td>   -1.8546</td> <td>    0.257</td> <td>   -7.203</td> <td> 0.000</td> <td>   -2.359</td> <td>   -1.350</td>\n",
       "</tr>\n",
       "<tr>\n",
       "  <th>last_Notable_activity_Email Opened</th>            <td>   -1.3338</td> <td>    0.084</td> <td>  -15.948</td> <td> 0.000</td> <td>   -1.498</td> <td>   -1.170</td>\n",
       "</tr>\n",
       "<tr>\n",
       "  <th>last_Notable_activity_Modified</th>                <td>   -1.7182</td> <td>    0.096</td> <td>  -17.932</td> <td> 0.000</td> <td>   -1.906</td> <td>   -1.530</td>\n",
       "</tr>\n",
       "<tr>\n",
       "  <th>last_Notable_activity_Olark Chat Conversation</th> <td>   -1.4637</td> <td>    0.362</td> <td>   -4.044</td> <td> 0.000</td> <td>   -2.173</td> <td>   -0.754</td>\n",
       "</tr>\n",
       "<tr>\n",
       "  <th>last_Notable_activity_Page Visited on Website</th> <td>   -1.5898</td> <td>    0.183</td> <td>   -8.685</td> <td> 0.000</td> <td>   -1.949</td> <td>   -1.231</td>\n",
       "</tr>\n",
       "<tr>\n",
       "  <th>Total Time Spent on Website</th>                   <td>    1.1186</td> <td>    0.039</td> <td>   29.030</td> <td> 0.000</td> <td>    1.043</td> <td>    1.194</td>\n",
       "</tr>\n",
       "</table>"
      ],
      "text/plain": [
       "<class 'statsmodels.iolib.summary.Summary'>\n",
       "\"\"\"\n",
       "                 Generalized Linear Model Regression Results                  \n",
       "==============================================================================\n",
       "Dep. Variable:              Converted   No. Observations:                 6468\n",
       "Model:                            GLM   Df Residuals:                     6453\n",
       "Model Family:                Binomial   Df Model:                           14\n",
       "Link Function:                  logit   Scale:                          1.0000\n",
       "Method:                          IRLS   Log-Likelihood:                -2862.6\n",
       "Date:                Sun, 09 Jun 2019   Deviance:                       5725.3\n",
       "Time:                        11:01:13   Pearson chi2:                 6.62e+03\n",
       "No. Iterations:                     7   Covariance Type:             nonrobust\n",
       "=================================================================================================================\n",
       "                                                    coef    std err          z      P>|z|      [0.025      0.975]\n",
       "-----------------------------------------------------------------------------------------------------------------\n",
       "const                                             0.2837      0.066      4.328      0.000       0.155       0.412\n",
       "Do Not Email                                     -1.3368      0.187     -7.141      0.000      -1.704      -0.970\n",
       "lead_origin_Lead Add Form                         3.9516      0.185     21.362      0.000       3.589       4.314\n",
       "lead_source_Olark Chat                            1.0793      0.099     10.905      0.000       0.885       1.273\n",
       "lead_source_Welingak Website                      1.5981      0.743      2.152      0.031       0.142       3.054\n",
       "last_activity_Converted to Lead                  -0.9142      0.213     -4.293      0.000      -1.332      -0.497\n",
       "last_activity_Email Bounced                      -1.1259      0.339     -3.317      0.001      -1.791      -0.461\n",
       "last_activity_Had a Phone Conversation            1.5168      0.652      2.327      0.020       0.239       2.795\n",
       "last_activity_Olark Chat Conversation            -1.2427      0.189     -6.576      0.000      -1.613      -0.872\n",
       "last_Notable_activity_Email Link Clicked         -1.8546      0.257     -7.203      0.000      -2.359      -1.350\n",
       "last_Notable_activity_Email Opened               -1.3338      0.084    -15.948      0.000      -1.498      -1.170\n",
       "last_Notable_activity_Modified                   -1.7182      0.096    -17.932      0.000      -1.906      -1.530\n",
       "last_Notable_activity_Olark Chat Conversation    -1.4637      0.362     -4.044      0.000      -2.173      -0.754\n",
       "last_Notable_activity_Page Visited on Website    -1.5898      0.183     -8.685      0.000      -1.949      -1.231\n",
       "Total Time Spent on Website                       1.1186      0.039     29.030      0.000       1.043       1.194\n",
       "=================================================================================================================\n",
       "\"\"\""
      ]
     },
     "execution_count": 186,
     "metadata": {},
     "output_type": "execute_result"
    }
   ],
   "source": [
    "#adding a constant variable\n",
    "X_train_rfe_model2 = sm.add_constant(X_train_rfe_model2)\n",
    "\n",
    "#Running the logistic model 1\n",
    "lm2 = sm.GLM(Y_train,X_train_rfe_model2, family = sm.families.Binomial()).fit()\n",
    "lm2.summary()"
   ]
  },
  {
   "cell_type": "markdown",
   "metadata": {},
   "source": [
    "- The p- value for all variables are under 5%. So the model looks good. But lets also look at the VIF scores for this model"
   ]
  },
  {
   "cell_type": "code",
   "execution_count": 187,
   "metadata": {},
   "outputs": [
    {
     "data": {
      "text/html": [
       "<div>\n",
       "<style scoped>\n",
       "    .dataframe tbody tr th:only-of-type {\n",
       "        vertical-align: middle;\n",
       "    }\n",
       "\n",
       "    .dataframe tbody tr th {\n",
       "        vertical-align: top;\n",
       "    }\n",
       "\n",
       "    .dataframe thead th {\n",
       "        text-align: right;\n",
       "    }\n",
       "</style>\n",
       "<table border=\"1\" class=\"dataframe\">\n",
       "  <thead>\n",
       "    <tr style=\"text-align: right;\">\n",
       "      <th></th>\n",
       "      <th>Features</th>\n",
       "      <th>VIF</th>\n",
       "    </tr>\n",
       "  </thead>\n",
       "  <tbody>\n",
       "    <tr>\n",
       "      <th>0</th>\n",
       "      <td>const</td>\n",
       "      <td>4.75</td>\n",
       "    </tr>\n",
       "    <tr>\n",
       "      <th>11</th>\n",
       "      <td>last_Notable_activity_Modified</td>\n",
       "      <td>1.98</td>\n",
       "    </tr>\n",
       "    <tr>\n",
       "      <th>8</th>\n",
       "      <td>last_activity_Olark Chat Conversation</td>\n",
       "      <td>1.79</td>\n",
       "    </tr>\n",
       "    <tr>\n",
       "      <th>1</th>\n",
       "      <td>Do Not Email</td>\n",
       "      <td>1.74</td>\n",
       "    </tr>\n",
       "    <tr>\n",
       "      <th>6</th>\n",
       "      <td>last_activity_Email Bounced</td>\n",
       "      <td>1.74</td>\n",
       "    </tr>\n",
       "    <tr>\n",
       "      <th>10</th>\n",
       "      <td>last_Notable_activity_Email Opened</td>\n",
       "      <td>1.60</td>\n",
       "    </tr>\n",
       "    <tr>\n",
       "      <th>3</th>\n",
       "      <td>lead_source_Olark Chat</td>\n",
       "      <td>1.44</td>\n",
       "    </tr>\n",
       "    <tr>\n",
       "      <th>12</th>\n",
       "      <td>last_Notable_activity_Olark Chat Conversation</td>\n",
       "      <td>1.35</td>\n",
       "    </tr>\n",
       "    <tr>\n",
       "      <th>2</th>\n",
       "      <td>lead_origin_Lead Add Form</td>\n",
       "      <td>1.29</td>\n",
       "    </tr>\n",
       "    <tr>\n",
       "      <th>14</th>\n",
       "      <td>Total Time Spent on Website</td>\n",
       "      <td>1.24</td>\n",
       "    </tr>\n",
       "    <tr>\n",
       "      <th>4</th>\n",
       "      <td>lead_source_Welingak Website</td>\n",
       "      <td>1.20</td>\n",
       "    </tr>\n",
       "    <tr>\n",
       "      <th>5</th>\n",
       "      <td>last_activity_Converted to Lead</td>\n",
       "      <td>1.19</td>\n",
       "    </tr>\n",
       "    <tr>\n",
       "      <th>13</th>\n",
       "      <td>last_Notable_activity_Page Visited on Website</td>\n",
       "      <td>1.11</td>\n",
       "    </tr>\n",
       "    <tr>\n",
       "      <th>9</th>\n",
       "      <td>last_Notable_activity_Email Link Clicked</td>\n",
       "      <td>1.07</td>\n",
       "    </tr>\n",
       "    <tr>\n",
       "      <th>7</th>\n",
       "      <td>last_activity_Had a Phone Conversation</td>\n",
       "      <td>1.01</td>\n",
       "    </tr>\n",
       "  </tbody>\n",
       "</table>\n",
       "</div>"
      ],
      "text/plain": [
       "                                         Features   VIF\n",
       "0                                           const  4.75\n",
       "11                 last_Notable_activity_Modified  1.98\n",
       "8           last_activity_Olark Chat Conversation  1.79\n",
       "1                                    Do Not Email  1.74\n",
       "6                     last_activity_Email Bounced  1.74\n",
       "10             last_Notable_activity_Email Opened  1.60\n",
       "3                          lead_source_Olark Chat  1.44\n",
       "12  last_Notable_activity_Olark Chat Conversation  1.35\n",
       "2                       lead_origin_Lead Add Form  1.29\n",
       "14                    Total Time Spent on Website  1.24\n",
       "4                    lead_source_Welingak Website  1.20\n",
       "5                 last_activity_Converted to Lead  1.19\n",
       "13  last_Notable_activity_Page Visited on Website  1.11\n",
       "9        last_Notable_activity_Email Link Clicked  1.07\n",
       "7          last_activity_Had a Phone Conversation  1.01"
      ]
     },
     "execution_count": 187,
     "metadata": {},
     "output_type": "execute_result"
    }
   ],
   "source": [
    "#Lets examine the VIF of the model built\n",
    "# Create a dataframe that will contain the names of all the feature variables and their respective VIFs\n",
    "vif2 = pd.DataFrame()\n",
    "vif2['Features'] = X_train_rfe_model2.columns\n",
    "vif2['VIF'] = [variance_inflation_factor(X_train_rfe_model2.values, i) for i in range(X_train_rfe_model2.shape[1])]\n",
    "vif2['VIF'] = round(vif2['VIF'], 2)\n",
    "vif2 = vif2.sort_values(by = \"VIF\", ascending = False)\n",
    "vif2"
   ]
  },
  {
   "cell_type": "markdown",
   "metadata": {},
   "source": [
    "- All variables have a VIF score below 2, we can go ahead with this model"
   ]
  },
  {
   "cell_type": "code",
   "execution_count": 188,
   "metadata": {},
   "outputs": [
    {
     "data": {
      "text/plain": [
       "1871    0.275614\n",
       "6795    0.258929\n",
       "3516    0.320832\n",
       "8105    0.858016\n",
       "3934    0.205746\n",
       "4844    0.913261\n",
       "3297    0.133296\n",
       "8071    0.976670\n",
       "987     0.157003\n",
       "7423    0.922631\n",
       "dtype: float64"
      ]
     },
     "execution_count": 188,
     "metadata": {},
     "output_type": "execute_result"
    }
   ],
   "source": [
    "# Getting the predicted values on the train set\n",
    "Y_train_pred2 = lm2.predict(X_train_rfe_model2)\n",
    "Y_train_pred2[:10]"
   ]
  },
  {
   "cell_type": "code",
   "execution_count": 189,
   "metadata": {},
   "outputs": [
    {
     "data": {
      "text/plain": [
       "array([0.27561383, 0.25892874, 0.32083178, 0.8580156 , 0.20574571,\n",
       "       0.91326146, 0.13329607, 0.97667037, 0.15700304, 0.92263077])"
      ]
     },
     "execution_count": 189,
     "metadata": {},
     "output_type": "execute_result"
    }
   ],
   "source": [
    "Y_train_pred2 = Y_train_pred2.values.reshape(-1)\n",
    "Y_train_pred2[:10]"
   ]
  },
  {
   "cell_type": "code",
   "execution_count": 190,
   "metadata": {},
   "outputs": [
    {
     "data": {
      "text/html": [
       "<div>\n",
       "<style scoped>\n",
       "    .dataframe tbody tr th:only-of-type {\n",
       "        vertical-align: middle;\n",
       "    }\n",
       "\n",
       "    .dataframe tbody tr th {\n",
       "        vertical-align: top;\n",
       "    }\n",
       "\n",
       "    .dataframe thead th {\n",
       "        text-align: right;\n",
       "    }\n",
       "</style>\n",
       "<table border=\"1\" class=\"dataframe\">\n",
       "  <thead>\n",
       "    <tr style=\"text-align: right;\">\n",
       "      <th></th>\n",
       "      <th>Conversion</th>\n",
       "      <th>Conv_Prob</th>\n",
       "      <th>Customer_id</th>\n",
       "    </tr>\n",
       "  </thead>\n",
       "  <tbody>\n",
       "    <tr>\n",
       "      <th>0</th>\n",
       "      <td>0</td>\n",
       "      <td>0.275614</td>\n",
       "      <td>1871</td>\n",
       "    </tr>\n",
       "    <tr>\n",
       "      <th>1</th>\n",
       "      <td>0</td>\n",
       "      <td>0.258929</td>\n",
       "      <td>6795</td>\n",
       "    </tr>\n",
       "    <tr>\n",
       "      <th>2</th>\n",
       "      <td>0</td>\n",
       "      <td>0.320832</td>\n",
       "      <td>3516</td>\n",
       "    </tr>\n",
       "    <tr>\n",
       "      <th>3</th>\n",
       "      <td>0</td>\n",
       "      <td>0.858016</td>\n",
       "      <td>8105</td>\n",
       "    </tr>\n",
       "    <tr>\n",
       "      <th>4</th>\n",
       "      <td>0</td>\n",
       "      <td>0.205746</td>\n",
       "      <td>3934</td>\n",
       "    </tr>\n",
       "  </tbody>\n",
       "</table>\n",
       "</div>"
      ],
      "text/plain": [
       "   Conversion  Conv_Prob  Customer_id\n",
       "0           0   0.275614         1871\n",
       "1           0   0.258929         6795\n",
       "2           0   0.320832         3516\n",
       "3           0   0.858016         8105\n",
       "4           0   0.205746         3934"
      ]
     },
     "execution_count": 190,
     "metadata": {},
     "output_type": "execute_result"
    }
   ],
   "source": [
    "Y_train_pred_final2 = pd.DataFrame({'Conversion':Y_train.values, 'Conv_Prob':Y_train_pred2})\n",
    "Y_train_pred_final2['Customer_id'] = Y_train.index\n",
    "Y_train_pred_final2.head()"
   ]
  },
  {
   "cell_type": "code",
   "execution_count": 191,
   "metadata": {},
   "outputs": [],
   "source": [
    "Y_train_pred_final2['Conv_Prob'] = Y_train_pred2"
   ]
  },
  {
   "cell_type": "code",
   "execution_count": 192,
   "metadata": {},
   "outputs": [
    {
     "data": {
      "text/html": [
       "<div>\n",
       "<style scoped>\n",
       "    .dataframe tbody tr th:only-of-type {\n",
       "        vertical-align: middle;\n",
       "    }\n",
       "\n",
       "    .dataframe tbody tr th {\n",
       "        vertical-align: top;\n",
       "    }\n",
       "\n",
       "    .dataframe thead th {\n",
       "        text-align: right;\n",
       "    }\n",
       "</style>\n",
       "<table border=\"1\" class=\"dataframe\">\n",
       "  <thead>\n",
       "    <tr style=\"text-align: right;\">\n",
       "      <th></th>\n",
       "      <th>Conversion</th>\n",
       "      <th>Conv_Prob</th>\n",
       "      <th>Customer_id</th>\n",
       "      <th>lead_score</th>\n",
       "    </tr>\n",
       "  </thead>\n",
       "  <tbody>\n",
       "    <tr>\n",
       "      <th>0</th>\n",
       "      <td>0</td>\n",
       "      <td>0.275614</td>\n",
       "      <td>1871</td>\n",
       "      <td>27.561383</td>\n",
       "    </tr>\n",
       "    <tr>\n",
       "      <th>1</th>\n",
       "      <td>0</td>\n",
       "      <td>0.258929</td>\n",
       "      <td>6795</td>\n",
       "      <td>25.892874</td>\n",
       "    </tr>\n",
       "    <tr>\n",
       "      <th>2</th>\n",
       "      <td>0</td>\n",
       "      <td>0.320832</td>\n",
       "      <td>3516</td>\n",
       "      <td>32.083178</td>\n",
       "    </tr>\n",
       "    <tr>\n",
       "      <th>3</th>\n",
       "      <td>0</td>\n",
       "      <td>0.858016</td>\n",
       "      <td>8105</td>\n",
       "      <td>85.801560</td>\n",
       "    </tr>\n",
       "    <tr>\n",
       "      <th>4</th>\n",
       "      <td>0</td>\n",
       "      <td>0.205746</td>\n",
       "      <td>3934</td>\n",
       "      <td>20.574571</td>\n",
       "    </tr>\n",
       "  </tbody>\n",
       "</table>\n",
       "</div>"
      ],
      "text/plain": [
       "   Conversion  Conv_Prob  Customer_id  lead_score\n",
       "0           0   0.275614         1871   27.561383\n",
       "1           0   0.258929         6795   25.892874\n",
       "2           0   0.320832         3516   32.083178\n",
       "3           0   0.858016         8105   85.801560\n",
       "4           0   0.205746         3934   20.574571"
      ]
     },
     "execution_count": 192,
     "metadata": {},
     "output_type": "execute_result"
    }
   ],
   "source": [
    "#Creating new column 'score' with 100*conv_Prob\n",
    "Y_train_pred_final2['lead_score'] = Y_train_pred_final2.Conv_Prob.map(lambda x:x*100)\n",
    "\n",
    "# Let's see the head\n",
    "Y_train_pred_final2.head()"
   ]
  },
  {
   "cell_type": "code",
   "execution_count": 193,
   "metadata": {},
   "outputs": [
    {
     "data": {
      "text/html": [
       "<div>\n",
       "<style scoped>\n",
       "    .dataframe tbody tr th:only-of-type {\n",
       "        vertical-align: middle;\n",
       "    }\n",
       "\n",
       "    .dataframe tbody tr th {\n",
       "        vertical-align: top;\n",
       "    }\n",
       "\n",
       "    .dataframe thead th {\n",
       "        text-align: right;\n",
       "    }\n",
       "</style>\n",
       "<table border=\"1\" class=\"dataframe\">\n",
       "  <thead>\n",
       "    <tr style=\"text-align: right;\">\n",
       "      <th></th>\n",
       "      <th>Conversion</th>\n",
       "      <th>Conv_Prob</th>\n",
       "      <th>Customer_id</th>\n",
       "      <th>lead_score</th>\n",
       "      <th>predicted</th>\n",
       "    </tr>\n",
       "  </thead>\n",
       "  <tbody>\n",
       "    <tr>\n",
       "      <th>0</th>\n",
       "      <td>0</td>\n",
       "      <td>0.275614</td>\n",
       "      <td>1871</td>\n",
       "      <td>27.561383</td>\n",
       "      <td>0</td>\n",
       "    </tr>\n",
       "    <tr>\n",
       "      <th>1</th>\n",
       "      <td>0</td>\n",
       "      <td>0.258929</td>\n",
       "      <td>6795</td>\n",
       "      <td>25.892874</td>\n",
       "      <td>0</td>\n",
       "    </tr>\n",
       "    <tr>\n",
       "      <th>2</th>\n",
       "      <td>0</td>\n",
       "      <td>0.320832</td>\n",
       "      <td>3516</td>\n",
       "      <td>32.083178</td>\n",
       "      <td>0</td>\n",
       "    </tr>\n",
       "    <tr>\n",
       "      <th>3</th>\n",
       "      <td>0</td>\n",
       "      <td>0.858016</td>\n",
       "      <td>8105</td>\n",
       "      <td>85.801560</td>\n",
       "      <td>1</td>\n",
       "    </tr>\n",
       "    <tr>\n",
       "      <th>4</th>\n",
       "      <td>0</td>\n",
       "      <td>0.205746</td>\n",
       "      <td>3934</td>\n",
       "      <td>20.574571</td>\n",
       "      <td>0</td>\n",
       "    </tr>\n",
       "  </tbody>\n",
       "</table>\n",
       "</div>"
      ],
      "text/plain": [
       "   Conversion  Conv_Prob  Customer_id  lead_score  predicted\n",
       "0           0   0.275614         1871   27.561383          0\n",
       "1           0   0.258929         6795   25.892874          0\n",
       "2           0   0.320832         3516   32.083178          0\n",
       "3           0   0.858016         8105   85.801560          1\n",
       "4           0   0.205746         3934   20.574571          0"
      ]
     },
     "execution_count": 193,
     "metadata": {},
     "output_type": "execute_result"
    }
   ],
   "source": [
    "Y_train_pred_final2['predicted'] = Y_train_pred_final2.lead_score.map(lambda x: 1 if x > 50 else 0)\n",
    "\n",
    "# Let's see the head\n",
    "Y_train_pred_final2.head()"
   ]
  },
  {
   "cell_type": "code",
   "execution_count": 194,
   "metadata": {},
   "outputs": [
    {
     "name": "stdout",
     "output_type": "stream",
     "text": [
      "[[3503  499]\n",
      " [ 792 1674]]\n"
     ]
    }
   ],
   "source": [
    "# Confusion matrix \n",
    "confusion = metrics.confusion_matrix(Y_train_pred_final2.Conversion, Y_train_pred_final2.predicted )\n",
    "print(confusion)"
   ]
  },
  {
   "cell_type": "code",
   "execution_count": 195,
   "metadata": {},
   "outputs": [
    {
     "name": "stdout",
     "output_type": "stream",
     "text": [
      "0.8004019789734076\n"
     ]
    }
   ],
   "source": [
    "# Let's check the overall accuracy.\n",
    "print(metrics.accuracy_score(Y_train_pred_final2.Conversion, Y_train_pred_final2.predicted))"
   ]
  },
  {
   "cell_type": "markdown",
   "metadata": {},
   "source": [
    "- So we see the model accuracy has not dropped."
   ]
  },
  {
   "cell_type": "markdown",
   "metadata": {},
   "source": [
    "### Metrics beyond simply accuracy"
   ]
  },
  {
   "cell_type": "code",
   "execution_count": 196,
   "metadata": {},
   "outputs": [],
   "source": [
    "TP = confusion[1,1] # true positive \n",
    "TN = confusion[0,0] # true negatives\n",
    "FP = confusion[0,1] # false positives\n",
    "FN = confusion[1,0] # false negatives"
   ]
  },
  {
   "cell_type": "code",
   "execution_count": 197,
   "metadata": {},
   "outputs": [
    {
     "data": {
      "text/plain": [
       "0.6788321167883211"
      ]
     },
     "execution_count": 197,
     "metadata": {},
     "output_type": "execute_result"
    }
   ],
   "source": [
    "# Let's see the sensitivity of our logistic regression model\n",
    "TP / float(TP+FN)"
   ]
  },
  {
   "cell_type": "code",
   "execution_count": 198,
   "metadata": {},
   "outputs": [
    {
     "data": {
      "text/plain": [
       "0.875312343828086"
      ]
     },
     "execution_count": 198,
     "metadata": {},
     "output_type": "execute_result"
    }
   ],
   "source": [
    "# Let us calculate specificity\n",
    "TN / float(TN+FP)"
   ]
  },
  {
   "cell_type": "code",
   "execution_count": 199,
   "metadata": {},
   "outputs": [
    {
     "name": "stdout",
     "output_type": "stream",
     "text": [
      "0.12468765617191405\n"
     ]
    }
   ],
   "source": [
    "# Calculate false postive rate - predicting conversion when customer does not convert\n",
    "print(FP/ float(TN+FP))"
   ]
  },
  {
   "cell_type": "code",
   "execution_count": 200,
   "metadata": {},
   "outputs": [
    {
     "name": "stdout",
     "output_type": "stream",
     "text": [
      "0.7703635526921307\n"
     ]
    }
   ],
   "source": [
    "# positive predictive value \n",
    "print (TP / float(TP+FP))"
   ]
  },
  {
   "cell_type": "code",
   "execution_count": 201,
   "metadata": {},
   "outputs": [
    {
     "name": "stdout",
     "output_type": "stream",
     "text": [
      "0.8155995343422584\n"
     ]
    }
   ],
   "source": [
    "# Negative predictive value\n",
    "print (TN / float(TN+ FN))"
   ]
  },
  {
   "cell_type": "markdown",
   "metadata": {},
   "source": [
    "## Plotting the ROC Curve"
   ]
  },
  {
   "cell_type": "code",
   "execution_count": 202,
   "metadata": {},
   "outputs": [],
   "source": [
    "def draw_roc( actual, probs ):\n",
    "    fpr, tpr, thresholds = metrics.roc_curve( actual, probs,\n",
    "                                              drop_intermediate = False )\n",
    "    auc_score = metrics.roc_auc_score( actual, probs )\n",
    "    plt.figure(figsize=(5, 5))\n",
    "    plt.plot( fpr, tpr, label='ROC curve (area = %0.2f)' % auc_score )\n",
    "    plt.plot([0, 1], [0, 1], 'k--')\n",
    "    plt.xlim([0.0, 1.0])\n",
    "    plt.ylim([0.0, 1.05])\n",
    "    plt.xlabel('False Positive Rate or [1 - True Negative Rate]')\n",
    "    plt.ylabel('True Positive Rate')\n",
    "    plt.title('Receiver operating characteristic')\n",
    "    plt.legend(loc=\"lower right\")\n",
    "    plt.show()\n",
    "\n",
    "    return None"
   ]
  },
  {
   "cell_type": "code",
   "execution_count": 203,
   "metadata": {},
   "outputs": [],
   "source": [
    "fpr, tpr, thresholds = metrics.roc_curve( Y_train_pred_final2.Conversion, Y_train_pred_final2.Conv_Prob, drop_intermediate = False )"
   ]
  },
  {
   "cell_type": "code",
   "execution_count": 204,
   "metadata": {},
   "outputs": [
    {
     "data": {
      "image/png": "[encoded data removed]",
      "text/plain": [
       "<Figure size 360x360 with 1 Axes>"
      ]
     },
     "metadata": {},
     "output_type": "display_data"
    }
   ],
   "source": [
    "draw_roc(Y_train_pred_final2.Conversion, Y_train_pred_final2.Conv_Prob)"
   ]
  },
  {
   "cell_type": "code",
   "execution_count": 205,
   "metadata": {},
   "outputs": [
    {
     "data": {
      "text/html": [
       "<div>\n",
       "<style scoped>\n",
       "    .dataframe tbody tr th:only-of-type {\n",
       "        vertical-align: middle;\n",
       "    }\n",
       "\n",
       "    .dataframe tbody tr th {\n",
       "        vertical-align: top;\n",
       "    }\n",
       "\n",
       "    .dataframe thead th {\n",
       "        text-align: right;\n",
       "    }\n",
       "</style>\n",
       "<table border=\"1\" class=\"dataframe\">\n",
       "  <thead>\n",
       "    <tr style=\"text-align: right;\">\n",
       "      <th></th>\n",
       "      <th>Conversion</th>\n",
       "      <th>Conv_Prob</th>\n",
       "      <th>Customer_id</th>\n",
       "      <th>lead_score</th>\n",
       "      <th>predicted</th>\n",
       "      <th>0.0</th>\n",
       "      <th>0.1</th>\n",
       "      <th>0.2</th>\n",
       "      <th>0.3</th>\n",
       "      <th>0.4</th>\n",
       "      <th>0.5</th>\n",
       "      <th>0.6</th>\n",
       "      <th>0.7</th>\n",
       "      <th>0.8</th>\n",
       "      <th>0.9</th>\n",
       "    </tr>\n",
       "  </thead>\n",
       "  <tbody>\n",
       "    <tr>\n",
       "      <th>0</th>\n",
       "      <td>0</td>\n",
       "      <td>0.275614</td>\n",
       "      <td>1871</td>\n",
       "      <td>27.561383</td>\n",
       "      <td>0</td>\n",
       "      <td>1</td>\n",
       "      <td>1</td>\n",
       "      <td>1</td>\n",
       "      <td>0</td>\n",
       "      <td>0</td>\n",
       "      <td>0</td>\n",
       "      <td>0</td>\n",
       "      <td>0</td>\n",
       "      <td>0</td>\n",
       "      <td>0</td>\n",
       "    </tr>\n",
       "    <tr>\n",
       "      <th>1</th>\n",
       "      <td>0</td>\n",
       "      <td>0.258929</td>\n",
       "      <td>6795</td>\n",
       "      <td>25.892874</td>\n",
       "      <td>0</td>\n",
       "      <td>1</td>\n",
       "      <td>1</td>\n",
       "      <td>1</td>\n",
       "      <td>0</td>\n",
       "      <td>0</td>\n",
       "      <td>0</td>\n",
       "      <td>0</td>\n",
       "      <td>0</td>\n",
       "      <td>0</td>\n",
       "      <td>0</td>\n",
       "    </tr>\n",
       "    <tr>\n",
       "      <th>2</th>\n",
       "      <td>0</td>\n",
       "      <td>0.320832</td>\n",
       "      <td>3516</td>\n",
       "      <td>32.083178</td>\n",
       "      <td>0</td>\n",
       "      <td>1</td>\n",
       "      <td>1</td>\n",
       "      <td>1</td>\n",
       "      <td>1</td>\n",
       "      <td>0</td>\n",
       "      <td>0</td>\n",
       "      <td>0</td>\n",
       "      <td>0</td>\n",
       "      <td>0</td>\n",
       "      <td>0</td>\n",
       "    </tr>\n",
       "    <tr>\n",
       "      <th>3</th>\n",
       "      <td>0</td>\n",
       "      <td>0.858016</td>\n",
       "      <td>8105</td>\n",
       "      <td>85.801560</td>\n",
       "      <td>1</td>\n",
       "      <td>1</td>\n",
       "      <td>1</td>\n",
       "      <td>1</td>\n",
       "      <td>1</td>\n",
       "      <td>1</td>\n",
       "      <td>1</td>\n",
       "      <td>1</td>\n",
       "      <td>1</td>\n",
       "      <td>1</td>\n",
       "      <td>0</td>\n",
       "    </tr>\n",
       "    <tr>\n",
       "      <th>4</th>\n",
       "      <td>0</td>\n",
       "      <td>0.205746</td>\n",
       "      <td>3934</td>\n",
       "      <td>20.574571</td>\n",
       "      <td>0</td>\n",
       "      <td>1</td>\n",
       "      <td>1</td>\n",
       "      <td>1</td>\n",
       "      <td>0</td>\n",
       "      <td>0</td>\n",
       "      <td>0</td>\n",
       "      <td>0</td>\n",
       "      <td>0</td>\n",
       "      <td>0</td>\n",
       "      <td>0</td>\n",
       "    </tr>\n",
       "  </tbody>\n",
       "</table>\n",
       "</div>"
      ],
      "text/plain": [
       "   Conversion  Conv_Prob  Customer_id  lead_score  predicted  0.0  0.1  0.2  \\\n",
       "0           0   0.275614         1871   27.561383          0    1    1    1   \n",
       "1           0   0.258929         6795   25.892874          0    1    1    1   \n",
       "2           0   0.320832         3516   32.083178          0    1    1    1   \n",
       "3           0   0.858016         8105   85.801560          1    1    1    1   \n",
       "4           0   0.205746         3934   20.574571          0    1    1    1   \n",
       "\n",
       "   0.3  0.4  0.5  0.6  0.7  0.8  0.9  \n",
       "0    0    0    0    0    0    0    0  \n",
       "1    0    0    0    0    0    0    0  \n",
       "2    1    0    0    0    0    0    0  \n",
       "3    1    1    1    1    1    1    0  \n",
       "4    0    0    0    0    0    0    0  "
      ]
     },
     "execution_count": 205,
     "metadata": {},
     "output_type": "execute_result"
    }
   ],
   "source": [
    "# Let's create columns with different probability cutoffs \n",
    "numbers = [float(x)/10 for x in range(10)]\n",
    "for i in numbers:\n",
    "    Y_train_pred_final2[i]= Y_train_pred_final2.Conv_Prob.map(lambda x: 1 if x > i else 0)\n",
    "Y_train_pred_final2.head()"
   ]
  },
  {
   "cell_type": "code",
   "execution_count": 206,
   "metadata": {},
   "outputs": [
    {
     "name": "stdout",
     "output_type": "stream",
     "text": [
      "     prob  accuracy     sensi     speci\n",
      "0.0   0.0  0.381262  1.000000  0.000000\n",
      "0.1   0.1  0.565553  0.969992  0.316342\n",
      "0.2   0.2  0.723098  0.911598  0.606947\n",
      "0.3   0.3  0.791589  0.825223  0.770865\n",
      "0.4   0.4  0.798856  0.759530  0.823088\n",
      "0.5   0.5  0.800402  0.678832  0.875312\n",
      "0.6   0.6  0.777675  0.551095  0.917291\n",
      "0.7   0.7  0.762059  0.465937  0.944528\n",
      "0.8   0.8  0.736858  0.366180  0.965267\n",
      "0.9   0.9  0.684910  0.191403  0.989005\n"
     ]
    }
   ],
   "source": [
    "# Now let's calculate accuracy sensitivity and specificity for various probability cutoffs.\n",
    "cutoff_df = pd.DataFrame( columns = ['prob','accuracy','sensi','speci'])\n",
    "from sklearn.metrics import confusion_matrix\n",
    "\n",
    "# TP = confusion[1,1] # true positive \n",
    "# TN = confusion[0,0] # true negatives\n",
    "# FP = confusion[0,1] # false positives\n",
    "# FN = confusion[1,0] # false negatives\n",
    "\n",
    "num = [0.0,0.1,0.2,0.3,0.4,0.5,0.6,0.7,0.8,0.9]\n",
    "for i in num:\n",
    "    cm1 = metrics.confusion_matrix(Y_train_pred_final2.Conversion, Y_train_pred_final2[i] )\n",
    "    total1=sum(sum(cm1))\n",
    "    accuracy = (cm1[0,0]+cm1[1,1])/total1\n",
    "    \n",
    "    speci = cm1[0,0]/(cm1[0,0]+cm1[0,1])\n",
    "    sensi = cm1[1,1]/(cm1[1,0]+cm1[1,1])\n",
    "    cutoff_df.loc[i] =[ i ,accuracy,sensi,speci]\n",
    "print(cutoff_df)"
   ]
  },
  {
   "cell_type": "code",
   "execution_count": 207,
   "metadata": {},
   "outputs": [
    {
     "data": {
      "image/png": "[encoded data removed]",
      "text/plain": [
       "<Figure size 432x288 with 1 Axes>"
      ]
     },
     "metadata": {},
     "output_type": "display_data"
    }
   ],
   "source": [
    "# Let's plot accuracy sensitivity and specificity for various probabilities.\n",
    "cutoff_df.plot.line(x='prob', y=['accuracy','sensi','speci'])\n",
    "plt.show()"
   ]
  },
  {
   "cell_type": "markdown",
   "metadata": {},
   "source": [
    "## From the curve above, 0.35 is the optimum point to take it as a cutoff probability."
   ]
  },
  {
   "cell_type": "code",
   "execution_count": 208,
   "metadata": {},
   "outputs": [
    {
     "data": {
      "text/html": [
       "<div>\n",
       "<style scoped>\n",
       "    .dataframe tbody tr th:only-of-type {\n",
       "        vertical-align: middle;\n",
       "    }\n",
       "\n",
       "    .dataframe tbody tr th {\n",
       "        vertical-align: top;\n",
       "    }\n",
       "\n",
       "    .dataframe thead th {\n",
       "        text-align: right;\n",
       "    }\n",
       "</style>\n",
       "<table border=\"1\" class=\"dataframe\">\n",
       "  <thead>\n",
       "    <tr style=\"text-align: right;\">\n",
       "      <th></th>\n",
       "      <th>Conversion</th>\n",
       "      <th>Conv_Prob</th>\n",
       "      <th>Customer_id</th>\n",
       "      <th>lead_score</th>\n",
       "      <th>predicted</th>\n",
       "      <th>0.0</th>\n",
       "      <th>0.1</th>\n",
       "      <th>0.2</th>\n",
       "      <th>0.3</th>\n",
       "      <th>0.4</th>\n",
       "      <th>0.5</th>\n",
       "      <th>0.6</th>\n",
       "      <th>0.7</th>\n",
       "      <th>0.8</th>\n",
       "      <th>0.9</th>\n",
       "      <th>final_predicted</th>\n",
       "    </tr>\n",
       "  </thead>\n",
       "  <tbody>\n",
       "    <tr>\n",
       "      <th>0</th>\n",
       "      <td>0</td>\n",
       "      <td>0.275614</td>\n",
       "      <td>1871</td>\n",
       "      <td>27.561383</td>\n",
       "      <td>0</td>\n",
       "      <td>1</td>\n",
       "      <td>1</td>\n",
       "      <td>1</td>\n",
       "      <td>0</td>\n",
       "      <td>0</td>\n",
       "      <td>0</td>\n",
       "      <td>0</td>\n",
       "      <td>0</td>\n",
       "      <td>0</td>\n",
       "      <td>0</td>\n",
       "      <td>0</td>\n",
       "    </tr>\n",
       "    <tr>\n",
       "      <th>1</th>\n",
       "      <td>0</td>\n",
       "      <td>0.258929</td>\n",
       "      <td>6795</td>\n",
       "      <td>25.892874</td>\n",
       "      <td>0</td>\n",
       "      <td>1</td>\n",
       "      <td>1</td>\n",
       "      <td>1</td>\n",
       "      <td>0</td>\n",
       "      <td>0</td>\n",
       "      <td>0</td>\n",
       "      <td>0</td>\n",
       "      <td>0</td>\n",
       "      <td>0</td>\n",
       "      <td>0</td>\n",
       "      <td>0</td>\n",
       "    </tr>\n",
       "    <tr>\n",
       "      <th>2</th>\n",
       "      <td>0</td>\n",
       "      <td>0.320832</td>\n",
       "      <td>3516</td>\n",
       "      <td>32.083178</td>\n",
       "      <td>0</td>\n",
       "      <td>1</td>\n",
       "      <td>1</td>\n",
       "      <td>1</td>\n",
       "      <td>1</td>\n",
       "      <td>0</td>\n",
       "      <td>0</td>\n",
       "      <td>0</td>\n",
       "      <td>0</td>\n",
       "      <td>0</td>\n",
       "      <td>0</td>\n",
       "      <td>0</td>\n",
       "    </tr>\n",
       "    <tr>\n",
       "      <th>3</th>\n",
       "      <td>0</td>\n",
       "      <td>0.858016</td>\n",
       "      <td>8105</td>\n",
       "      <td>85.801560</td>\n",
       "      <td>1</td>\n",
       "      <td>1</td>\n",
       "      <td>1</td>\n",
       "      <td>1</td>\n",
       "      <td>1</td>\n",
       "      <td>1</td>\n",
       "      <td>1</td>\n",
       "      <td>1</td>\n",
       "      <td>1</td>\n",
       "      <td>1</td>\n",
       "      <td>0</td>\n",
       "      <td>1</td>\n",
       "    </tr>\n",
       "    <tr>\n",
       "      <th>4</th>\n",
       "      <td>0</td>\n",
       "      <td>0.205746</td>\n",
       "      <td>3934</td>\n",
       "      <td>20.574571</td>\n",
       "      <td>0</td>\n",
       "      <td>1</td>\n",
       "      <td>1</td>\n",
       "      <td>1</td>\n",
       "      <td>0</td>\n",
       "      <td>0</td>\n",
       "      <td>0</td>\n",
       "      <td>0</td>\n",
       "      <td>0</td>\n",
       "      <td>0</td>\n",
       "      <td>0</td>\n",
       "      <td>0</td>\n",
       "    </tr>\n",
       "  </tbody>\n",
       "</table>\n",
       "</div>"
      ],
      "text/plain": [
       "   Conversion  Conv_Prob  Customer_id  lead_score  predicted  0.0  0.1  0.2  \\\n",
       "0           0   0.275614         1871   27.561383          0    1    1    1   \n",
       "1           0   0.258929         6795   25.892874          0    1    1    1   \n",
       "2           0   0.320832         3516   32.083178          0    1    1    1   \n",
       "3           0   0.858016         8105   85.801560          1    1    1    1   \n",
       "4           0   0.205746         3934   20.574571          0    1    1    1   \n",
       "\n",
       "   0.3  0.4  0.5  0.6  0.7  0.8  0.9  final_predicted  \n",
       "0    0    0    0    0    0    0    0                0  \n",
       "1    0    0    0    0    0    0    0                0  \n",
       "2    1    0    0    0    0    0    0                0  \n",
       "3    1    1    1    1    1    1    0                1  \n",
       "4    0    0    0    0    0    0    0                0  "
      ]
     },
     "execution_count": 208,
     "metadata": {},
     "output_type": "execute_result"
    }
   ],
   "source": [
    "Y_train_pred_final2['final_predicted'] = Y_train_pred_final2.Conv_Prob.map( lambda x: 1 if x > 0.35 else 0)\n",
    "\n",
    "Y_train_pred_final2.head()"
   ]
  },
  {
   "cell_type": "code",
   "execution_count": 209,
   "metadata": {},
   "outputs": [
    {
     "data": {
      "text/plain": [
       "0.7957637600494744"
      ]
     },
     "execution_count": 209,
     "metadata": {},
     "output_type": "execute_result"
    }
   ],
   "source": [
    "# Let's check the overall accuracy.\n",
    "metrics.accuracy_score(Y_train_pred_final2.Conversion, Y_train_pred_final2.final_predicted)"
   ]
  },
  {
   "cell_type": "code",
   "execution_count": 210,
   "metadata": {},
   "outputs": [],
   "source": [
    "from sklearn.metrics import precision_score, recall_score"
   ]
  },
  {
   "cell_type": "code",
   "execution_count": 211,
   "metadata": {},
   "outputs": [
    {
     "data": {
      "text/plain": [
       "0.7703635526921307"
      ]
     },
     "execution_count": 211,
     "metadata": {},
     "output_type": "execute_result"
    }
   ],
   "source": [
    "precision_score(Y_train_pred_final2.Conversion, Y_train_pred_final2.predicted)"
   ]
  },
  {
   "cell_type": "code",
   "execution_count": 212,
   "metadata": {},
   "outputs": [
    {
     "data": {
      "text/plain": [
       "0.6788321167883211"
      ]
     },
     "execution_count": 212,
     "metadata": {},
     "output_type": "execute_result"
    }
   ],
   "source": [
    "recall_score(Y_train_pred_final2.Conversion, Y_train_pred_final2.predicted)"
   ]
  },
  {
   "cell_type": "code",
   "execution_count": 213,
   "metadata": {},
   "outputs": [
    {
     "data": {
      "text/plain": [
       "(0       0\n",
       " 1       0\n",
       " 2       0\n",
       " 3       0\n",
       " 4       0\n",
       " 5       1\n",
       " 6       0\n",
       " 7       1\n",
       " 8       0\n",
       " 9       1\n",
       " 10      1\n",
       " 11      0\n",
       " 12      1\n",
       " 13      1\n",
       " 14      0\n",
       " 15      0\n",
       " 16      0\n",
       " 17      0\n",
       " 18      0\n",
       " 19      1\n",
       " 20      1\n",
       " 21      1\n",
       " 22      1\n",
       " 23      1\n",
       " 24      1\n",
       " 25      1\n",
       " 26      0\n",
       " 27      1\n",
       " 28      1\n",
       " 29      0\n",
       "        ..\n",
       " 6438    1\n",
       " 6439    0\n",
       " 6440    1\n",
       " 6441    1\n",
       " 6442    0\n",
       " 6443    0\n",
       " 6444    0\n",
       " 6445    0\n",
       " 6446    0\n",
       " 6447    0\n",
       " 6448    0\n",
       " 6449    0\n",
       " 6450    1\n",
       " 6451    1\n",
       " 6452    1\n",
       " 6453    1\n",
       " 6454    1\n",
       " 6455    1\n",
       " 6456    1\n",
       " 6457    1\n",
       " 6458    0\n",
       " 6459    1\n",
       " 6460    1\n",
       " 6461    0\n",
       " 6462    1\n",
       " 6463    1\n",
       " 6464    1\n",
       " 6465    1\n",
       " 6466    0\n",
       " 6467    0\n",
       " Name: Conversion, Length: 6468, dtype: int64, 0       0\n",
       " 1       0\n",
       " 2       0\n",
       " 3       1\n",
       " 4       0\n",
       " 5       1\n",
       " 6       0\n",
       " 7       1\n",
       " 8       0\n",
       " 9       1\n",
       " 10      1\n",
       " 11      0\n",
       " 12      0\n",
       " 13      1\n",
       " 14      0\n",
       " 15      0\n",
       " 16      0\n",
       " 17      0\n",
       " 18      0\n",
       " 19      0\n",
       " 20      1\n",
       " 21      1\n",
       " 22      1\n",
       " 23      1\n",
       " 24      1\n",
       " 25      1\n",
       " 26      0\n",
       " 27      1\n",
       " 28      1\n",
       " 29      0\n",
       "        ..\n",
       " 6438    0\n",
       " 6439    0\n",
       " 6440    0\n",
       " 6441    1\n",
       " 6442    0\n",
       " 6443    0\n",
       " 6444    0\n",
       " 6445    0\n",
       " 6446    0\n",
       " 6447    0\n",
       " 6448    0\n",
       " 6449    0\n",
       " 6450    1\n",
       " 6451    1\n",
       " 6452    1\n",
       " 6453    1\n",
       " 6454    1\n",
       " 6455    1\n",
       " 6456    1\n",
       " 6457    0\n",
       " 6458    0\n",
       " 6459    1\n",
       " 6460    1\n",
       " 6461    0\n",
       " 6462    1\n",
       " 6463    1\n",
       " 6464    1\n",
       " 6465    0\n",
       " 6466    0\n",
       " 6467    0\n",
       " Name: predicted, Length: 6468, dtype: int64)"
      ]
     },
     "execution_count": 213,
     "metadata": {},
     "output_type": "execute_result"
    }
   ],
   "source": [
    "Y_train_pred_final2.Conversion, Y_train_pred_final2.predicted"
   ]
  },
  {
   "cell_type": "markdown",
   "metadata": {},
   "source": [
    "### Precision Recall tradeoff"
   ]
  },
  {
   "cell_type": "code",
   "execution_count": 214,
   "metadata": {},
   "outputs": [],
   "source": [
    "from sklearn.metrics import precision_recall_curve\n",
    "p, r, thresholds = precision_recall_curve(Y_train_pred_final2.Conversion, Y_train_pred_final2.Conv_Prob)"
   ]
  },
  {
   "cell_type": "code",
   "execution_count": 215,
   "metadata": {},
   "outputs": [
    {
     "data": {
      "image/png": "[encoded data removed]",
      "text/plain": [
       "<Figure size 432x288 with 1 Axes>"
      ]
     },
     "metadata": {},
     "output_type": "display_data"
    }
   ],
   "source": [
    "plt.plot(thresholds, p[:-1], \"g-\")\n",
    "plt.plot(thresholds, r[:-1], \"r-\")\n",
    "plt.show()"
   ]
  },
  {
   "cell_type": "markdown",
   "metadata": {},
   "source": [
    "## Making predictions on the Test Set"
   ]
  },
  {
   "cell_type": "markdown",
   "metadata": {},
   "source": [
    "#### Checking the Test sets\n",
    "   - We had already scaled our data before, so our test sets are in a scaled state and hence we do not need to perform any scaling again"
   ]
  },
  {
   "cell_type": "code",
   "execution_count": 216,
   "metadata": {},
   "outputs": [
    {
     "data": {
      "text/html": [
       "<div>\n",
       "<style scoped>\n",
       "    .dataframe tbody tr th:only-of-type {\n",
       "        vertical-align: middle;\n",
       "    }\n",
       "\n",
       "    .dataframe tbody tr th {\n",
       "        vertical-align: top;\n",
       "    }\n",
       "\n",
       "    .dataframe thead th {\n",
       "        text-align: right;\n",
       "    }\n",
       "</style>\n",
       "<table border=\"1\" class=\"dataframe\">\n",
       "  <thead>\n",
       "    <tr style=\"text-align: right;\">\n",
       "      <th></th>\n",
       "      <th>Do Not Email</th>\n",
       "      <th>Do Not Call</th>\n",
       "      <th>Search</th>\n",
       "      <th>Newspaper Article</th>\n",
       "      <th>X Education Forums</th>\n",
       "      <th>Newspaper</th>\n",
       "      <th>Digital Advertisement</th>\n",
       "      <th>Through Recommendations</th>\n",
       "      <th>A free copy of Mastering The Interview</th>\n",
       "      <th>lead_origin_Landing Page Submission</th>\n",
       "      <th>...</th>\n",
       "      <th>last_Notable_activity_Olark Chat Conversation</th>\n",
       "      <th>last_Notable_activity_Page Visited on Website</th>\n",
       "      <th>last_Notable_activity_Resubscribed to emails</th>\n",
       "      <th>last_Notable_activity_SMS Sent</th>\n",
       "      <th>last_Notable_activity_Unreachable</th>\n",
       "      <th>last_Notable_activity_Unsubscribed</th>\n",
       "      <th>last_Notable_activity_View in browser link Clicked</th>\n",
       "      <th>TotalVisits</th>\n",
       "      <th>Total Time Spent on Website</th>\n",
       "      <th>Page Views Per Visit</th>\n",
       "    </tr>\n",
       "  </thead>\n",
       "  <tbody>\n",
       "    <tr>\n",
       "      <th>4269</th>\n",
       "      <td>0</td>\n",
       "      <td>0</td>\n",
       "      <td>0</td>\n",
       "      <td>0</td>\n",
       "      <td>0</td>\n",
       "      <td>0</td>\n",
       "      <td>0</td>\n",
       "      <td>0</td>\n",
       "      <td>0</td>\n",
       "      <td>0</td>\n",
       "      <td>...</td>\n",
       "      <td>0</td>\n",
       "      <td>0</td>\n",
       "      <td>0</td>\n",
       "      <td>1</td>\n",
       "      <td>0</td>\n",
       "      <td>0</td>\n",
       "      <td>0</td>\n",
       "      <td>0.946533</td>\n",
       "      <td>0.954893</td>\n",
       "      <td>2.629607</td>\n",
       "    </tr>\n",
       "    <tr>\n",
       "      <th>2376</th>\n",
       "      <td>0</td>\n",
       "      <td>0</td>\n",
       "      <td>0</td>\n",
       "      <td>0</td>\n",
       "      <td>0</td>\n",
       "      <td>0</td>\n",
       "      <td>0</td>\n",
       "      <td>0</td>\n",
       "      <td>0</td>\n",
       "      <td>0</td>\n",
       "      <td>...</td>\n",
       "      <td>0</td>\n",
       "      <td>0</td>\n",
       "      <td>0</td>\n",
       "      <td>1</td>\n",
       "      <td>0</td>\n",
       "      <td>0</td>\n",
       "      <td>0</td>\n",
       "      <td>-0.713555</td>\n",
       "      <td>-0.889925</td>\n",
       "      <td>-1.098640</td>\n",
       "    </tr>\n",
       "    <tr>\n",
       "      <th>7766</th>\n",
       "      <td>0</td>\n",
       "      <td>0</td>\n",
       "      <td>0</td>\n",
       "      <td>0</td>\n",
       "      <td>0</td>\n",
       "      <td>0</td>\n",
       "      <td>0</td>\n",
       "      <td>0</td>\n",
       "      <td>0</td>\n",
       "      <td>0</td>\n",
       "      <td>...</td>\n",
       "      <td>0</td>\n",
       "      <td>0</td>\n",
       "      <td>0</td>\n",
       "      <td>0</td>\n",
       "      <td>1</td>\n",
       "      <td>0</td>\n",
       "      <td>0</td>\n",
       "      <td>0.324000</td>\n",
       "      <td>-0.782265</td>\n",
       "      <td>1.231514</td>\n",
       "    </tr>\n",
       "    <tr>\n",
       "      <th>9199</th>\n",
       "      <td>0</td>\n",
       "      <td>0</td>\n",
       "      <td>0</td>\n",
       "      <td>0</td>\n",
       "      <td>0</td>\n",
       "      <td>0</td>\n",
       "      <td>0</td>\n",
       "      <td>0</td>\n",
       "      <td>0</td>\n",
       "      <td>0</td>\n",
       "      <td>...</td>\n",
       "      <td>0</td>\n",
       "      <td>0</td>\n",
       "      <td>0</td>\n",
       "      <td>0</td>\n",
       "      <td>0</td>\n",
       "      <td>0</td>\n",
       "      <td>0</td>\n",
       "      <td>-0.713555</td>\n",
       "      <td>-0.889925</td>\n",
       "      <td>-1.098640</td>\n",
       "    </tr>\n",
       "    <tr>\n",
       "      <th>4359</th>\n",
       "      <td>0</td>\n",
       "      <td>0</td>\n",
       "      <td>0</td>\n",
       "      <td>0</td>\n",
       "      <td>0</td>\n",
       "      <td>0</td>\n",
       "      <td>0</td>\n",
       "      <td>0</td>\n",
       "      <td>0</td>\n",
       "      <td>0</td>\n",
       "      <td>...</td>\n",
       "      <td>0</td>\n",
       "      <td>0</td>\n",
       "      <td>0</td>\n",
       "      <td>0</td>\n",
       "      <td>0</td>\n",
       "      <td>0</td>\n",
       "      <td>0</td>\n",
       "      <td>-0.713555</td>\n",
       "      <td>-0.889925</td>\n",
       "      <td>-1.098640</td>\n",
       "    </tr>\n",
       "  </tbody>\n",
       "</table>\n",
       "<p>5 rows × 67 columns</p>\n",
       "</div>"
      ],
      "text/plain": [
       "      Do Not Email  Do Not Call  Search  Newspaper Article  \\\n",
       "4269             0            0       0                  0   \n",
       "2376             0            0       0                  0   \n",
       "7766             0            0       0                  0   \n",
       "9199             0            0       0                  0   \n",
       "4359             0            0       0                  0   \n",
       "\n",
       "      X Education Forums  Newspaper  Digital Advertisement  \\\n",
       "4269                   0          0                      0   \n",
       "2376                   0          0                      0   \n",
       "7766                   0          0                      0   \n",
       "9199                   0          0                      0   \n",
       "4359                   0          0                      0   \n",
       "\n",
       "      Through Recommendations  A free copy of Mastering The Interview  \\\n",
       "4269                        0                                       0   \n",
       "2376                        0                                       0   \n",
       "7766                        0                                       0   \n",
       "9199                        0                                       0   \n",
       "4359                        0                                       0   \n",
       "\n",
       "      lead_origin_Landing Page Submission          ...           \\\n",
       "4269                                    0          ...            \n",
       "2376                                    0          ...            \n",
       "7766                                    0          ...            \n",
       "9199                                    0          ...            \n",
       "4359                                    0          ...            \n",
       "\n",
       "      last_Notable_activity_Olark Chat Conversation  \\\n",
       "4269                                              0   \n",
       "2376                                              0   \n",
       "7766                                              0   \n",
       "9199                                              0   \n",
       "4359                                              0   \n",
       "\n",
       "      last_Notable_activity_Page Visited on Website  \\\n",
       "4269                                              0   \n",
       "2376                                              0   \n",
       "7766                                              0   \n",
       "9199                                              0   \n",
       "4359                                              0   \n",
       "\n",
       "      last_Notable_activity_Resubscribed to emails  \\\n",
       "4269                                             0   \n",
       "2376                                             0   \n",
       "7766                                             0   \n",
       "9199                                             0   \n",
       "4359                                             0   \n",
       "\n",
       "      last_Notable_activity_SMS Sent  last_Notable_activity_Unreachable  \\\n",
       "4269                               1                                  0   \n",
       "2376                               1                                  0   \n",
       "7766                               0                                  1   \n",
       "9199                               0                                  0   \n",
       "4359                               0                                  0   \n",
       "\n",
       "      last_Notable_activity_Unsubscribed  \\\n",
       "4269                                   0   \n",
       "2376                                   0   \n",
       "7766                                   0   \n",
       "9199                                   0   \n",
       "4359                                   0   \n",
       "\n",
       "      last_Notable_activity_View in browser link Clicked  TotalVisits  \\\n",
       "4269                                                  0      0.946533   \n",
       "2376                                                  0     -0.713555   \n",
       "7766                                                  0      0.324000   \n",
       "9199                                                  0     -0.713555   \n",
       "4359                                                  0     -0.713555   \n",
       "\n",
       "      Total Time Spent on Website  Page Views Per Visit  \n",
       "4269                     0.954893              2.629607  \n",
       "2376                    -0.889925             -1.098640  \n",
       "7766                    -0.782265              1.231514  \n",
       "9199                    -0.889925             -1.098640  \n",
       "4359                    -0.889925             -1.098640  \n",
       "\n",
       "[5 rows x 67 columns]"
      ]
     },
     "execution_count": 216,
     "metadata": {},
     "output_type": "execute_result"
    }
   ],
   "source": [
    "X_test.head()"
   ]
  },
  {
   "cell_type": "code",
   "execution_count": 217,
   "metadata": {},
   "outputs": [
    {
     "data": {
      "text/plain": [
       "4269    1\n",
       "2376    1\n",
       "7766    1\n",
       "9199    0\n",
       "4359    1\n",
       "Name: Converted, dtype: int64"
      ]
     },
     "execution_count": 217,
     "metadata": {},
     "output_type": "execute_result"
    }
   ],
   "source": [
    "Y_test.head()"
   ]
  },
  {
   "cell_type": "markdown",
   "metadata": {},
   "source": [
    "- Retaining only the columns we got as best fits from our model built above"
   ]
  },
  {
   "cell_type": "code",
   "execution_count": 218,
   "metadata": {},
   "outputs": [],
   "source": [
    "X_test_new = X_test[X_train_rfe_model2.drop(columns=['const'],axis=1).columns]"
   ]
  },
  {
   "cell_type": "code",
   "execution_count": 219,
   "metadata": {},
   "outputs": [],
   "source": [
    "# Now let's use our model to make predictions.\n",
    "# Adding a constant variable \n",
    "X_test_new = sm.add_constant(X_test_new)"
   ]
  },
  {
   "cell_type": "code",
   "execution_count": 220,
   "metadata": {},
   "outputs": [
    {
     "data": {
      "text/plain": [
       "(2772, 15)"
      ]
     },
     "execution_count": 220,
     "metadata": {},
     "output_type": "execute_result"
    }
   ],
   "source": [
    "X_test_new.shape"
   ]
  },
  {
   "cell_type": "code",
   "execution_count": 221,
   "metadata": {},
   "outputs": [],
   "source": [
    "# Making predictions\n",
    "Y_test_pred = lm2.predict(X_test_new)"
   ]
  },
  {
   "cell_type": "code",
   "execution_count": 222,
   "metadata": {},
   "outputs": [
    {
     "data": {
      "text/plain": [
       "4269    0.794436\n",
       "2376    0.962305\n",
       "7766    0.356315\n",
       "9199    0.069563\n",
       "4359    0.870569\n",
       "dtype: float64"
      ]
     },
     "execution_count": 222,
     "metadata": {},
     "output_type": "execute_result"
    }
   ],
   "source": [
    "Y_test_pred.head()"
   ]
  },
  {
   "cell_type": "markdown",
   "metadata": {},
   "source": [
    "## Model Evaluation"
   ]
  },
  {
   "cell_type": "code",
   "execution_count": 223,
   "metadata": {},
   "outputs": [],
   "source": [
    "# Converting y_pred to a dataframe which is an array\n",
    "y_pred_1 = pd.DataFrame(Y_test_pred)"
   ]
  },
  {
   "cell_type": "code",
   "execution_count": 224,
   "metadata": {},
   "outputs": [
    {
     "data": {
      "text/html": [
       "<div>\n",
       "<style scoped>\n",
       "    .dataframe tbody tr th:only-of-type {\n",
       "        vertical-align: middle;\n",
       "    }\n",
       "\n",
       "    .dataframe tbody tr th {\n",
       "        vertical-align: top;\n",
       "    }\n",
       "\n",
       "    .dataframe thead th {\n",
       "        text-align: right;\n",
       "    }\n",
       "</style>\n",
       "<table border=\"1\" class=\"dataframe\">\n",
       "  <thead>\n",
       "    <tr style=\"text-align: right;\">\n",
       "      <th></th>\n",
       "      <th>0</th>\n",
       "    </tr>\n",
       "  </thead>\n",
       "  <tbody>\n",
       "    <tr>\n",
       "      <th>4269</th>\n",
       "      <td>0.794436</td>\n",
       "    </tr>\n",
       "    <tr>\n",
       "      <th>2376</th>\n",
       "      <td>0.962305</td>\n",
       "    </tr>\n",
       "    <tr>\n",
       "      <th>7766</th>\n",
       "      <td>0.356315</td>\n",
       "    </tr>\n",
       "    <tr>\n",
       "      <th>9199</th>\n",
       "      <td>0.069563</td>\n",
       "    </tr>\n",
       "    <tr>\n",
       "      <th>4359</th>\n",
       "      <td>0.870569</td>\n",
       "    </tr>\n",
       "  </tbody>\n",
       "</table>\n",
       "</div>"
      ],
      "text/plain": [
       "             0\n",
       "4269  0.794436\n",
       "2376  0.962305\n",
       "7766  0.356315\n",
       "9199  0.069563\n",
       "4359  0.870569"
      ]
     },
     "execution_count": 224,
     "metadata": {},
     "output_type": "execute_result"
    }
   ],
   "source": [
    "# Let's see the head\n",
    "y_pred_1.head()"
   ]
  },
  {
   "cell_type": "code",
   "execution_count": 225,
   "metadata": {},
   "outputs": [],
   "source": [
    "# Converting y_test to dataframe\n",
    "y_test_df = pd.DataFrame(Y_test)"
   ]
  },
  {
   "cell_type": "code",
   "execution_count": 226,
   "metadata": {},
   "outputs": [],
   "source": [
    "# Putting CustID to index\n",
    "y_test_df['Customer_id'] = y_test_df.index"
   ]
  },
  {
   "cell_type": "code",
   "execution_count": 227,
   "metadata": {},
   "outputs": [],
   "source": [
    "# Removing index for both dataframes to append them side by side \n",
    "y_pred_1.reset_index(drop=True, inplace=True)\n",
    "y_test_df.reset_index(drop=True, inplace=True)"
   ]
  },
  {
   "cell_type": "code",
   "execution_count": 228,
   "metadata": {},
   "outputs": [],
   "source": [
    "# Appending y_test_df and y_pred_1\n",
    "y_pred_final = pd.concat([y_test_df, y_pred_1],axis=1)"
   ]
  },
  {
   "cell_type": "code",
   "execution_count": 229,
   "metadata": {},
   "outputs": [
    {
     "data": {
      "text/html": [
       "<div>\n",
       "<style scoped>\n",
       "    .dataframe tbody tr th:only-of-type {\n",
       "        vertical-align: middle;\n",
       "    }\n",
       "\n",
       "    .dataframe tbody tr th {\n",
       "        vertical-align: top;\n",
       "    }\n",
       "\n",
       "    .dataframe thead th {\n",
       "        text-align: right;\n",
       "    }\n",
       "</style>\n",
       "<table border=\"1\" class=\"dataframe\">\n",
       "  <thead>\n",
       "    <tr style=\"text-align: right;\">\n",
       "      <th></th>\n",
       "      <th>Converted</th>\n",
       "      <th>Customer_id</th>\n",
       "      <th>0</th>\n",
       "    </tr>\n",
       "  </thead>\n",
       "  <tbody>\n",
       "    <tr>\n",
       "      <th>0</th>\n",
       "      <td>1</td>\n",
       "      <td>4269</td>\n",
       "      <td>0.794436</td>\n",
       "    </tr>\n",
       "    <tr>\n",
       "      <th>1</th>\n",
       "      <td>1</td>\n",
       "      <td>2376</td>\n",
       "      <td>0.962305</td>\n",
       "    </tr>\n",
       "    <tr>\n",
       "      <th>2</th>\n",
       "      <td>1</td>\n",
       "      <td>7766</td>\n",
       "      <td>0.356315</td>\n",
       "    </tr>\n",
       "    <tr>\n",
       "      <th>3</th>\n",
       "      <td>0</td>\n",
       "      <td>9199</td>\n",
       "      <td>0.069563</td>\n",
       "    </tr>\n",
       "    <tr>\n",
       "      <th>4</th>\n",
       "      <td>1</td>\n",
       "      <td>4359</td>\n",
       "      <td>0.870569</td>\n",
       "    </tr>\n",
       "  </tbody>\n",
       "</table>\n",
       "</div>"
      ],
      "text/plain": [
       "   Converted  Customer_id         0\n",
       "0          1         4269  0.794436\n",
       "1          1         2376  0.962305\n",
       "2          1         7766  0.356315\n",
       "3          0         9199  0.069563\n",
       "4          1         4359  0.870569"
      ]
     },
     "execution_count": 229,
     "metadata": {},
     "output_type": "execute_result"
    }
   ],
   "source": [
    "y_pred_final.head()"
   ]
  },
  {
   "cell_type": "code",
   "execution_count": 230,
   "metadata": {},
   "outputs": [],
   "source": [
    "# Renaming the column \n",
    "y_pred_final= y_pred_final.rename(columns={ 0 : 'Conv_Prob'})"
   ]
  },
  {
   "cell_type": "code",
   "execution_count": 231,
   "metadata": {},
   "outputs": [
    {
     "name": "stderr",
     "output_type": "stream",
     "text": [
      "C:\\Users\\bagarg\\AppData\\Local\\Continuum\\anaconda3\\lib\\site-packages\\ipykernel_launcher.py:2: FutureWarning: '.reindex_axis' is deprecated and will be removed in a future version. Use '.reindex' instead.\n",
      "  \n"
     ]
    }
   ],
   "source": [
    "# Rearranging the columns\n",
    "y_pred_final = y_pred_final.reindex_axis(['Customer_id','Converted','Conv_Prob'], axis=1)"
   ]
  },
  {
   "cell_type": "code",
   "execution_count": 232,
   "metadata": {},
   "outputs": [
    {
     "data": {
      "text/html": [
       "<div>\n",
       "<style scoped>\n",
       "    .dataframe tbody tr th:only-of-type {\n",
       "        vertical-align: middle;\n",
       "    }\n",
       "\n",
       "    .dataframe tbody tr th {\n",
       "        vertical-align: top;\n",
       "    }\n",
       "\n",
       "    .dataframe thead th {\n",
       "        text-align: right;\n",
       "    }\n",
       "</style>\n",
       "<table border=\"1\" class=\"dataframe\">\n",
       "  <thead>\n",
       "    <tr style=\"text-align: right;\">\n",
       "      <th></th>\n",
       "      <th>Customer_id</th>\n",
       "      <th>Converted</th>\n",
       "      <th>Conv_Prob</th>\n",
       "    </tr>\n",
       "  </thead>\n",
       "  <tbody>\n",
       "    <tr>\n",
       "      <th>0</th>\n",
       "      <td>4269</td>\n",
       "      <td>1</td>\n",
       "      <td>0.794436</td>\n",
       "    </tr>\n",
       "    <tr>\n",
       "      <th>1</th>\n",
       "      <td>2376</td>\n",
       "      <td>1</td>\n",
       "      <td>0.962305</td>\n",
       "    </tr>\n",
       "    <tr>\n",
       "      <th>2</th>\n",
       "      <td>7766</td>\n",
       "      <td>1</td>\n",
       "      <td>0.356315</td>\n",
       "    </tr>\n",
       "    <tr>\n",
       "      <th>3</th>\n",
       "      <td>9199</td>\n",
       "      <td>0</td>\n",
       "      <td>0.069563</td>\n",
       "    </tr>\n",
       "    <tr>\n",
       "      <th>4</th>\n",
       "      <td>4359</td>\n",
       "      <td>1</td>\n",
       "      <td>0.870569</td>\n",
       "    </tr>\n",
       "  </tbody>\n",
       "</table>\n",
       "</div>"
      ],
      "text/plain": [
       "   Customer_id  Converted  Conv_Prob\n",
       "0         4269          1   0.794436\n",
       "1         2376          1   0.962305\n",
       "2         7766          1   0.356315\n",
       "3         9199          0   0.069563\n",
       "4         4359          1   0.870569"
      ]
     },
     "execution_count": 232,
     "metadata": {},
     "output_type": "execute_result"
    }
   ],
   "source": [
    "# Let's see the head of y_pred_final\n",
    "y_pred_final.head()"
   ]
  },
  {
   "cell_type": "code",
   "execution_count": 233,
   "metadata": {},
   "outputs": [],
   "source": [
    "y_pred_final['final_predicted'] = y_pred_final.Conv_Prob.map(lambda x: 1 if x > 0.35 else 0)"
   ]
  },
  {
   "cell_type": "code",
   "execution_count": 234,
   "metadata": {},
   "outputs": [
    {
     "data": {
      "text/html": [
       "<div>\n",
       "<style scoped>\n",
       "    .dataframe tbody tr th:only-of-type {\n",
       "        vertical-align: middle;\n",
       "    }\n",
       "\n",
       "    .dataframe tbody tr th {\n",
       "        vertical-align: top;\n",
       "    }\n",
       "\n",
       "    .dataframe thead th {\n",
       "        text-align: right;\n",
       "    }\n",
       "</style>\n",
       "<table border=\"1\" class=\"dataframe\">\n",
       "  <thead>\n",
       "    <tr style=\"text-align: right;\">\n",
       "      <th></th>\n",
       "      <th>Customer_id</th>\n",
       "      <th>Converted</th>\n",
       "      <th>Conv_Prob</th>\n",
       "      <th>final_predicted</th>\n",
       "    </tr>\n",
       "  </thead>\n",
       "  <tbody>\n",
       "    <tr>\n",
       "      <th>0</th>\n",
       "      <td>4269</td>\n",
       "      <td>1</td>\n",
       "      <td>0.794436</td>\n",
       "      <td>1</td>\n",
       "    </tr>\n",
       "    <tr>\n",
       "      <th>1</th>\n",
       "      <td>2376</td>\n",
       "      <td>1</td>\n",
       "      <td>0.962305</td>\n",
       "      <td>1</td>\n",
       "    </tr>\n",
       "    <tr>\n",
       "      <th>2</th>\n",
       "      <td>7766</td>\n",
       "      <td>1</td>\n",
       "      <td>0.356315</td>\n",
       "      <td>1</td>\n",
       "    </tr>\n",
       "    <tr>\n",
       "      <th>3</th>\n",
       "      <td>9199</td>\n",
       "      <td>0</td>\n",
       "      <td>0.069563</td>\n",
       "      <td>0</td>\n",
       "    </tr>\n",
       "    <tr>\n",
       "      <th>4</th>\n",
       "      <td>4359</td>\n",
       "      <td>1</td>\n",
       "      <td>0.870569</td>\n",
       "      <td>1</td>\n",
       "    </tr>\n",
       "  </tbody>\n",
       "</table>\n",
       "</div>"
      ],
      "text/plain": [
       "   Customer_id  Converted  Conv_Prob  final_predicted\n",
       "0         4269          1   0.794436                1\n",
       "1         2376          1   0.962305                1\n",
       "2         7766          1   0.356315                1\n",
       "3         9199          0   0.069563                0\n",
       "4         4359          1   0.870569                1"
      ]
     },
     "execution_count": 234,
     "metadata": {},
     "output_type": "execute_result"
    }
   ],
   "source": [
    "y_pred_final.head()"
   ]
  },
  {
   "cell_type": "code",
   "execution_count": 235,
   "metadata": {
    "scrolled": true
   },
   "outputs": [
    {
     "data": {
      "text/plain": [
       "0.8023088023088023"
      ]
     },
     "execution_count": 235,
     "metadata": {},
     "output_type": "execute_result"
    }
   ],
   "source": [
    "# Let's check the overall accuracy.\n",
    "metrics.accuracy_score(y_pred_final.Converted, y_pred_final.final_predicted)"
   ]
  },
  {
   "cell_type": "code",
   "execution_count": 236,
   "metadata": {
    "scrolled": true
   },
   "outputs": [
    {
     "data": {
      "text/plain": [
       "array([[1345,  332],\n",
       "       [ 216,  879]], dtype=int64)"
      ]
     },
     "execution_count": 236,
     "metadata": {},
     "output_type": "execute_result"
    }
   ],
   "source": [
    "confusion2 = metrics.confusion_matrix(y_pred_final.Converted, y_pred_final.final_predicted )\n",
    "confusion2"
   ]
  },
  {
   "cell_type": "code",
   "execution_count": 237,
   "metadata": {},
   "outputs": [],
   "source": [
    "TP = confusion2[1,1] # true positive \n",
    "TN = confusion2[0,0] # true negatives\n",
    "FP = confusion2[0,1] # false positives\n",
    "FN = confusion2[1,0] # false negatives"
   ]
  },
  {
   "cell_type": "code",
   "execution_count": 238,
   "metadata": {},
   "outputs": [
    {
     "data": {
      "text/plain": [
       "0.8027397260273973"
      ]
     },
     "execution_count": 238,
     "metadata": {},
     "output_type": "execute_result"
    }
   ],
   "source": [
    "# Let's see the sensitivity of our logistic regression model\n",
    "TP / float(TP+FN)"
   ]
  },
  {
   "cell_type": "code",
   "execution_count": 239,
   "metadata": {},
   "outputs": [
    {
     "data": {
      "text/plain": [
       "0.8020274299344067"
      ]
     },
     "execution_count": 239,
     "metadata": {},
     "output_type": "execute_result"
    }
   ],
   "source": [
    "# Let us calculate specificity\n",
    "TN / float(TN+FP)"
   ]
  },
  {
   "cell_type": "markdown",
   "metadata": {},
   "source": [
    "- So we see that the accuracy and the specificity of our model is over 80% which is what we need from our model"
   ]
  },
  {
   "cell_type": "markdown",
   "metadata": {},
   "source": [
    "### Getting the final lead scores\n",
    "- Lead score = Conversion probability * 100"
   ]
  },
  {
   "cell_type": "code",
   "execution_count": 240,
   "metadata": {},
   "outputs": [
    {
     "data": {
      "text/html": [
       "<div>\n",
       "<style scoped>\n",
       "    .dataframe tbody tr th:only-of-type {\n",
       "        vertical-align: middle;\n",
       "    }\n",
       "\n",
       "    .dataframe tbody tr th {\n",
       "        vertical-align: top;\n",
       "    }\n",
       "\n",
       "    .dataframe thead th {\n",
       "        text-align: right;\n",
       "    }\n",
       "</style>\n",
       "<table border=\"1\" class=\"dataframe\">\n",
       "  <thead>\n",
       "    <tr style=\"text-align: right;\">\n",
       "      <th></th>\n",
       "      <th>Customer_id</th>\n",
       "      <th>Conv_Prob</th>\n",
       "      <th>lead_score</th>\n",
       "    </tr>\n",
       "  </thead>\n",
       "  <tbody>\n",
       "    <tr>\n",
       "      <th>0</th>\n",
       "      <td>1871</td>\n",
       "      <td>0.275614</td>\n",
       "      <td>27.561383</td>\n",
       "    </tr>\n",
       "    <tr>\n",
       "      <th>1</th>\n",
       "      <td>6795</td>\n",
       "      <td>0.258929</td>\n",
       "      <td>25.892874</td>\n",
       "    </tr>\n",
       "    <tr>\n",
       "      <th>2</th>\n",
       "      <td>3516</td>\n",
       "      <td>0.320832</td>\n",
       "      <td>32.083178</td>\n",
       "    </tr>\n",
       "    <tr>\n",
       "      <th>3</th>\n",
       "      <td>8105</td>\n",
       "      <td>0.858016</td>\n",
       "      <td>85.801560</td>\n",
       "    </tr>\n",
       "    <tr>\n",
       "      <th>4</th>\n",
       "      <td>3934</td>\n",
       "      <td>0.205746</td>\n",
       "      <td>20.574571</td>\n",
       "    </tr>\n",
       "  </tbody>\n",
       "</table>\n",
       "</div>"
      ],
      "text/plain": [
       "   Customer_id  Conv_Prob  lead_score\n",
       "0         1871   0.275614   27.561383\n",
       "1         6795   0.258929   25.892874\n",
       "2         3516   0.320832   32.083178\n",
       "3         8105   0.858016   85.801560\n",
       "4         3934   0.205746   20.574571"
      ]
     },
     "execution_count": 240,
     "metadata": {},
     "output_type": "execute_result"
    }
   ],
   "source": [
    "Y_train_pred_final2[['Customer_id','Conv_Prob']].head()\n",
    "\n",
    "final_leads = pd.concat([Y_train_pred_final2[['Customer_id','Conv_Prob']],y_pred_final[['Customer_id','Conv_Prob']]],axis=0)\n",
    "final_leads['lead_score'] = final_leads.Conv_Prob.map(lambda x:x*100)\n",
    "final_leads.head()"
   ]
  },
  {
   "cell_type": "code",
   "execution_count": 241,
   "metadata": {},
   "outputs": [
    {
     "data": {
      "text/html": [
       "<div>\n",
       "<style scoped>\n",
       "    .dataframe tbody tr th:only-of-type {\n",
       "        vertical-align: middle;\n",
       "    }\n",
       "\n",
       "    .dataframe tbody tr th {\n",
       "        vertical-align: top;\n",
       "    }\n",
       "\n",
       "    .dataframe thead th {\n",
       "        text-align: right;\n",
       "    }\n",
       "</style>\n",
       "<table border=\"1\" class=\"dataframe\">\n",
       "  <thead>\n",
       "    <tr style=\"text-align: right;\">\n",
       "      <th></th>\n",
       "      <th>Prospect ID</th>\n",
       "      <th>Lead Number</th>\n",
       "      <th>lead_score</th>\n",
       "    </tr>\n",
       "  </thead>\n",
       "  <tbody>\n",
       "    <tr>\n",
       "      <th>0</th>\n",
       "      <td>7927b2df-8bba-4d29-b9a2-b6e0beafe620</td>\n",
       "      <td>660737</td>\n",
       "      <td>20.574571</td>\n",
       "    </tr>\n",
       "    <tr>\n",
       "      <th>1</th>\n",
       "      <td>2a272436-5132-4136-86fa-dcc88c88f482</td>\n",
       "      <td>660728</td>\n",
       "      <td>33.853469</td>\n",
       "    </tr>\n",
       "    <tr>\n",
       "      <th>2</th>\n",
       "      <td>8cc8c611-a219-4f35-ad23-fdfd2656bd8a</td>\n",
       "      <td>660727</td>\n",
       "      <td>74.678867</td>\n",
       "    </tr>\n",
       "    <tr>\n",
       "      <th>3</th>\n",
       "      <td>0cc2df48-7cf4-4e39-9de9-19797f9b38cc</td>\n",
       "      <td>660719</td>\n",
       "      <td>14.094183</td>\n",
       "    </tr>\n",
       "    <tr>\n",
       "      <th>4</th>\n",
       "      <td>3256f628-e534-4826-9d63-4a8b88782852</td>\n",
       "      <td>660681</td>\n",
       "      <td>39.426613</td>\n",
       "    </tr>\n",
       "  </tbody>\n",
       "</table>\n",
       "</div>"
      ],
      "text/plain": [
       "                            Prospect ID  Lead Number  lead_score\n",
       "0  7927b2df-8bba-4d29-b9a2-b6e0beafe620       660737   20.574571\n",
       "1  2a272436-5132-4136-86fa-dcc88c88f482       660728   33.853469\n",
       "2  8cc8c611-a219-4f35-ad23-fdfd2656bd8a       660727   74.678867\n",
       "3  0cc2df48-7cf4-4e39-9de9-19797f9b38cc       660719   14.094183\n",
       "4  3256f628-e534-4826-9d63-4a8b88782852       660681   39.426613"
      ]
     },
     "execution_count": 241,
     "metadata": {},
     "output_type": "execute_result"
    }
   ],
   "source": [
    "final_data_with_lead_score = pd.merge(leads_df_cleaned,final_leads, left_on=leads_df_cleaned.index,right_on='Customer_id')\n",
    "final_data_with_lead_score[['Prospect ID','Lead Number','lead_score']].head()\n"
   ]
  },
  {
   "cell_type": "markdown",
   "metadata": {},
   "source": [
    "### Conclusion\n",
    "    - Getting the top Variables"
   ]
  },
  {
   "cell_type": "code",
   "execution_count": 242,
   "metadata": {},
   "outputs": [
    {
     "data": {
      "text/plain": [
       "lead_origin_Lead Add Form                        3.951625\n",
       "lead_source_Welingak Website                     1.598101\n",
       "last_activity_Had a Phone Conversation           1.516804\n",
       "Total Time Spent on Website                      1.118646\n",
       "lead_source_Olark Chat                           1.079307\n",
       "const                                            0.283685\n",
       "last_activity_Converted to Lead                 -0.914244\n",
       "last_activity_Email Bounced                     -1.125857\n",
       "last_activity_Olark Chat Conversation           -1.242664\n",
       "last_Notable_activity_Email Opened              -1.333803\n",
       "Do Not Email                                    -1.336774\n",
       "last_Notable_activity_Olark Chat Conversation   -1.463693\n",
       "last_Notable_activity_Page Visited on Website   -1.589781\n",
       "last_Notable_activity_Modified                  -1.718242\n",
       "last_Notable_activity_Email Link Clicked        -1.854570\n",
       "dtype: float64"
      ]
     },
     "execution_count": 242,
     "metadata": {},
     "output_type": "execute_result"
    }
   ],
   "source": [
    "#sort the parameters of the final model in descending order\n",
    "lm2.params.sort_values(ascending = False)"
   ]
  },
  {
   "cell_type": "markdown",
   "metadata": {},
   "source": [
    "- As we see above, the top 3 variables are:\n",
    "    - Lead origin\n",
    "    - Lead Source\n",
    "    - Last Activity"
   ]
  },
  {
   "cell_type": "markdown",
   "metadata": {},
   "source": [
    "- Top 3 categorical/dummy variables \n",
    "    - lead_origin_Lead Add Form\n",
    "    - lead_source_Welingak Website\n",
    "    - last_activity_Had a Phone Conversation  "
   ]
  },
  {
   "cell_type": "code",
   "execution_count": null,
   "metadata": {},
   "outputs": [],
   "source": []
  }
 ],
 "metadata": {
  "kernelspec": {
   "display_name": "Python 3",
   "language": "python",
   "name": "python3"
  },
  "language_info": {
   "codemirror_mode": {
    "name": "ipython",
    "version": 3
   },
   "file_extension": ".py",
   "mimetype": "text/x-python",
   "name": "python",
   "nbconvert_exporter": "python",
   "pygments_lexer": "ipython3",
   "version": "3.6.5"
  }
 },
 "nbformat": 4,
 "nbformat_minor": 2
}
